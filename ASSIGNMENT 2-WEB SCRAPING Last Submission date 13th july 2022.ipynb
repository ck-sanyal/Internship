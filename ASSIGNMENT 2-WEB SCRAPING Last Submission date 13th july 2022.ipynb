{
 "cells": [
  {
   "cell_type": "markdown",
   "id": "26ef99a2",
   "metadata": {},
   "source": [
    "# Q1: Write a python program to scrape data for “Data Analyst” Job position in “Bangalore” location. You have to scrape the job-title, job-location, company_name, experience_required. You have to scrape first 10jobs data.\n",
    "This task will be done in following steps:\n",
    "1. First get the webpage https://www.naukri.com/\n",
    "2. Enter “Data Analyst” in “Skill, Designations, Companies” field and enter “Bangalore” in “enter the\n",
    "location” field.\n",
    "3. Then click the search button.\n",
    "4. Then scrape the data for the first 10 jobs results you get.\n",
    "5. Finally create a dataframe of the scraped data."
   ]
  },
  {
   "cell_type": "code",
   "execution_count": 2,
   "id": "2d074b93",
   "metadata": {},
   "outputs": [],
   "source": [
    "#Let's import all required libraries\n",
    "import selenium\n",
    "from selenium import webdriver\n",
    "import pandas as pd\n",
    "import warnings\n",
    "warnings.filterwarnings(\"ignore\")\n"
   ]
  },
  {
   "cell_type": "code",
   "execution_count": 2,
   "id": "31ee36fe",
   "metadata": {},
   "outputs": [],
   "source": [
    "driver=webdriver.Chrome('chromedriver.exe')"
   ]
  },
  {
   "cell_type": "code",
   "execution_count": 3,
   "id": "9a6f0b7d",
   "metadata": {},
   "outputs": [],
   "source": [
    "from selenium.webdriver.common.by import By"
   ]
  },
  {
   "cell_type": "code",
   "execution_count": 4,
   "id": "2e89bad3",
   "metadata": {},
   "outputs": [],
   "source": [
    "url='https://www.naukri.com/'\n",
    "driver.get(url)"
   ]
  },
  {
   "cell_type": "code",
   "execution_count": 5,
   "id": "fec57d4f",
   "metadata": {},
   "outputs": [
    {
     "data": {
      "text/plain": [
       "<selenium.webdriver.remote.webelement.WebElement (session=\"940abfa2e1ece7dcb1d9317803451ef0\", element=\"86521627-bd63-4649-95e8-1ebb7af27d9a\")>"
      ]
     },
     "execution_count": 5,
     "metadata": {},
     "output_type": "execute_result"
    }
   ],
   "source": [
    "#finding web element for search job bar using id\n",
    "search_job=driver.find_element(By.CLASS_NAME,\"suggestor-input\")\n",
    "search_job"
   ]
  },
  {
   "cell_type": "code",
   "execution_count": 6,
   "id": "49a24137",
   "metadata": {},
   "outputs": [],
   "source": [
    "#write on search bar\n",
    "search_job.send_keys(\"Data Analyst\")"
   ]
  },
  {
   "cell_type": "code",
   "execution_count": 7,
   "id": "f7cac320",
   "metadata": {},
   "outputs": [
    {
     "data": {
      "text/plain": [
       "<selenium.webdriver.remote.webelement.WebElement (session=\"940abfa2e1ece7dcb1d9317803451ef0\", element=\"5f62bcd5-2377-467a-8109-6a80a3249760\")>"
      ]
     },
     "execution_count": 7,
     "metadata": {},
     "output_type": "execute_result"
    }
   ],
   "source": [
    "search_locn=driver.find_element(By.XPATH,\"/html/body/div[1]/div[2]/div[3]/div/div/div[5]/div/div/div/input\")\n",
    "search_locn"
   ]
  },
  {
   "cell_type": "code",
   "execution_count": 8,
   "id": "b9860398",
   "metadata": {},
   "outputs": [],
   "source": [
    "#Finding web element for job location bar\n",
    "search_locn.send_keys(\"Banglore\")"
   ]
  },
  {
   "cell_type": "code",
   "execution_count": 9,
   "id": "4ba4ab6e",
   "metadata": {},
   "outputs": [
    {
     "data": {
      "text/plain": [
       "<selenium.webdriver.remote.webelement.WebElement (session=\"940abfa2e1ece7dcb1d9317803451ef0\", element=\"cddd0966-ca71-4573-be77-5499a23c909d\")>"
      ]
     },
     "execution_count": 9,
     "metadata": {},
     "output_type": "execute_result"
    }
   ],
   "source": [
    "#clicking using absolute xpath function\n",
    "search_btn=driver.find_element(By.XPATH,'/html/body/div[1]/div[2]/div[3]/div/div/div[6]')\n",
    "search_btn"
   ]
  },
  {
   "cell_type": "code",
   "execution_count": 10,
   "id": "207892d0",
   "metadata": {},
   "outputs": [],
   "source": [
    "search_btn.click()"
   ]
  },
  {
   "cell_type": "markdown",
   "id": "a7c77eda",
   "metadata": {},
   "source": [
    "# Extracting job titles"
   ]
  },
  {
   "cell_type": "code",
   "execution_count": 11,
   "id": "06d3ceb9",
   "metadata": {},
   "outputs": [
    {
     "data": {
      "text/plain": [
       "[<selenium.webdriver.remote.webelement.WebElement (session=\"940abfa2e1ece7dcb1d9317803451ef0\", element=\"e130a846-aae3-47c3-907d-019cb0a4209b\")>,\n",
       " <selenium.webdriver.remote.webelement.WebElement (session=\"940abfa2e1ece7dcb1d9317803451ef0\", element=\"12bd39dc-2dc7-432c-8067-537848afd959\")>,\n",
       " <selenium.webdriver.remote.webelement.WebElement (session=\"940abfa2e1ece7dcb1d9317803451ef0\", element=\"6aa49be8-effe-491d-810f-6592c3267a3c\")>,\n",
       " <selenium.webdriver.remote.webelement.WebElement (session=\"940abfa2e1ece7dcb1d9317803451ef0\", element=\"f8e9c1e5-ad39-4462-ae2c-b96bf4f72730\")>,\n",
       " <selenium.webdriver.remote.webelement.WebElement (session=\"940abfa2e1ece7dcb1d9317803451ef0\", element=\"ad57c05e-be68-4112-b00a-e0945651ff6f\")>,\n",
       " <selenium.webdriver.remote.webelement.WebElement (session=\"940abfa2e1ece7dcb1d9317803451ef0\", element=\"9b884f37-530c-47fd-8278-2307c58f3f3d\")>,\n",
       " <selenium.webdriver.remote.webelement.WebElement (session=\"940abfa2e1ece7dcb1d9317803451ef0\", element=\"4ce9ab3a-3e95-456d-a348-a1b58ac7d822\")>,\n",
       " <selenium.webdriver.remote.webelement.WebElement (session=\"940abfa2e1ece7dcb1d9317803451ef0\", element=\"f97e3a7e-e334-4960-8e10-b08d1b0dd5c3\")>,\n",
       " <selenium.webdriver.remote.webelement.WebElement (session=\"940abfa2e1ece7dcb1d9317803451ef0\", element=\"d9ef474b-4e16-454b-8b8a-06875a38456d\")>,\n",
       " <selenium.webdriver.remote.webelement.WebElement (session=\"940abfa2e1ece7dcb1d9317803451ef0\", element=\"9522c489-f507-4f0b-9e1a-48d2d8307fe3\")>,\n",
       " <selenium.webdriver.remote.webelement.WebElement (session=\"940abfa2e1ece7dcb1d9317803451ef0\", element=\"4e5807ab-7aaf-486c-afac-a8972df67c39\")>,\n",
       " <selenium.webdriver.remote.webelement.WebElement (session=\"940abfa2e1ece7dcb1d9317803451ef0\", element=\"5b6225e0-c582-4e95-bf29-95aa3a160a24\")>,\n",
       " <selenium.webdriver.remote.webelement.WebElement (session=\"940abfa2e1ece7dcb1d9317803451ef0\", element=\"6262ece0-3a3e-4e11-a589-2ea7e040615e\")>,\n",
       " <selenium.webdriver.remote.webelement.WebElement (session=\"940abfa2e1ece7dcb1d9317803451ef0\", element=\"26ca7e50-4943-4cc3-b459-7b632450e5f6\")>,\n",
       " <selenium.webdriver.remote.webelement.WebElement (session=\"940abfa2e1ece7dcb1d9317803451ef0\", element=\"77dc58e9-8e6e-4784-86fb-c08ee1be9f1e\")>,\n",
       " <selenium.webdriver.remote.webelement.WebElement (session=\"940abfa2e1ece7dcb1d9317803451ef0\", element=\"6e68fd5c-c849-4455-8eb3-3100c100809b\")>,\n",
       " <selenium.webdriver.remote.webelement.WebElement (session=\"940abfa2e1ece7dcb1d9317803451ef0\", element=\"94cbc572-5483-47bd-a5f2-72383d3a6553\")>,\n",
       " <selenium.webdriver.remote.webelement.WebElement (session=\"940abfa2e1ece7dcb1d9317803451ef0\", element=\"c46da616-de3b-4c76-a118-9d2a251bee2c\")>,\n",
       " <selenium.webdriver.remote.webelement.WebElement (session=\"940abfa2e1ece7dcb1d9317803451ef0\", element=\"5889ba0e-31cd-40d8-af41-0791150855ed\")>,\n",
       " <selenium.webdriver.remote.webelement.WebElement (session=\"940abfa2e1ece7dcb1d9317803451ef0\", element=\"59fb7dc1-e73b-40f6-8649-40025956256f\")>]"
      ]
     },
     "execution_count": 11,
     "metadata": {},
     "output_type": "execute_result"
    }
   ],
   "source": [
    "#Let's extract all web elements having job titles\n",
    "title_tags=driver.find_elements(By.XPATH,'//a[@class=\"title fw500 ellipsis\"]')\n",
    "title_tags\n"
   ]
  },
  {
   "cell_type": "code",
   "execution_count": 12,
   "id": "b07c8e4a",
   "metadata": {},
   "outputs": [
    {
     "data": {
      "text/plain": [
       "20"
      ]
     },
     "execution_count": 12,
     "metadata": {},
     "output_type": "execute_result"
    }
   ],
   "source": [
    "len(title_tags)"
   ]
  },
  {
   "cell_type": "code",
   "execution_count": 13,
   "id": "77f0ea1e",
   "metadata": {},
   "outputs": [
    {
     "data": {
      "text/plain": [
       "20"
      ]
     },
     "execution_count": 13,
     "metadata": {},
     "output_type": "execute_result"
    }
   ],
   "source": [
    "#Now the text of job title is inside the web elements extracted above \n",
    "# so we will run a for loop to iterate over the tags and will extract\n",
    "job_titles=[]\n",
    "for i in title_tags:\n",
    "    job_titles.append(i.text)\n",
    "    \n",
    "    \n",
    "len(job_titles)"
   ]
  },
  {
   "cell_type": "code",
   "execution_count": 14,
   "id": "595a6530",
   "metadata": {},
   "outputs": [
    {
     "data": {
      "text/plain": [
       "['Sr.Business Data Analyst',\n",
       " 'Sr Data Analyst',\n",
       " 'Senior Data Analysis Analyst',\n",
       " 'Job opportunity For Data Analyst at Trellance - India',\n",
       " 'Data Analyst',\n",
       " 'Senior Data Analyst',\n",
       " 'Associate Data Analyst',\n",
       " 'Associate Data Analyst',\n",
       " 'Data Analyst/Senior Data Analyst',\n",
       " 'Financial Data Analyst',\n",
       " 'Data Analyst II',\n",
       " 'Senior Data Analyst II',\n",
       " 'Senior Data Management Analyst',\n",
       " 'Happay - Data Analyst',\n",
       " 'Data Analyst',\n",
       " 'Data Analyst - CRM Platform',\n",
       " 'Financial Data Analyst - FIG',\n",
       " 'Lead Financial Data Analyst',\n",
       " 'Financial Data Analyst - FIG',\n",
       " 'Software Technical Expert - Data Analyst']"
      ]
     },
     "execution_count": 14,
     "metadata": {},
     "output_type": "execute_result"
    }
   ],
   "source": [
    "job_titles"
   ]
  },
  {
   "cell_type": "code",
   "execution_count": 15,
   "id": "8a8132a8",
   "metadata": {},
   "outputs": [
    {
     "data": {
      "text/plain": [
       "['Sr.Business Data Analyst',\n",
       " 'Sr Data Analyst',\n",
       " 'Senior Data Analysis Analyst',\n",
       " 'Job opportunity For Data Analyst at Trellance - India',\n",
       " 'Data Analyst',\n",
       " 'Senior Data Analyst',\n",
       " 'Associate Data Analyst',\n",
       " 'Associate Data Analyst',\n",
       " 'Data Analyst/Senior Data Analyst',\n",
       " 'Financial Data Analyst']"
      ]
     },
     "execution_count": 15,
     "metadata": {},
     "output_type": "execute_result"
    }
   ],
   "source": [
    "job_titles=job_titles[0:10]\n",
    "job_titles"
   ]
  },
  {
   "cell_type": "markdown",
   "id": "be471c40",
   "metadata": {},
   "source": [
    "# Extracting company names"
   ]
  },
  {
   "cell_type": "code",
   "execution_count": 16,
   "id": "cfa46a7f",
   "metadata": {},
   "outputs": [
    {
     "data": {
      "text/plain": [
       "20"
      ]
     },
     "execution_count": 16,
     "metadata": {},
     "output_type": "execute_result"
    }
   ],
   "source": [
    "#Let's extract all web elements having company names\n",
    "company_tags=driver.find_elements(By.XPATH,'//a[@class=\"subTitle ellipsis fleft\"]')\n",
    "len(company_tags)"
   ]
  },
  {
   "cell_type": "code",
   "execution_count": 17,
   "id": "d46b1744",
   "metadata": {},
   "outputs": [
    {
     "data": {
      "text/plain": [
       "20"
      ]
     },
     "execution_count": 17,
     "metadata": {},
     "output_type": "execute_result"
    }
   ],
   "source": [
    "#so we will run a for loop to iterate over the tags and will extract \n",
    "\n",
    "company_names=[]\n",
    "\n",
    "for i in company_tags:\n",
    "    company_names.append(i.text)\n",
    "len(company_names)"
   ]
  },
  {
   "cell_type": "code",
   "execution_count": 18,
   "id": "b3eeb605",
   "metadata": {},
   "outputs": [
    {
     "data": {
      "text/plain": [
       "['Collabera',\n",
       " 'Thomson Reuters',\n",
       " 'Capco',\n",
       " 'CURise Analytics Pvt. Ltd.',\n",
       " 'Thomson Reuters',\n",
       " 'KrazyBee',\n",
       " 'Optum',\n",
       " 'Optum',\n",
       " 'Meesho',\n",
       " 'Nuance India',\n",
       " 'Cerner',\n",
       " 'Flipkart',\n",
       " 'Wells Fargo',\n",
       " 'Happay-Expense Management Solution for Businesses',\n",
       " 'Kititan Co., Ltd',\n",
       " 'Artech infosystem',\n",
       " \"Moody's\",\n",
       " \"Moody's\",\n",
       " \"Moody's\",\n",
       " 'Schneider Electric']"
      ]
     },
     "execution_count": 18,
     "metadata": {},
     "output_type": "execute_result"
    }
   ],
   "source": [
    "company_names"
   ]
  },
  {
   "cell_type": "code",
   "execution_count": 19,
   "id": "389b1b30",
   "metadata": {},
   "outputs": [
    {
     "data": {
      "text/plain": [
       "['Collabera',\n",
       " 'Thomson Reuters',\n",
       " 'Capco',\n",
       " 'CURise Analytics Pvt. Ltd.',\n",
       " 'Thomson Reuters',\n",
       " 'KrazyBee',\n",
       " 'Optum',\n",
       " 'Optum',\n",
       " 'Meesho',\n",
       " 'Nuance India']"
      ]
     },
     "execution_count": 19,
     "metadata": {},
     "output_type": "execute_result"
    }
   ],
   "source": [
    "company_names=company_names[0:10]\n",
    "company_names"
   ]
  },
  {
   "cell_type": "markdown",
   "id": "c07a85c4",
   "metadata": {},
   "source": [
    "# Extracting Experience"
   ]
  },
  {
   "cell_type": "code",
   "execution_count": 20,
   "id": "c150cc2f",
   "metadata": {},
   "outputs": [
    {
     "data": {
      "text/plain": [
       "20"
      ]
     },
     "execution_count": 20,
     "metadata": {},
     "output_type": "execute_result"
    }
   ],
   "source": [
    "#Let's extract all web elements having experience using parent tag\n",
    "exp_tags=driver.find_elements(By.XPATH,'//li[@class=\"fleft grey-text br2 placeHolderLi experience\"]')\n",
    "len(exp_tags)"
   ]
  },
  {
   "cell_type": "code",
   "execution_count": 21,
   "id": "d81417e2",
   "metadata": {},
   "outputs": [
    {
     "data": {
      "text/plain": [
       "20"
      ]
     },
     "execution_count": 21,
     "metadata": {},
     "output_type": "execute_result"
    }
   ],
   "source": [
    "experience_required=[]\n",
    "\n",
    "for i in exp_tags:\n",
    "    experience_required.append(i.text)\n",
    "len(experience_required)"
   ]
  },
  {
   "cell_type": "code",
   "execution_count": 22,
   "id": "99a6f63c",
   "metadata": {},
   "outputs": [
    {
     "data": {
      "text/plain": [
       "['6-11 Yrs',\n",
       " '5-8 Yrs',\n",
       " '7-12 Yrs',\n",
       " '0-2 Yrs',\n",
       " '2-3 Yrs',\n",
       " '3-6 Yrs',\n",
       " '2-7 Yrs',\n",
       " '1-4 Yrs',\n",
       " '3-6 Yrs',\n",
       " '3-8 Yrs',\n",
       " '2-4 Yrs',\n",
       " '3-6 Yrs',\n",
       " '4-7 Yrs',\n",
       " '1-2 Yrs',\n",
       " '5-10 Yrs',\n",
       " '1-6 Yrs',\n",
       " '1-3 Yrs',\n",
       " '3-5 Yrs',\n",
       " '1-3 Yrs',\n",
       " '3-6 Yrs']"
      ]
     },
     "execution_count": 22,
     "metadata": {},
     "output_type": "execute_result"
    }
   ],
   "source": [
    "experience_required"
   ]
  },
  {
   "cell_type": "code",
   "execution_count": 23,
   "id": "3fd803b0",
   "metadata": {},
   "outputs": [
    {
     "data": {
      "text/plain": [
       "['6-11 Yrs',\n",
       " '5-8 Yrs',\n",
       " '7-12 Yrs',\n",
       " '0-2 Yrs',\n",
       " '2-3 Yrs',\n",
       " '3-6 Yrs',\n",
       " '2-7 Yrs',\n",
       " '1-4 Yrs',\n",
       " '3-6 Yrs',\n",
       " '3-8 Yrs']"
      ]
     },
     "execution_count": 23,
     "metadata": {},
     "output_type": "execute_result"
    }
   ],
   "source": [
    "experience_required=experience_required[0:10]\n",
    "experience_required"
   ]
  },
  {
   "cell_type": "markdown",
   "id": "5e7bde64",
   "metadata": {},
   "source": [
    "# Extracting location"
   ]
  },
  {
   "cell_type": "code",
   "execution_count": 24,
   "id": "7b35b8af",
   "metadata": {},
   "outputs": [
    {
     "data": {
      "text/plain": [
       "20"
      ]
     },
     "execution_count": 24,
     "metadata": {},
     "output_type": "execute_result"
    }
   ],
   "source": [
    "locn_tags=driver.find_elements(By.XPATH,'//li[@class=\"fleft grey-text br2 placeHolderLi location\"]')\n",
    "len(locn_tags)"
   ]
  },
  {
   "cell_type": "code",
   "execution_count": 25,
   "id": "f4ec84cf",
   "metadata": {},
   "outputs": [
    {
     "data": {
      "text/plain": [
       "20"
      ]
     },
     "execution_count": 25,
     "metadata": {},
     "output_type": "execute_result"
    }
   ],
   "source": [
    "Job_location=[]\n",
    "\n",
    "for i in locn_tags:\n",
    "    Job_location.append(i.text)\n",
    "len(Job_location)"
   ]
  },
  {
   "cell_type": "code",
   "execution_count": 26,
   "id": "14824703",
   "metadata": {},
   "outputs": [
    {
     "data": {
      "text/plain": [
       "['Bangalore/Bengaluru, karnataka\\n(WFH during Covid)',\n",
       " 'Bangalore/Bengaluru',\n",
       " 'Pune, Chennai, Bangalore/Bengaluru',\n",
       " 'Ahmedabad, Bangalore/Bengaluru',\n",
       " 'Bangalore/Bengaluru',\n",
       " 'Bangalore/Bengaluru(Old Madras Road)',\n",
       " 'Bangalore/Bengaluru',\n",
       " 'Bangalore/Bengaluru',\n",
       " 'Bangalore/Bengaluru',\n",
       " 'Bangalore/Bengaluru',\n",
       " 'Bangalore/Bengaluru',\n",
       " 'Bangalore/Bengaluru',\n",
       " 'Bangalore/Bengaluru',\n",
       " 'Bangalore/Bengaluru',\n",
       " 'Kolkata, New Delhi, Hyderabad/Secunderabad, Chennai, Bangalore/Bengaluru, Mumbai (All Areas)',\n",
       " 'Mumbai, Hyderabad/Secunderabad, Pune, Chennai, Ahmedabad, Bangalore/Bengaluru',\n",
       " 'Bangalore/Bengaluru',\n",
       " 'Bangalore/Bengaluru',\n",
       " 'Bangalore/Bengaluru',\n",
       " 'Bangalore/Bengaluru']"
      ]
     },
     "execution_count": 26,
     "metadata": {},
     "output_type": "execute_result"
    }
   ],
   "source": [
    "Job_location"
   ]
  },
  {
   "cell_type": "code",
   "execution_count": 27,
   "id": "a134cc0b",
   "metadata": {},
   "outputs": [
    {
     "data": {
      "text/plain": [
       "['Bangalore/Bengaluru, karnataka\\n(WFH during Covid)',\n",
       " 'Bangalore/Bengaluru',\n",
       " 'Pune, Chennai, Bangalore/Bengaluru',\n",
       " 'Ahmedabad, Bangalore/Bengaluru',\n",
       " 'Bangalore/Bengaluru',\n",
       " 'Bangalore/Bengaluru(Old Madras Road)',\n",
       " 'Bangalore/Bengaluru',\n",
       " 'Bangalore/Bengaluru',\n",
       " 'Bangalore/Bengaluru',\n",
       " 'Bangalore/Bengaluru']"
      ]
     },
     "execution_count": 27,
     "metadata": {},
     "output_type": "execute_result"
    }
   ],
   "source": [
    "Job_location=Job_location[0:10]\n",
    "Job_location"
   ]
  },
  {
   "cell_type": "code",
   "execution_count": 28,
   "id": "05fa005b",
   "metadata": {},
   "outputs": [
    {
     "data": {
      "text/plain": [
       "(10, 10, 10, 10)"
      ]
     },
     "execution_count": 28,
     "metadata": {},
     "output_type": "execute_result"
    }
   ],
   "source": [
    "len(job_titles),len(company_names),len(experience_required),len(Job_location)"
   ]
  },
  {
   "cell_type": "code",
   "execution_count": 30,
   "id": "ee2e25bc",
   "metadata": {},
   "outputs": [
    {
     "data": {
      "text/html": [
       "<div>\n",
       "<style scoped>\n",
       "    .dataframe tbody tr th:only-of-type {\n",
       "        vertical-align: middle;\n",
       "    }\n",
       "\n",
       "    .dataframe tbody tr th {\n",
       "        vertical-align: top;\n",
       "    }\n",
       "\n",
       "    .dataframe thead th {\n",
       "        text-align: right;\n",
       "    }\n",
       "</style>\n",
       "<table border=\"1\" class=\"dataframe\">\n",
       "  <thead>\n",
       "    <tr style=\"text-align: right;\">\n",
       "      <th></th>\n",
       "      <th>Job Title</th>\n",
       "      <th>Company_name</th>\n",
       "      <th>Experience_required</th>\n",
       "      <th>Job_Location</th>\n",
       "    </tr>\n",
       "  </thead>\n",
       "  <tbody>\n",
       "    <tr>\n",
       "      <th>0</th>\n",
       "      <td>Sr.Business Data Analyst</td>\n",
       "      <td>Collabera</td>\n",
       "      <td>6-11 Yrs</td>\n",
       "      <td>Bangalore/Bengaluru, karnataka\\n(WFH during Co...</td>\n",
       "    </tr>\n",
       "    <tr>\n",
       "      <th>1</th>\n",
       "      <td>Sr Data Analyst</td>\n",
       "      <td>Thomson Reuters</td>\n",
       "      <td>5-8 Yrs</td>\n",
       "      <td>Bangalore/Bengaluru</td>\n",
       "    </tr>\n",
       "    <tr>\n",
       "      <th>2</th>\n",
       "      <td>Senior Data Analysis Analyst</td>\n",
       "      <td>Capco</td>\n",
       "      <td>7-12 Yrs</td>\n",
       "      <td>Pune, Chennai, Bangalore/Bengaluru</td>\n",
       "    </tr>\n",
       "    <tr>\n",
       "      <th>3</th>\n",
       "      <td>Job opportunity For Data Analyst at Trellance ...</td>\n",
       "      <td>CURise Analytics Pvt. Ltd.</td>\n",
       "      <td>0-2 Yrs</td>\n",
       "      <td>Ahmedabad, Bangalore/Bengaluru</td>\n",
       "    </tr>\n",
       "    <tr>\n",
       "      <th>4</th>\n",
       "      <td>Data Analyst</td>\n",
       "      <td>Thomson Reuters</td>\n",
       "      <td>2-3 Yrs</td>\n",
       "      <td>Bangalore/Bengaluru</td>\n",
       "    </tr>\n",
       "    <tr>\n",
       "      <th>5</th>\n",
       "      <td>Senior Data Analyst</td>\n",
       "      <td>KrazyBee</td>\n",
       "      <td>3-6 Yrs</td>\n",
       "      <td>Bangalore/Bengaluru(Old Madras Road)</td>\n",
       "    </tr>\n",
       "    <tr>\n",
       "      <th>6</th>\n",
       "      <td>Associate Data Analyst</td>\n",
       "      <td>Optum</td>\n",
       "      <td>2-7 Yrs</td>\n",
       "      <td>Bangalore/Bengaluru</td>\n",
       "    </tr>\n",
       "    <tr>\n",
       "      <th>7</th>\n",
       "      <td>Associate Data Analyst</td>\n",
       "      <td>Optum</td>\n",
       "      <td>1-4 Yrs</td>\n",
       "      <td>Bangalore/Bengaluru</td>\n",
       "    </tr>\n",
       "    <tr>\n",
       "      <th>8</th>\n",
       "      <td>Data Analyst/Senior Data Analyst</td>\n",
       "      <td>Meesho</td>\n",
       "      <td>3-6 Yrs</td>\n",
       "      <td>Bangalore/Bengaluru</td>\n",
       "    </tr>\n",
       "    <tr>\n",
       "      <th>9</th>\n",
       "      <td>Financial Data Analyst</td>\n",
       "      <td>Nuance India</td>\n",
       "      <td>3-8 Yrs</td>\n",
       "      <td>Bangalore/Bengaluru</td>\n",
       "    </tr>\n",
       "  </tbody>\n",
       "</table>\n",
       "</div>"
      ],
      "text/plain": [
       "                                           Job Title  \\\n",
       "0                           Sr.Business Data Analyst   \n",
       "1                                    Sr Data Analyst   \n",
       "2                       Senior Data Analysis Analyst   \n",
       "3  Job opportunity For Data Analyst at Trellance ...   \n",
       "4                                       Data Analyst   \n",
       "5                                Senior Data Analyst   \n",
       "6                             Associate Data Analyst   \n",
       "7                             Associate Data Analyst   \n",
       "8                   Data Analyst/Senior Data Analyst   \n",
       "9                             Financial Data Analyst   \n",
       "\n",
       "                 Company_name Experience_required  \\\n",
       "0                   Collabera            6-11 Yrs   \n",
       "1             Thomson Reuters             5-8 Yrs   \n",
       "2                       Capco            7-12 Yrs   \n",
       "3  CURise Analytics Pvt. Ltd.             0-2 Yrs   \n",
       "4             Thomson Reuters             2-3 Yrs   \n",
       "5                    KrazyBee             3-6 Yrs   \n",
       "6                       Optum             2-7 Yrs   \n",
       "7                       Optum             1-4 Yrs   \n",
       "8                      Meesho             3-6 Yrs   \n",
       "9                Nuance India             3-8 Yrs   \n",
       "\n",
       "                                        Job_Location  \n",
       "0  Bangalore/Bengaluru, karnataka\\n(WFH during Co...  \n",
       "1                                Bangalore/Bengaluru  \n",
       "2                 Pune, Chennai, Bangalore/Bengaluru  \n",
       "3                     Ahmedabad, Bangalore/Bengaluru  \n",
       "4                                Bangalore/Bengaluru  \n",
       "5               Bangalore/Bengaluru(Old Madras Road)  \n",
       "6                                Bangalore/Bengaluru  \n",
       "7                                Bangalore/Bengaluru  \n",
       "8                                Bangalore/Bengaluru  \n",
       "9                                Bangalore/Bengaluru  "
      ]
     },
     "execution_count": 30,
     "metadata": {},
     "output_type": "execute_result"
    }
   ],
   "source": [
    "jobs=pd.DataFrame()\n",
    "jobs['Job Title']=job_titles\n",
    "jobs['Company_name']= company_names\n",
    "jobs['Experience_required']=experience_required\n",
    "jobs['Job_Location']=Job_location\n",
    "jobs"
   ]
  },
  {
   "cell_type": "code",
   "execution_count": null,
   "id": "6c108697",
   "metadata": {},
   "outputs": [],
   "source": []
  },
  {
   "cell_type": "code",
   "execution_count": null,
   "id": "966b7f07",
   "metadata": {},
   "outputs": [],
   "source": []
  },
  {
   "cell_type": "markdown",
   "id": "83887653",
   "metadata": {},
   "source": [
    "# Q2: Write a python program to scrape data for “Data Scientist” Job position in “Bangalore” location. You have to scrape the job-title, job-location, company_name. You have to scrape first 10 jobs data.\n",
    "This task will be done in following steps:\n",
    "1. First get the webpage https://www.naukri.com/\n",
    "2. Enter “Data Scientist” in “Skill, Designations, Companies” field and enter “Bangalore” in “enter the\n",
    "location” field.\n",
    "3. Then click the search button.\n",
    "4. Then scrape the data for the first 10 jobs results you get.\n",
    "5. Finally create a dataframe of the scraped data."
   ]
  },
  {
   "cell_type": "code",
   "execution_count": 31,
   "id": "85d5fadc",
   "metadata": {},
   "outputs": [],
   "source": [
    "url='https://www.naukri.com/'\n",
    "driver.get(url)"
   ]
  },
  {
   "cell_type": "code",
   "execution_count": 32,
   "id": "e57dd877",
   "metadata": {},
   "outputs": [
    {
     "data": {
      "text/plain": [
       "<selenium.webdriver.remote.webelement.WebElement (session=\"940abfa2e1ece7dcb1d9317803451ef0\", element=\"4eeabe2f-8691-4a92-ad90-01466e468ed3\")>"
      ]
     },
     "execution_count": 32,
     "metadata": {},
     "output_type": "execute_result"
    }
   ],
   "source": [
    "#finding web element for search job bar using id\n",
    "search_job=driver.find_element(By.CLASS_NAME,\"suggestor-input\")\n",
    "search_job"
   ]
  },
  {
   "cell_type": "code",
   "execution_count": 33,
   "id": "5563362e",
   "metadata": {},
   "outputs": [],
   "source": [
    "#write on search bar\n",
    "search_job.send_keys(\"Data Scientist\")"
   ]
  },
  {
   "cell_type": "code",
   "execution_count": 34,
   "id": "091f0478",
   "metadata": {},
   "outputs": [
    {
     "data": {
      "text/plain": [
       "<selenium.webdriver.remote.webelement.WebElement (session=\"940abfa2e1ece7dcb1d9317803451ef0\", element=\"98a428e2-8755-4d7b-8d25-7a8609eb8082\")>"
      ]
     },
     "execution_count": 34,
     "metadata": {},
     "output_type": "execute_result"
    }
   ],
   "source": [
    "#finding web element for search location bar using relative xpath\n",
    "\n",
    "search_locn=driver.find_element(By.XPATH,\"/html/body/div[1]/div[2]/div[3]/div/div/div[5]/div/div/div/input\")\n",
    "search_locn"
   ]
  },
  {
   "cell_type": "code",
   "execution_count": 35,
   "id": "ef0b65b8",
   "metadata": {},
   "outputs": [],
   "source": [
    "#Finding web element for job location bar\n",
    "search_locn.send_keys(\"Bangalore\")"
   ]
  },
  {
   "cell_type": "code",
   "execution_count": 36,
   "id": "63450ba4",
   "metadata": {},
   "outputs": [
    {
     "data": {
      "text/plain": [
       "<selenium.webdriver.remote.webelement.WebElement (session=\"940abfa2e1ece7dcb1d9317803451ef0\", element=\"9d4678ad-b261-40b9-8e2a-ce656eba6cbe\")>"
      ]
     },
     "execution_count": 36,
     "metadata": {},
     "output_type": "execute_result"
    }
   ],
   "source": [
    "#clicking using absolute xpath function\n",
    "search_btn=driver.find_element(By.XPATH,'/html/body/div[1]/div[2]/div[3]/div/div/div[6]')\n",
    "search_btn"
   ]
  },
  {
   "cell_type": "code",
   "execution_count": 37,
   "id": "a7490d3b",
   "metadata": {},
   "outputs": [],
   "source": [
    "search_btn.click()"
   ]
  },
  {
   "cell_type": "markdown",
   "id": "e4b8a8f6",
   "metadata": {},
   "source": [
    "# Extracting job titles"
   ]
  },
  {
   "cell_type": "code",
   "execution_count": 39,
   "id": "da3b3537",
   "metadata": {},
   "outputs": [
    {
     "data": {
      "text/plain": [
       "20"
      ]
     },
     "execution_count": 39,
     "metadata": {},
     "output_type": "execute_result"
    }
   ],
   "source": [
    "#Let's extract all web elements having job titles\n",
    "title_tags=driver.find_elements(By.XPATH,'//a[@class=\"title fw500 ellipsis\"]')\n",
    "len(title_tags)\n"
   ]
  },
  {
   "cell_type": "code",
   "execution_count": 42,
   "id": "7f88962d",
   "metadata": {},
   "outputs": [
    {
     "data": {
      "text/plain": [
       "20"
      ]
     },
     "execution_count": 42,
     "metadata": {},
     "output_type": "execute_result"
    }
   ],
   "source": [
    "job_titles=[]\n",
    "for i in title_tags:\n",
    "    job_titles.append(i.text)\n",
    "    \n",
    "    \n",
    "len(job_titles)"
   ]
  },
  {
   "cell_type": "code",
   "execution_count": 43,
   "id": "4a959813",
   "metadata": {},
   "outputs": [
    {
     "data": {
      "text/plain": [
       "['Data Scientist/ Senior Data Scientist',\n",
       " 'Urgent Job Opening For AI Practitioner - Data Science at Wipro Holmes',\n",
       " 'Dataiku Consultant',\n",
       " 'Data Scientist',\n",
       " 'Data & Analytics Tech - Informatica Cloud- Senior Associate',\n",
       " 'Data Scientist: Advanced Analytics',\n",
       " 'Research Scientist',\n",
       " 'Data Science - Senior Data Scientist - Analytics',\n",
       " 'Principal - Data Scientist',\n",
       " 'Research and Development -AI/ML -(PhD )',\n",
       " 'Opportunity For Data Scientist - Female Candidates ONLY',\n",
       " 'Senior Data Science Engineer',\n",
       " 'Data Science - Engineering Manager',\n",
       " 'Data Scientist',\n",
       " 'Data Scientist- Assistant Manager/Manager',\n",
       " 'EY GBS - Assistant Director - Data Science (10+ years), Bangalore',\n",
       " 'Data Scientist',\n",
       " 'Data Scientist, Personalization',\n",
       " 'AWS Sagemaker',\n",
       " 'Data Scientist']"
      ]
     },
     "execution_count": 43,
     "metadata": {},
     "output_type": "execute_result"
    }
   ],
   "source": [
    "job_titles"
   ]
  },
  {
   "cell_type": "code",
   "execution_count": 44,
   "id": "170332e9",
   "metadata": {},
   "outputs": [
    {
     "data": {
      "text/plain": [
       "['Data Scientist/ Senior Data Scientist',\n",
       " 'Urgent Job Opening For AI Practitioner - Data Science at Wipro Holmes',\n",
       " 'Dataiku Consultant',\n",
       " 'Data Scientist',\n",
       " 'Data & Analytics Tech - Informatica Cloud- Senior Associate',\n",
       " 'Data Scientist: Advanced Analytics',\n",
       " 'Research Scientist',\n",
       " 'Data Science - Senior Data Scientist - Analytics',\n",
       " 'Principal - Data Scientist',\n",
       " 'Research and Development -AI/ML -(PhD )']"
      ]
     },
     "execution_count": 44,
     "metadata": {},
     "output_type": "execute_result"
    }
   ],
   "source": [
    "job_titles=job_titles[0:10]\n",
    "job_titles"
   ]
  },
  {
   "cell_type": "markdown",
   "id": "7b658abb",
   "metadata": {},
   "source": [
    "# Extracting company names"
   ]
  },
  {
   "cell_type": "code",
   "execution_count": 60,
   "id": "212fc93d",
   "metadata": {},
   "outputs": [
    {
     "data": {
      "text/plain": [
       "20"
      ]
     },
     "execution_count": 60,
     "metadata": {},
     "output_type": "execute_result"
    }
   ],
   "source": [
    "#Let's extract all web elements having company names\n",
    "company_tags=driver.find_elements(By.XPATH,'//a[@class=\"subTitle ellipsis fleft\"]')\n",
    "len(company_tags)"
   ]
  },
  {
   "cell_type": "code",
   "execution_count": 61,
   "id": "304538f4",
   "metadata": {},
   "outputs": [
    {
     "data": {
      "text/plain": [
       "20"
      ]
     },
     "execution_count": 61,
     "metadata": {},
     "output_type": "execute_result"
    }
   ],
   "source": [
    "#so we will run a for loop to iterate over the tags and will extract \n",
    "\n",
    "company_names=[]\n",
    "\n",
    "for i in company_tags:\n",
    "    company_names.append(i.text)\n",
    "len(company_names)"
   ]
  },
  {
   "cell_type": "code",
   "execution_count": 62,
   "id": "ec3d1161",
   "metadata": {},
   "outputs": [
    {
     "data": {
      "text/plain": [
       "['Fractal Analytics',\n",
       " 'Wipro',\n",
       " 'Wipro',\n",
       " 'Applied Materials',\n",
       " 'PwC',\n",
       " 'IBM',\n",
       " 'IBM',\n",
       " 'Paytm',\n",
       " 'Schneider Electric',\n",
       " 'EXL',\n",
       " 'PayU',\n",
       " 'Fractal Analytics',\n",
       " 'Paytm',\n",
       " 'UPL',\n",
       " 'Genpact',\n",
       " 'EYGBS',\n",
       " 'IBM',\n",
       " 'Walmart',\n",
       " 'Wipro',\n",
       " 'Wipro']"
      ]
     },
     "execution_count": 62,
     "metadata": {},
     "output_type": "execute_result"
    }
   ],
   "source": [
    "company_names"
   ]
  },
  {
   "cell_type": "code",
   "execution_count": 63,
   "id": "cd5eafba",
   "metadata": {},
   "outputs": [
    {
     "data": {
      "text/plain": [
       "['Fractal Analytics',\n",
       " 'Wipro',\n",
       " 'Wipro',\n",
       " 'Applied Materials',\n",
       " 'PwC',\n",
       " 'IBM',\n",
       " 'IBM',\n",
       " 'Paytm',\n",
       " 'Schneider Electric',\n",
       " 'EXL']"
      ]
     },
     "execution_count": 63,
     "metadata": {},
     "output_type": "execute_result"
    }
   ],
   "source": [
    "company_names=company_names[0:10]\n",
    "company_names"
   ]
  },
  {
   "cell_type": "markdown",
   "id": "0aaad616",
   "metadata": {},
   "source": [
    "# Extracting location"
   ]
  },
  {
   "cell_type": "code",
   "execution_count": 64,
   "id": "9fdcf53f",
   "metadata": {},
   "outputs": [
    {
     "data": {
      "text/plain": [
       "20"
      ]
     },
     "execution_count": 64,
     "metadata": {},
     "output_type": "execute_result"
    }
   ],
   "source": [
    "locn_tags=driver.find_elements(By.XPATH,'//li[@class=\"fleft grey-text br2 placeHolderLi location\"]')\n",
    "len(locn_tags)"
   ]
  },
  {
   "cell_type": "code",
   "execution_count": 65,
   "id": "b187d36f",
   "metadata": {},
   "outputs": [
    {
     "data": {
      "text/plain": [
       "20"
      ]
     },
     "execution_count": 65,
     "metadata": {},
     "output_type": "execute_result"
    }
   ],
   "source": [
    "location=[]\n",
    "\n",
    "for i in locn_tags:\n",
    "    location.append(i.text)\n",
    "len(location)"
   ]
  },
  {
   "cell_type": "code",
   "execution_count": 51,
   "id": "dddfc411",
   "metadata": {},
   "outputs": [
    {
     "data": {
      "text/plain": [
       "['Bangalore/Bengaluru, Pune, Gurgaon/Gurugram, Chennai, Mumbai (All Areas)',\n",
       " 'Bangalore/Bengaluru, Kochi/Cochin, New Delhi, Coimbatore, Chennai, Pune, Mumbai, Hyderabad',\n",
       " 'Bangalore/Bengaluru, Pune, Chennai',\n",
       " 'Bangalore/Bengaluru',\n",
       " 'Bangalore/Bengaluru',\n",
       " 'Bangalore/Bengaluru',\n",
       " 'Bangalore/Bengaluru',\n",
       " 'Bangalore/Bengaluru, Noida',\n",
       " 'Bangalore/Bengaluru',\n",
       " 'Bangalore/Bengaluru, Noida, Hyderabad/Secunderabad, Pune, Gurgaon/Gurugram, Chennai, Delhi / NCR',\n",
       " 'Bangalore/Bengaluru, Gurgaon/Gurugram, Mumbai (All Areas)',\n",
       " 'Bangalore/Bengaluru, Gurgaon/Gurugram, Mumbai (All Areas)',\n",
       " 'Bangalore/Bengaluru, Noida, Mumbai',\n",
       " 'Bangalore/Bengaluru, Mumbai (All Areas)',\n",
       " 'Bangalore/Bengaluru',\n",
       " 'Bangalore/Bengaluru',\n",
       " 'Bangalore/Bengaluru',\n",
       " 'Bangalore/Bengaluru',\n",
       " 'Bangalore/Bengaluru\\n(WFH during Covid)',\n",
       " 'Bangalore/Bengaluru\\n(WFH during Covid)']"
      ]
     },
     "execution_count": 51,
     "metadata": {},
     "output_type": "execute_result"
    }
   ],
   "source": [
    "location"
   ]
  },
  {
   "cell_type": "code",
   "execution_count": 66,
   "id": "f43f0a96",
   "metadata": {},
   "outputs": [
    {
     "data": {
      "text/plain": [
       "['Bangalore/Bengaluru, Pune, Gurgaon/Gurugram, Chennai, Mumbai (All Areas)',\n",
       " 'Bangalore/Bengaluru, Kochi/Cochin, New Delhi, Coimbatore, Chennai, Pune, Mumbai, Hyderabad',\n",
       " 'Bangalore/Bengaluru, Pune, Chennai',\n",
       " 'Bangalore/Bengaluru',\n",
       " 'Bangalore/Bengaluru',\n",
       " 'Bangalore/Bengaluru',\n",
       " 'Bangalore/Bengaluru',\n",
       " 'Bangalore/Bengaluru, Noida',\n",
       " 'Bangalore/Bengaluru',\n",
       " 'Bangalore/Bengaluru, Noida, Hyderabad/Secunderabad, Pune, Gurgaon/Gurugram, Chennai, Delhi / NCR']"
      ]
     },
     "execution_count": 66,
     "metadata": {},
     "output_type": "execute_result"
    }
   ],
   "source": [
    "location=location[0:10]\n",
    "location"
   ]
  },
  {
   "cell_type": "code",
   "execution_count": 67,
   "id": "8229cc77",
   "metadata": {},
   "outputs": [
    {
     "data": {
      "text/plain": [
       "(10, 10, 10)"
      ]
     },
     "execution_count": 67,
     "metadata": {},
     "output_type": "execute_result"
    }
   ],
   "source": [
    "len(job_titles),len(company_names),len(location)"
   ]
  },
  {
   "cell_type": "code",
   "execution_count": 68,
   "id": "a7a3c364",
   "metadata": {},
   "outputs": [
    {
     "data": {
      "text/html": [
       "<div>\n",
       "<style scoped>\n",
       "    .dataframe tbody tr th:only-of-type {\n",
       "        vertical-align: middle;\n",
       "    }\n",
       "\n",
       "    .dataframe tbody tr th {\n",
       "        vertical-align: top;\n",
       "    }\n",
       "\n",
       "    .dataframe thead th {\n",
       "        text-align: right;\n",
       "    }\n",
       "</style>\n",
       "<table border=\"1\" class=\"dataframe\">\n",
       "  <thead>\n",
       "    <tr style=\"text-align: right;\">\n",
       "      <th></th>\n",
       "      <th>Job Title</th>\n",
       "      <th>Company Name</th>\n",
       "      <th>Job Location</th>\n",
       "    </tr>\n",
       "  </thead>\n",
       "  <tbody>\n",
       "    <tr>\n",
       "      <th>0</th>\n",
       "      <td>Data Scientist/ Senior Data Scientist</td>\n",
       "      <td>Fractal Analytics</td>\n",
       "      <td>Bangalore/Bengaluru, Pune, Gurgaon/Gurugram, C...</td>\n",
       "    </tr>\n",
       "    <tr>\n",
       "      <th>1</th>\n",
       "      <td>Urgent Job Opening For AI Practitioner - Data ...</td>\n",
       "      <td>Wipro</td>\n",
       "      <td>Bangalore/Bengaluru, Kochi/Cochin, New Delhi, ...</td>\n",
       "    </tr>\n",
       "    <tr>\n",
       "      <th>2</th>\n",
       "      <td>Dataiku Consultant</td>\n",
       "      <td>Wipro</td>\n",
       "      <td>Bangalore/Bengaluru, Pune, Chennai</td>\n",
       "    </tr>\n",
       "    <tr>\n",
       "      <th>3</th>\n",
       "      <td>Data Scientist</td>\n",
       "      <td>Applied Materials</td>\n",
       "      <td>Bangalore/Bengaluru</td>\n",
       "    </tr>\n",
       "    <tr>\n",
       "      <th>4</th>\n",
       "      <td>Data &amp; Analytics Tech - Informatica Cloud- Sen...</td>\n",
       "      <td>PwC</td>\n",
       "      <td>Bangalore/Bengaluru</td>\n",
       "    </tr>\n",
       "    <tr>\n",
       "      <th>5</th>\n",
       "      <td>Data Scientist: Advanced Analytics</td>\n",
       "      <td>IBM</td>\n",
       "      <td>Bangalore/Bengaluru</td>\n",
       "    </tr>\n",
       "    <tr>\n",
       "      <th>6</th>\n",
       "      <td>Research Scientist</td>\n",
       "      <td>IBM</td>\n",
       "      <td>Bangalore/Bengaluru</td>\n",
       "    </tr>\n",
       "    <tr>\n",
       "      <th>7</th>\n",
       "      <td>Data Science - Senior Data Scientist - Analytics</td>\n",
       "      <td>Paytm</td>\n",
       "      <td>Bangalore/Bengaluru, Noida</td>\n",
       "    </tr>\n",
       "    <tr>\n",
       "      <th>8</th>\n",
       "      <td>Principal - Data Scientist</td>\n",
       "      <td>Schneider Electric</td>\n",
       "      <td>Bangalore/Bengaluru</td>\n",
       "    </tr>\n",
       "    <tr>\n",
       "      <th>9</th>\n",
       "      <td>Research and Development -AI/ML -(PhD )</td>\n",
       "      <td>EXL</td>\n",
       "      <td>Bangalore/Bengaluru, Noida, Hyderabad/Secunder...</td>\n",
       "    </tr>\n",
       "  </tbody>\n",
       "</table>\n",
       "</div>"
      ],
      "text/plain": [
       "                                           Job Title        Company Name  \\\n",
       "0              Data Scientist/ Senior Data Scientist   Fractal Analytics   \n",
       "1  Urgent Job Opening For AI Practitioner - Data ...               Wipro   \n",
       "2                                 Dataiku Consultant               Wipro   \n",
       "3                                     Data Scientist   Applied Materials   \n",
       "4  Data & Analytics Tech - Informatica Cloud- Sen...                 PwC   \n",
       "5                 Data Scientist: Advanced Analytics                 IBM   \n",
       "6                                 Research Scientist                 IBM   \n",
       "7   Data Science - Senior Data Scientist - Analytics               Paytm   \n",
       "8                         Principal - Data Scientist  Schneider Electric   \n",
       "9            Research and Development -AI/ML -(PhD )                 EXL   \n",
       "\n",
       "                                        Job Location  \n",
       "0  Bangalore/Bengaluru, Pune, Gurgaon/Gurugram, C...  \n",
       "1  Bangalore/Bengaluru, Kochi/Cochin, New Delhi, ...  \n",
       "2                 Bangalore/Bengaluru, Pune, Chennai  \n",
       "3                                Bangalore/Bengaluru  \n",
       "4                                Bangalore/Bengaluru  \n",
       "5                                Bangalore/Bengaluru  \n",
       "6                                Bangalore/Bengaluru  \n",
       "7                         Bangalore/Bengaluru, Noida  \n",
       "8                                Bangalore/Bengaluru  \n",
       "9  Bangalore/Bengaluru, Noida, Hyderabad/Secunder...  "
      ]
     },
     "execution_count": 68,
     "metadata": {},
     "output_type": "execute_result"
    }
   ],
   "source": [
    "jobs=pd.DataFrame()\n",
    "jobs['Job Title']=job_titles\n",
    "jobs['Company Name']= company_names\n",
    "\n",
    "jobs['Job Location']=location\n",
    "jobs"
   ]
  },
  {
   "cell_type": "code",
   "execution_count": null,
   "id": "94e043a6",
   "metadata": {},
   "outputs": [],
   "source": []
  },
  {
   "cell_type": "code",
   "execution_count": null,
   "id": "693745ad",
   "metadata": {},
   "outputs": [],
   "source": []
  },
  {
   "cell_type": "markdown",
   "id": "bb28f781",
   "metadata": {},
   "source": [
    "# Q3: In this question you have to scrape data using the filters available on the webpage as shown below: You have to use the location and salary filter.\n",
    "You have to scrape data for “Data Scientist” designation for first 10 job results.\n",
    "You have to scrape the job-title, job-location, company name, experience required.\n",
    "The location filter to be used is “Delhi/NCR”. The salary filter to be used is “3-6” lakhs\n",
    "The task will be done as shown in the below steps:\n",
    "1. first get the webpage https://www.naukri.com/\n",
    "2. Enter “Data Scientist” in “Skill, Designations, and Companies” field.\n",
    "3. Then click the search button.\n",
    "4. Then apply the location filter and salary filter by checking the respective boxes\n",
    "5. Then scrape the data for the first 10 jobs results you get.\n",
    "6. Finally create a dataframe of the scraped data."
   ]
  },
  {
   "cell_type": "code",
   "execution_count": 70,
   "id": "c00a23b3",
   "metadata": {},
   "outputs": [],
   "source": [
    "import selenium\n",
    "from selenium import webdriver\n",
    "import pandas as pd\n",
    "import warnings\n",
    "warnings.filterwarnings(\"ignore\")\n"
   ]
  },
  {
   "cell_type": "code",
   "execution_count": 71,
   "id": "39c48b98",
   "metadata": {},
   "outputs": [],
   "source": [
    "driver=webdriver.Chrome('chromedriver.exe')"
   ]
  },
  {
   "cell_type": "code",
   "execution_count": 72,
   "id": "1d2812ac",
   "metadata": {},
   "outputs": [],
   "source": [
    "from selenium.webdriver.common.by import By"
   ]
  },
  {
   "cell_type": "code",
   "execution_count": 74,
   "id": "70a20f9c",
   "metadata": {},
   "outputs": [],
   "source": [
    "url='https://www.naukri.com/'\n",
    "driver.get(url)"
   ]
  },
  {
   "cell_type": "code",
   "execution_count": 75,
   "id": "69ff0b1d",
   "metadata": {},
   "outputs": [
    {
     "data": {
      "text/plain": [
       "<selenium.webdriver.remote.webelement.WebElement (session=\"ae3b6a6738c97c70064097bb264e473f\", element=\"7117e7bf-d043-46e9-898d-97f9487bd35f\")>"
      ]
     },
     "execution_count": 75,
     "metadata": {},
     "output_type": "execute_result"
    }
   ],
   "source": [
    "#finding web element for search job bar using id\n",
    "search_job=driver.find_element(By.CLASS_NAME,\"suggestor-input\")\n",
    "search_job"
   ]
  },
  {
   "cell_type": "code",
   "execution_count": 76,
   "id": "f3e5bed0",
   "metadata": {},
   "outputs": [],
   "source": [
    "#write on search bar\n",
    "search_job.send_keys(\"Data Scientist\")"
   ]
  },
  {
   "cell_type": "code",
   "execution_count": 77,
   "id": "1791a4d9",
   "metadata": {},
   "outputs": [
    {
     "data": {
      "text/plain": [
       "<selenium.webdriver.remote.webelement.WebElement (session=\"ae3b6a6738c97c70064097bb264e473f\", element=\"9c8ff480-e502-41e6-b00f-6da60f4f192d\")>"
      ]
     },
     "execution_count": 77,
     "metadata": {},
     "output_type": "execute_result"
    }
   ],
   "source": [
    "#clicking using absolute xpath function\n",
    "search_btn=driver.find_element(By.XPATH,'/html/body/div[1]/div[2]/div[3]/div/div/div[6]')\n",
    "search_btn"
   ]
  },
  {
   "cell_type": "code",
   "execution_count": 78,
   "id": "4da59068",
   "metadata": {},
   "outputs": [],
   "source": [
    "search_btn.click()"
   ]
  },
  {
   "cell_type": "code",
   "execution_count": 79,
   "id": "18ff0622",
   "metadata": {},
   "outputs": [],
   "source": [
    "salary_check=driver.find_element(By.XPATH,'/html/body/div[1]/div[3]/div[2]/section[1]/div[2]/div[6]/div[2]/div[1]/label/i')\n",
    "                                 "
   ]
  },
  {
   "cell_type": "code",
   "execution_count": 80,
   "id": "2023d346",
   "metadata": {},
   "outputs": [],
   "source": [
    "salary_check.click()"
   ]
  },
  {
   "cell_type": "code",
   "execution_count": 81,
   "id": "f612db91",
   "metadata": {},
   "outputs": [],
   "source": [
    "location_check=driver.find_element(By.XPATH,'/html/body/div[1]/div[3]/div[2]/section[1]/div[2]/div[6]/div[2]/div[2]/label/i')"
   ]
  },
  {
   "cell_type": "code",
   "execution_count": 82,
   "id": "c68862e0",
   "metadata": {},
   "outputs": [],
   "source": [
    "location_check.click()"
   ]
  },
  {
   "cell_type": "markdown",
   "id": "54474303",
   "metadata": {},
   "source": [
    "# Extracting job titles"
   ]
  },
  {
   "cell_type": "code",
   "execution_count": 83,
   "id": "480db8c0",
   "metadata": {},
   "outputs": [
    {
     "data": {
      "text/plain": [
       "9"
      ]
     },
     "execution_count": 83,
     "metadata": {},
     "output_type": "execute_result"
    }
   ],
   "source": [
    "#Let's extract all web elements having job titles\n",
    "title_tags=driver.find_elements(By.XPATH,'//a[@class=\"title fw500 ellipsis\"]')\n",
    "\n",
    "len(title_tags)"
   ]
  },
  {
   "cell_type": "code",
   "execution_count": 84,
   "id": "520c3a18",
   "metadata": {},
   "outputs": [
    {
     "data": {
      "text/plain": [
       "9"
      ]
     },
     "execution_count": 84,
     "metadata": {},
     "output_type": "execute_result"
    }
   ],
   "source": [
    "#Now the text of job title is inside the web elements extracted above \n",
    "# so we will run a for loop to iterate over the tags and will extract\n",
    "job_titles=[]\n",
    "for i in title_tags:\n",
    "    job_titles.append(i.text)\n",
    "    \n",
    "    \n",
    "len(job_titles)"
   ]
  },
  {
   "cell_type": "code",
   "execution_count": 85,
   "id": "16fa2997",
   "metadata": {},
   "outputs": [
    {
     "data": {
      "text/plain": [
       "['Data Scientist For Healthcare Product team',\n",
       " 'Data Scientist For Healthcare Product team',\n",
       " 'Hiring For Data Science Intern- DataTrained Education',\n",
       " 'Knowledge/Data Scientist',\n",
       " 'Data Scientist',\n",
       " 'Data Scientist',\n",
       " 'Data Science',\n",
       " 'Data Science',\n",
       " 'Data Scientist']"
      ]
     },
     "execution_count": 85,
     "metadata": {},
     "output_type": "execute_result"
    }
   ],
   "source": [
    "job_titles"
   ]
  },
  {
   "cell_type": "markdown",
   "id": "d616fc1e",
   "metadata": {},
   "source": [
    "# Extracting company names"
   ]
  },
  {
   "cell_type": "code",
   "execution_count": 86,
   "id": "6045cf86",
   "metadata": {},
   "outputs": [
    {
     "data": {
      "text/plain": [
       "9"
      ]
     },
     "execution_count": 86,
     "metadata": {},
     "output_type": "execute_result"
    }
   ],
   "source": [
    "#Let's extract all web elements having company names\n",
    "company_tags=driver.find_elements(By.XPATH,'//a[@class=\"subTitle ellipsis fleft\"]')\n",
    "len(company_tags)"
   ]
  },
  {
   "cell_type": "code",
   "execution_count": 87,
   "id": "24a036db",
   "metadata": {},
   "outputs": [
    {
     "data": {
      "text/plain": [
       "9"
      ]
     },
     "execution_count": 87,
     "metadata": {},
     "output_type": "execute_result"
    }
   ],
   "source": [
    "#so we will run a for loop to iterate over the tags and will extract \n",
    "\n",
    "company_names=[]\n",
    "\n",
    "for i in company_tags:\n",
    "    company_names.append(i.text)\n",
    "len(company_names)"
   ]
  },
  {
   "cell_type": "code",
   "execution_count": 88,
   "id": "dff85a1d",
   "metadata": {},
   "outputs": [
    {
     "data": {
      "text/plain": [
       "['8KMiles Software Services',\n",
       " '8KMiles Software Services',\n",
       " 'DataTrained',\n",
       " 'BOLD Technology Systems',\n",
       " 'Mount Talent Consulting Private Limited',\n",
       " 'Mount Talent Consulting Private Limited',\n",
       " 'Mount Talent Consulting Private Limited',\n",
       " 'Mount Talent Consulting Private Limited',\n",
       " 'PRASU SOFTWARE SOLUTIONS PRIVATE LIMITED']"
      ]
     },
     "execution_count": 88,
     "metadata": {},
     "output_type": "execute_result"
    }
   ],
   "source": [
    "company_names"
   ]
  },
  {
   "cell_type": "markdown",
   "id": "e6fb59b5",
   "metadata": {},
   "source": [
    "# Extracting Experience"
   ]
  },
  {
   "cell_type": "code",
   "execution_count": 89,
   "id": "e8531a88",
   "metadata": {},
   "outputs": [
    {
     "data": {
      "text/plain": [
       "9"
      ]
     },
     "execution_count": 89,
     "metadata": {},
     "output_type": "execute_result"
    }
   ],
   "source": [
    "#Let's extract all web elements having experience using parent tag\n",
    "exp_tags=driver.find_elements(By.XPATH,'//li[@class=\"fleft grey-text br2 placeHolderLi experience\"]')\n",
    "len(exp_tags)"
   ]
  },
  {
   "cell_type": "code",
   "execution_count": 90,
   "id": "484f94be",
   "metadata": {},
   "outputs": [
    {
     "data": {
      "text/plain": [
       "9"
      ]
     },
     "execution_count": 90,
     "metadata": {},
     "output_type": "execute_result"
    }
   ],
   "source": [
    "experience=[]\n",
    "\n",
    "for i in exp_tags:\n",
    "    experience.append(i.text)\n",
    "len(experience)"
   ]
  },
  {
   "cell_type": "code",
   "execution_count": 91,
   "id": "40df06fc",
   "metadata": {},
   "outputs": [
    {
     "data": {
      "text/plain": [
       "['2-7 Yrs',\n",
       " '2-7 Yrs',\n",
       " '0-2 Yrs',\n",
       " '3-6 Yrs',\n",
       " '2-4 Yrs',\n",
       " '2-4 Yrs',\n",
       " '2-5 Yrs',\n",
       " '2-5 Yrs',\n",
       " '2-4 Yrs']"
      ]
     },
     "execution_count": 91,
     "metadata": {},
     "output_type": "execute_result"
    }
   ],
   "source": [
    "experience"
   ]
  },
  {
   "cell_type": "markdown",
   "id": "9902423d",
   "metadata": {},
   "source": [
    "# Extracting location"
   ]
  },
  {
   "cell_type": "code",
   "execution_count": 92,
   "id": "993fbca3",
   "metadata": {},
   "outputs": [
    {
     "data": {
      "text/plain": [
       "9"
      ]
     },
     "execution_count": 92,
     "metadata": {},
     "output_type": "execute_result"
    }
   ],
   "source": [
    "locn_tags=driver.find_elements(By.XPATH,'//li[@class=\"fleft grey-text br2 placeHolderLi location\"]')\n",
    "len(locn_tags)"
   ]
  },
  {
   "cell_type": "code",
   "execution_count": 93,
   "id": "fdc29a4b",
   "metadata": {},
   "outputs": [
    {
     "data": {
      "text/plain": [
       "9"
      ]
     },
     "execution_count": 93,
     "metadata": {},
     "output_type": "execute_result"
    }
   ],
   "source": [
    "location=[]\n",
    "\n",
    "for i in locn_tags:\n",
    "    location.append(i.text)\n",
    "len(location)"
   ]
  },
  {
   "cell_type": "code",
   "execution_count": 94,
   "id": "6095a650",
   "metadata": {},
   "outputs": [
    {
     "data": {
      "text/plain": [
       "['Delhi / NCR, Chennai, Bangalore/Bengaluru',\n",
       " 'Delhi / NCR, Chennai, Bangalore/Bengaluru',\n",
       " 'Delhi / NCR, Gurgaon/Gurugram, Bangalore/Bengaluru',\n",
       " 'Delhi / NCR',\n",
       " 'Delhi / NCR, Pune, Bangalore/Bengaluru',\n",
       " 'Delhi / NCR, Pune, Bangalore/Bengaluru',\n",
       " 'Delhi / NCR, Noida, Faridabad, Gurgaon/Gurugram, Bangalore/Bengaluru, Greater Noida',\n",
       " 'Delhi / NCR, Noida, Faridabad, Gurgaon/Gurugram, Bangalore/Bengaluru, Greater Noida',\n",
       " 'Gurgaon/Gurugram']"
      ]
     },
     "execution_count": 94,
     "metadata": {},
     "output_type": "execute_result"
    }
   ],
   "source": [
    "location"
   ]
  },
  {
   "cell_type": "code",
   "execution_count": 95,
   "id": "7c3382b4",
   "metadata": {},
   "outputs": [
    {
     "data": {
      "text/plain": [
       "(9, 9, 9, 9)"
      ]
     },
     "execution_count": 95,
     "metadata": {},
     "output_type": "execute_result"
    }
   ],
   "source": [
    "len(job_titles),len(company_names),len(experience),len(location)"
   ]
  },
  {
   "cell_type": "code",
   "execution_count": 96,
   "id": "395504f7",
   "metadata": {},
   "outputs": [
    {
     "data": {
      "text/html": [
       "<div>\n",
       "<style scoped>\n",
       "    .dataframe tbody tr th:only-of-type {\n",
       "        vertical-align: middle;\n",
       "    }\n",
       "\n",
       "    .dataframe tbody tr th {\n",
       "        vertical-align: top;\n",
       "    }\n",
       "\n",
       "    .dataframe thead th {\n",
       "        text-align: right;\n",
       "    }\n",
       "</style>\n",
       "<table border=\"1\" class=\"dataframe\">\n",
       "  <thead>\n",
       "    <tr style=\"text-align: right;\">\n",
       "      <th></th>\n",
       "      <th>Job Title</th>\n",
       "      <th>Company Name</th>\n",
       "      <th>Experience required</th>\n",
       "      <th>Job Location</th>\n",
       "    </tr>\n",
       "  </thead>\n",
       "  <tbody>\n",
       "    <tr>\n",
       "      <th>0</th>\n",
       "      <td>Data Scientist For Healthcare Product team</td>\n",
       "      <td>8KMiles Software Services</td>\n",
       "      <td>2-7 Yrs</td>\n",
       "      <td>Delhi / NCR, Chennai, Bangalore/Bengaluru</td>\n",
       "    </tr>\n",
       "    <tr>\n",
       "      <th>1</th>\n",
       "      <td>Data Scientist For Healthcare Product team</td>\n",
       "      <td>8KMiles Software Services</td>\n",
       "      <td>2-7 Yrs</td>\n",
       "      <td>Delhi / NCR, Chennai, Bangalore/Bengaluru</td>\n",
       "    </tr>\n",
       "    <tr>\n",
       "      <th>2</th>\n",
       "      <td>Hiring For Data Science Intern- DataTrained Ed...</td>\n",
       "      <td>DataTrained</td>\n",
       "      <td>0-2 Yrs</td>\n",
       "      <td>Delhi / NCR, Gurgaon/Gurugram, Bangalore/Benga...</td>\n",
       "    </tr>\n",
       "    <tr>\n",
       "      <th>3</th>\n",
       "      <td>Knowledge/Data Scientist</td>\n",
       "      <td>BOLD Technology Systems</td>\n",
       "      <td>3-6 Yrs</td>\n",
       "      <td>Delhi / NCR</td>\n",
       "    </tr>\n",
       "    <tr>\n",
       "      <th>4</th>\n",
       "      <td>Data Scientist</td>\n",
       "      <td>Mount Talent Consulting Private Limited</td>\n",
       "      <td>2-4 Yrs</td>\n",
       "      <td>Delhi / NCR, Pune, Bangalore/Bengaluru</td>\n",
       "    </tr>\n",
       "    <tr>\n",
       "      <th>5</th>\n",
       "      <td>Data Scientist</td>\n",
       "      <td>Mount Talent Consulting Private Limited</td>\n",
       "      <td>2-4 Yrs</td>\n",
       "      <td>Delhi / NCR, Pune, Bangalore/Bengaluru</td>\n",
       "    </tr>\n",
       "    <tr>\n",
       "      <th>6</th>\n",
       "      <td>Data Science</td>\n",
       "      <td>Mount Talent Consulting Private Limited</td>\n",
       "      <td>2-5 Yrs</td>\n",
       "      <td>Delhi / NCR, Noida, Faridabad, Gurgaon/Gurugra...</td>\n",
       "    </tr>\n",
       "    <tr>\n",
       "      <th>7</th>\n",
       "      <td>Data Science</td>\n",
       "      <td>Mount Talent Consulting Private Limited</td>\n",
       "      <td>2-5 Yrs</td>\n",
       "      <td>Delhi / NCR, Noida, Faridabad, Gurgaon/Gurugra...</td>\n",
       "    </tr>\n",
       "    <tr>\n",
       "      <th>8</th>\n",
       "      <td>Data Scientist</td>\n",
       "      <td>PRASU SOFTWARE SOLUTIONS PRIVATE LIMITED</td>\n",
       "      <td>2-4 Yrs</td>\n",
       "      <td>Gurgaon/Gurugram</td>\n",
       "    </tr>\n",
       "  </tbody>\n",
       "</table>\n",
       "</div>"
      ],
      "text/plain": [
       "                                           Job Title  \\\n",
       "0         Data Scientist For Healthcare Product team   \n",
       "1         Data Scientist For Healthcare Product team   \n",
       "2  Hiring For Data Science Intern- DataTrained Ed...   \n",
       "3                           Knowledge/Data Scientist   \n",
       "4                                     Data Scientist   \n",
       "5                                     Data Scientist   \n",
       "6                                       Data Science   \n",
       "7                                       Data Science   \n",
       "8                                     Data Scientist   \n",
       "\n",
       "                               Company Name Experience required  \\\n",
       "0                 8KMiles Software Services             2-7 Yrs   \n",
       "1                 8KMiles Software Services             2-7 Yrs   \n",
       "2                               DataTrained             0-2 Yrs   \n",
       "3                   BOLD Technology Systems             3-6 Yrs   \n",
       "4   Mount Talent Consulting Private Limited             2-4 Yrs   \n",
       "5   Mount Talent Consulting Private Limited             2-4 Yrs   \n",
       "6   Mount Talent Consulting Private Limited             2-5 Yrs   \n",
       "7   Mount Talent Consulting Private Limited             2-5 Yrs   \n",
       "8  PRASU SOFTWARE SOLUTIONS PRIVATE LIMITED             2-4 Yrs   \n",
       "\n",
       "                                        Job Location  \n",
       "0          Delhi / NCR, Chennai, Bangalore/Bengaluru  \n",
       "1          Delhi / NCR, Chennai, Bangalore/Bengaluru  \n",
       "2  Delhi / NCR, Gurgaon/Gurugram, Bangalore/Benga...  \n",
       "3                                        Delhi / NCR  \n",
       "4             Delhi / NCR, Pune, Bangalore/Bengaluru  \n",
       "5             Delhi / NCR, Pune, Bangalore/Bengaluru  \n",
       "6  Delhi / NCR, Noida, Faridabad, Gurgaon/Gurugra...  \n",
       "7  Delhi / NCR, Noida, Faridabad, Gurgaon/Gurugra...  \n",
       "8                                   Gurgaon/Gurugram  "
      ]
     },
     "execution_count": 96,
     "metadata": {},
     "output_type": "execute_result"
    }
   ],
   "source": [
    "jobs=pd.DataFrame()\n",
    "jobs['Job Title']=job_titles\n",
    "jobs['Company Name']= company_names\n",
    "jobs['Experience required']=experience\n",
    "jobs['Job Location']=location\n",
    "jobs"
   ]
  },
  {
   "cell_type": "code",
   "execution_count": null,
   "id": "565f287d",
   "metadata": {},
   "outputs": [],
   "source": []
  },
  {
   "cell_type": "code",
   "execution_count": null,
   "id": "87e3bb3b",
   "metadata": {},
   "outputs": [],
   "source": []
  },
  {
   "cell_type": "markdown",
   "id": "eb602355",
   "metadata": {},
   "source": [
    "# Q4: Scrape data of first 100 sunglasses listings on flipkart.com. You have to scrape four attributes:\n",
    "1. Brand\n",
    "2. Product Description\n",
    "3. Price\n",
    "To scrape the data you have to go through following steps:\n",
    "1. Go to Flipkart webpage by url : https://www.flipkart.com/\n",
    "2. Enter “sunglasses” in the search field where “search for products, brands and more” is written and\n",
    "click the search icon\n",
    "3. After that you will reach to the page having a lot of sunglasses. From this page you can scrap the\n",
    "required data as usual.\n",
    "4. After scraping data from the first page, go to the “Next” Button at the bottom other page , then\n",
    "click on it.\n",
    "5. Now scrape data from this page as usual\n",
    "6. Repeat this until you get data for 100 sunglasses."
   ]
  },
  {
   "cell_type": "code",
   "execution_count": 135,
   "id": "f4255dae",
   "metadata": {},
   "outputs": [],
   "source": [
    "driver=webdriver.Chrome('chromedriver.exe')"
   ]
  },
  {
   "cell_type": "code",
   "execution_count": 136,
   "id": "99522d18",
   "metadata": {},
   "outputs": [],
   "source": [
    "from selenium.webdriver.common.by import By"
   ]
  },
  {
   "cell_type": "code",
   "execution_count": 137,
   "id": "1f5a1d9a",
   "metadata": {},
   "outputs": [],
   "source": [
    "url='https://www.flipkart.com/'\n",
    "driver.get(url)"
   ]
  },
  {
   "cell_type": "code",
   "execution_count": 138,
   "id": "2826c4ee",
   "metadata": {},
   "outputs": [
    {
     "data": {
      "text/plain": [
       "<selenium.webdriver.remote.webelement.WebElement (session=\"183dc41fb5ad5f2131ea3ad3ff0890f8\", element=\"0e2c3baf-3114-41b2-8c62-d6d992f3dc05\")>"
      ]
     },
     "execution_count": 138,
     "metadata": {},
     "output_type": "execute_result"
    }
   ],
   "source": [
    "#finding web element for search job bar using id\n",
    "search_product=driver.find_element(By.CLASS_NAME,\"_3704LK\")\n",
    "search_product"
   ]
  },
  {
   "cell_type": "code",
   "execution_count": 139,
   "id": "a2c7b795",
   "metadata": {},
   "outputs": [],
   "source": [
    "#write on search bar\n",
    "search_product.send_keys(\"sunglasses\")"
   ]
  },
  {
   "cell_type": "code",
   "execution_count": 140,
   "id": "4c9d54d9",
   "metadata": {},
   "outputs": [
    {
     "data": {
      "text/plain": [
       "<selenium.webdriver.remote.webelement.WebElement (session=\"183dc41fb5ad5f2131ea3ad3ff0890f8\", element=\"ade80d19-aa30-4c6f-928f-84d76f4b6e16\")>"
      ]
     },
     "execution_count": 140,
     "metadata": {},
     "output_type": "execute_result"
    }
   ],
   "source": [
    "#clicking using absolute xpath function\n",
    "search_btn=driver.find_element(By.XPATH,'//*[@id=\"container\"]/div/div[1]/div[1]/div[2]/div[2]/form/div/button')\n",
    "search_btn"
   ]
  },
  {
   "cell_type": "code",
   "execution_count": 142,
   "id": "5ed60949",
   "metadata": {},
   "outputs": [],
   "source": [
    "search_btn.click()"
   ]
  },
  {
   "cell_type": "markdown",
   "id": "4807f73d",
   "metadata": {},
   "source": [
    "# Extracting Brand Name"
   ]
  },
  {
   "cell_type": "code",
   "execution_count": 143,
   "id": "bc21a4d1",
   "metadata": {
    "scrolled": true
   },
   "outputs": [
    {
     "data": {
      "text/plain": [
       "[<selenium.webdriver.remote.webelement.WebElement (session=\"183dc41fb5ad5f2131ea3ad3ff0890f8\", element=\"defaf94d-477a-4f4a-8af5-e6c9b1a711ac\")>,\n",
       " <selenium.webdriver.remote.webelement.WebElement (session=\"183dc41fb5ad5f2131ea3ad3ff0890f8\", element=\"2e31ac1f-6327-413f-b7ee-205d713e3568\")>,\n",
       " <selenium.webdriver.remote.webelement.WebElement (session=\"183dc41fb5ad5f2131ea3ad3ff0890f8\", element=\"bd4c7547-8a38-40df-ab4a-a4738c5a2155\")>,\n",
       " <selenium.webdriver.remote.webelement.WebElement (session=\"183dc41fb5ad5f2131ea3ad3ff0890f8\", element=\"a2f827f2-6196-4e52-ac2f-743ec481063a\")>,\n",
       " <selenium.webdriver.remote.webelement.WebElement (session=\"183dc41fb5ad5f2131ea3ad3ff0890f8\", element=\"0119e20b-38b2-4222-b87b-6e3ad44076ba\")>,\n",
       " <selenium.webdriver.remote.webelement.WebElement (session=\"183dc41fb5ad5f2131ea3ad3ff0890f8\", element=\"fc1b4ac3-8f76-4ebd-9d1d-67503e7ac19a\")>,\n",
       " <selenium.webdriver.remote.webelement.WebElement (session=\"183dc41fb5ad5f2131ea3ad3ff0890f8\", element=\"0e90ba60-29f4-47cb-9c39-dfb6aca4c935\")>,\n",
       " <selenium.webdriver.remote.webelement.WebElement (session=\"183dc41fb5ad5f2131ea3ad3ff0890f8\", element=\"6eb3407d-841a-430f-b1f8-8bbedbd57fba\")>,\n",
       " <selenium.webdriver.remote.webelement.WebElement (session=\"183dc41fb5ad5f2131ea3ad3ff0890f8\", element=\"f7008a5a-d9a5-4069-9d1b-e3ddf3a0bfdf\")>,\n",
       " <selenium.webdriver.remote.webelement.WebElement (session=\"183dc41fb5ad5f2131ea3ad3ff0890f8\", element=\"efee845d-509f-4d5c-b489-ee2714101777\")>,\n",
       " <selenium.webdriver.remote.webelement.WebElement (session=\"183dc41fb5ad5f2131ea3ad3ff0890f8\", element=\"7c9f2b96-a1a0-4f4e-9c67-fee046658b6d\")>,\n",
       " <selenium.webdriver.remote.webelement.WebElement (session=\"183dc41fb5ad5f2131ea3ad3ff0890f8\", element=\"6283e94f-7202-4ddb-82b8-ed63b17cee28\")>,\n",
       " <selenium.webdriver.remote.webelement.WebElement (session=\"183dc41fb5ad5f2131ea3ad3ff0890f8\", element=\"2f6deb22-70fe-4dc4-b03b-e1768009ac03\")>,\n",
       " <selenium.webdriver.remote.webelement.WebElement (session=\"183dc41fb5ad5f2131ea3ad3ff0890f8\", element=\"c42421bd-8c1f-444e-8377-52c63b8da68d\")>,\n",
       " <selenium.webdriver.remote.webelement.WebElement (session=\"183dc41fb5ad5f2131ea3ad3ff0890f8\", element=\"5abfa2b5-00e9-4533-81bd-0a490ea6c2f4\")>,\n",
       " <selenium.webdriver.remote.webelement.WebElement (session=\"183dc41fb5ad5f2131ea3ad3ff0890f8\", element=\"6ae6f8bb-c313-40cf-b682-89a7d0d6130a\")>,\n",
       " <selenium.webdriver.remote.webelement.WebElement (session=\"183dc41fb5ad5f2131ea3ad3ff0890f8\", element=\"6938bb12-c78f-4e8c-8267-2590f2e09905\")>,\n",
       " <selenium.webdriver.remote.webelement.WebElement (session=\"183dc41fb5ad5f2131ea3ad3ff0890f8\", element=\"d72dc87b-fa76-4db0-85f2-fd9b4414de4c\")>,\n",
       " <selenium.webdriver.remote.webelement.WebElement (session=\"183dc41fb5ad5f2131ea3ad3ff0890f8\", element=\"f5523c84-3e5e-4b3a-bdde-2dc194876b40\")>,\n",
       " <selenium.webdriver.remote.webelement.WebElement (session=\"183dc41fb5ad5f2131ea3ad3ff0890f8\", element=\"de1d661a-ac85-4651-9bdf-ac816c76376b\")>,\n",
       " <selenium.webdriver.remote.webelement.WebElement (session=\"183dc41fb5ad5f2131ea3ad3ff0890f8\", element=\"df42696d-8b81-4c0d-b9b8-67d3695927fa\")>,\n",
       " <selenium.webdriver.remote.webelement.WebElement (session=\"183dc41fb5ad5f2131ea3ad3ff0890f8\", element=\"16a8824b-28ec-4370-930f-15d8caaae3eb\")>,\n",
       " <selenium.webdriver.remote.webelement.WebElement (session=\"183dc41fb5ad5f2131ea3ad3ff0890f8\", element=\"616f36b9-9d40-4c5d-8ee5-1df3944aab6b\")>,\n",
       " <selenium.webdriver.remote.webelement.WebElement (session=\"183dc41fb5ad5f2131ea3ad3ff0890f8\", element=\"159589ff-f2cf-4497-bad6-bbad5f151148\")>,\n",
       " <selenium.webdriver.remote.webelement.WebElement (session=\"183dc41fb5ad5f2131ea3ad3ff0890f8\", element=\"55c8ac1f-7d35-4278-a7af-2440bd424ff0\")>,\n",
       " <selenium.webdriver.remote.webelement.WebElement (session=\"183dc41fb5ad5f2131ea3ad3ff0890f8\", element=\"887bf4bf-19e4-44ec-9696-2c413715b7dd\")>,\n",
       " <selenium.webdriver.remote.webelement.WebElement (session=\"183dc41fb5ad5f2131ea3ad3ff0890f8\", element=\"8c693b9e-5523-46cf-97eb-7dc95c408dbe\")>,\n",
       " <selenium.webdriver.remote.webelement.WebElement (session=\"183dc41fb5ad5f2131ea3ad3ff0890f8\", element=\"7ac4d5e4-6c20-49b3-aadb-ba1c1f5141ff\")>,\n",
       " <selenium.webdriver.remote.webelement.WebElement (session=\"183dc41fb5ad5f2131ea3ad3ff0890f8\", element=\"a295e2cd-d442-428a-a602-f7490fc344b7\")>,\n",
       " <selenium.webdriver.remote.webelement.WebElement (session=\"183dc41fb5ad5f2131ea3ad3ff0890f8\", element=\"023220a7-4aa8-4ea4-bdcc-1ff7a0b622f9\")>,\n",
       " <selenium.webdriver.remote.webelement.WebElement (session=\"183dc41fb5ad5f2131ea3ad3ff0890f8\", element=\"aef6bab9-4d48-4e92-ba07-853f609395e6\")>,\n",
       " <selenium.webdriver.remote.webelement.WebElement (session=\"183dc41fb5ad5f2131ea3ad3ff0890f8\", element=\"f3c4fa4a-35fc-4b49-8e64-d2078f04ce98\")>,\n",
       " <selenium.webdriver.remote.webelement.WebElement (session=\"183dc41fb5ad5f2131ea3ad3ff0890f8\", element=\"e9a8f94c-727b-46d3-8dea-e3b47cc01081\")>,\n",
       " <selenium.webdriver.remote.webelement.WebElement (session=\"183dc41fb5ad5f2131ea3ad3ff0890f8\", element=\"69580778-0031-4ff8-9c80-98cc2c1cf737\")>,\n",
       " <selenium.webdriver.remote.webelement.WebElement (session=\"183dc41fb5ad5f2131ea3ad3ff0890f8\", element=\"d47f5036-42cc-4ddc-9319-65f79d3ee850\")>,\n",
       " <selenium.webdriver.remote.webelement.WebElement (session=\"183dc41fb5ad5f2131ea3ad3ff0890f8\", element=\"ac5971bf-50fd-41d1-9aa5-a472da7a3c31\")>,\n",
       " <selenium.webdriver.remote.webelement.WebElement (session=\"183dc41fb5ad5f2131ea3ad3ff0890f8\", element=\"853627ee-a3b3-41ae-a197-695a70e3b683\")>,\n",
       " <selenium.webdriver.remote.webelement.WebElement (session=\"183dc41fb5ad5f2131ea3ad3ff0890f8\", element=\"e9dc5e10-3b74-4b7b-b486-d51e330e9d25\")>,\n",
       " <selenium.webdriver.remote.webelement.WebElement (session=\"183dc41fb5ad5f2131ea3ad3ff0890f8\", element=\"33880cc6-fee7-4b10-b1cb-bffb1ecdd722\")>,\n",
       " <selenium.webdriver.remote.webelement.WebElement (session=\"183dc41fb5ad5f2131ea3ad3ff0890f8\", element=\"bf2f011f-5a24-4fff-8e5a-75b5f7eb538e\")>]"
      ]
     },
     "execution_count": 143,
     "metadata": {},
     "output_type": "execute_result"
    }
   ],
   "source": [
    "brand_tags=driver.find_elements(By.XPATH,'//div[@class=\"_2WkVRV\"]')\n",
    "\n",
    "brand_tags"
   ]
  },
  {
   "cell_type": "code",
   "execution_count": 144,
   "id": "24e52eef",
   "metadata": {},
   "outputs": [
    {
     "data": {
      "text/plain": [
       "40"
      ]
     },
     "execution_count": 144,
     "metadata": {},
     "output_type": "execute_result"
    }
   ],
   "source": [
    "len(brand_tags)"
   ]
  },
  {
   "cell_type": "code",
   "execution_count": 145,
   "id": "e4345591",
   "metadata": {},
   "outputs": [
    {
     "data": {
      "text/plain": [
       "40"
      ]
     },
     "execution_count": 145,
     "metadata": {},
     "output_type": "execute_result"
    }
   ],
   "source": [
    "brand_name1=[]\n",
    "for i in brand_tags:\n",
    "    brand_name1.append(i.text)\n",
    "    \n",
    "    \n",
    "len(brand_name1)"
   ]
  },
  {
   "cell_type": "code",
   "execution_count": 146,
   "id": "cfbed6e3",
   "metadata": {
    "scrolled": true
   },
   "outputs": [
    {
     "data": {
      "text/plain": [
       "['VINCENT CHASE',\n",
       " 'ROYAL SON',\n",
       " 'DAHAAZIL',\n",
       " 'New Specs',\n",
       " 'Fastrack',\n",
       " 'SUNBEE',\n",
       " 'Elligator',\n",
       " 'ROZZETTA CRAFT',\n",
       " 'SUNBEE',\n",
       " 'PIRASO',\n",
       " 'SRPM',\n",
       " 'ROYAL SON',\n",
       " 'SHAAH COLLECTIONS',\n",
       " 'Fastrack',\n",
       " 'Fastrack',\n",
       " 'ROYAL SON',\n",
       " 'PIRASO',\n",
       " 'Lee Topper',\n",
       " 'PIRASO',\n",
       " 'elegante',\n",
       " 'ROZZETTA CRAFT',\n",
       " 'PIRASO',\n",
       " 'Lee Topper',\n",
       " 'GANSTA',\n",
       " 'PIRASO',\n",
       " 'PIRASO',\n",
       " 'NuVew',\n",
       " 'Ray-Ban',\n",
       " 'Mi',\n",
       " 'ROZZETTA CRAFT',\n",
       " 'Fastrack',\n",
       " 'povty',\n",
       " 'PIRASO',\n",
       " 'SHAAH COLLECTIONS',\n",
       " 'ROZZETTA CRAFT',\n",
       " 'GANSTA',\n",
       " 'Sewell',\n",
       " 'SRPM',\n",
       " 'Fastrack',\n",
       " 'Ray-Ban']"
      ]
     },
     "execution_count": 146,
     "metadata": {},
     "output_type": "execute_result"
    }
   ],
   "source": [
    "brand_name1"
   ]
  },
  {
   "cell_type": "code",
   "execution_count": 147,
   "id": "36c5cd4d",
   "metadata": {},
   "outputs": [
    {
     "data": {
      "text/plain": [
       "<selenium.webdriver.remote.webelement.WebElement (session=\"183dc41fb5ad5f2131ea3ad3ff0890f8\", element=\"f6001b0d-68d2-4fae-8d39-4d960cc54356\")>"
      ]
     },
     "execution_count": 147,
     "metadata": {},
     "output_type": "execute_result"
    }
   ],
   "source": [
    "next_button=driver.find_element(By.XPATH,'/html/body/div[1]/div/div[3]/div[1]/div[2]/div[12]/div/div/nav/a[11]')\n",
    "next_button"
   ]
  },
  {
   "cell_type": "code",
   "execution_count": 148,
   "id": "aca0090a",
   "metadata": {},
   "outputs": [],
   "source": [
    "next_button.click()"
   ]
  },
  {
   "cell_type": "code",
   "execution_count": 149,
   "id": "46714099",
   "metadata": {},
   "outputs": [
    {
     "data": {
      "text/plain": [
       "40"
      ]
     },
     "execution_count": 149,
     "metadata": {},
     "output_type": "execute_result"
    }
   ],
   "source": [
    "brand_tags=driver.find_elements(By.XPATH,'//div[@class=\"_2WkVRV\"]')\n",
    "len(brand_tags)\n"
   ]
  },
  {
   "cell_type": "code",
   "execution_count": 150,
   "id": "dd9b74cf",
   "metadata": {},
   "outputs": [
    {
     "data": {
      "text/plain": [
       "40"
      ]
     },
     "execution_count": 150,
     "metadata": {},
     "output_type": "execute_result"
    }
   ],
   "source": [
    "brand_name2=[]\n",
    "for i in brand_tags:\n",
    "    brand_name2.append(i.text)\n",
    "    \n",
    "    \n",
    "len(brand_name2)"
   ]
  },
  {
   "cell_type": "code",
   "execution_count": 151,
   "id": "ff3a8bc8",
   "metadata": {
    "scrolled": true
   },
   "outputs": [
    {
     "data": {
      "text/plain": [
       "['kingsunglasses',\n",
       " 'PIRASO',\n",
       " 'Fastrack',\n",
       " 'VINCENT CHASE',\n",
       " 'SRPM',\n",
       " 'kingsunglasses',\n",
       " 'CRYSTAL CART',\n",
       " 'VINCENT CHASE',\n",
       " 'LIZA ANGEL',\n",
       " 'ROYAL SON',\n",
       " 'Fastrack',\n",
       " 'VINCENT CHASE',\n",
       " 'AISLIN',\n",
       " 'ROYAL SON',\n",
       " 'ROYAL SON',\n",
       " 'Arnette',\n",
       " 'VINCENT CHASE',\n",
       " 'Elligator',\n",
       " 'Silver Kartz',\n",
       " 'GANSTA',\n",
       " 'PIRASO',\n",
       " 'PHENOMENAL',\n",
       " 'CRYSTAL CART',\n",
       " 'ROYAL SON',\n",
       " 'ROZZETTA CRAFT',\n",
       " 'Rich Club',\n",
       " 'VINCENT CHASE',\n",
       " 'VINCENT CHASE',\n",
       " 'ROYAL SON',\n",
       " 'ROZZETTA CRAFT',\n",
       " 'Elligator',\n",
       " 'ROYAL SON',\n",
       " 'Fastrack',\n",
       " 'SRPM',\n",
       " 'Fastrack',\n",
       " 'Sewell',\n",
       " 'Singco India',\n",
       " 'ROZZETTA CRAFT',\n",
       " 'New Specs',\n",
       " 'Ray-Ban']"
      ]
     },
     "execution_count": 151,
     "metadata": {},
     "output_type": "execute_result"
    }
   ],
   "source": [
    "brand_name2"
   ]
  },
  {
   "cell_type": "code",
   "execution_count": 152,
   "id": "5c45b430",
   "metadata": {},
   "outputs": [
    {
     "data": {
      "text/plain": [
       "<selenium.webdriver.remote.webelement.WebElement (session=\"183dc41fb5ad5f2131ea3ad3ff0890f8\", element=\"f6001b0d-68d2-4fae-8d39-4d960cc54356\")>"
      ]
     },
     "execution_count": 152,
     "metadata": {},
     "output_type": "execute_result"
    }
   ],
   "source": [
    "next_button=driver.find_element(By.XPATH,'/html/body/div[1]/div/div[3]/div[1]/div[2]/div[12]/div/div/nav/a[12]')\n",
    "next_button"
   ]
  },
  {
   "cell_type": "code",
   "execution_count": 153,
   "id": "40c444d6",
   "metadata": {},
   "outputs": [],
   "source": [
    "next_button.click()"
   ]
  },
  {
   "cell_type": "code",
   "execution_count": 154,
   "id": "8f38a8ac",
   "metadata": {},
   "outputs": [
    {
     "data": {
      "text/plain": [
       "40"
      ]
     },
     "execution_count": 154,
     "metadata": {},
     "output_type": "execute_result"
    }
   ],
   "source": [
    "brand_tags=driver.find_elements(By.XPATH,'//div[@class=\"_2WkVRV\"]')\n",
    "len(brand_tags)\n"
   ]
  },
  {
   "cell_type": "code",
   "execution_count": 155,
   "id": "bfb028ac",
   "metadata": {},
   "outputs": [
    {
     "data": {
      "text/plain": [
       "40"
      ]
     },
     "execution_count": 155,
     "metadata": {},
     "output_type": "execute_result"
    }
   ],
   "source": [
    "brand_name3=[]\n",
    "for i in brand_tags:\n",
    "    brand_name3.append(i.text)\n",
    "    \n",
    "    \n",
    "len(brand_name3)"
   ]
  },
  {
   "cell_type": "code",
   "execution_count": 156,
   "id": "887a23b1",
   "metadata": {
    "scrolled": true
   },
   "outputs": [
    {
     "data": {
      "text/plain": [
       "['Singco India',\n",
       " 'kingsunglasses',\n",
       " 'kingsunglasses',\n",
       " 'VINCENT CHASE',\n",
       " 'New Specs',\n",
       " 'VINCENT CHASE',\n",
       " 'Fastrack',\n",
       " 'ROYAL SON',\n",
       " 'Fastrack',\n",
       " 'SHAAH COLLECTIONS',\n",
       " 'Fastrack',\n",
       " 'ROYAL SON',\n",
       " 'ROYAL SON',\n",
       " 'VINCENT CHASE',\n",
       " 'ROYAL SON',\n",
       " 'agera',\n",
       " 'ROYAL SON',\n",
       " 'PIRASO',\n",
       " 'Fastrack',\n",
       " 'Ray-Ban',\n",
       " 'Lee Topper',\n",
       " 'PHENOMENAL',\n",
       " 'ROYAL SON',\n",
       " 'ROYAL SON',\n",
       " 'Fastrack',\n",
       " 'New Specs',\n",
       " 'VINCENT CHASE',\n",
       " 'ROYAL SON',\n",
       " 'VINCENT CHASE',\n",
       " 'Urbanic',\n",
       " 'VINCENT CHASE',\n",
       " 'Ray-Ban',\n",
       " 'Lee Topper',\n",
       " 'VINCENT CHASE',\n",
       " 'kingsunglasses',\n",
       " 'VINCENT CHASE',\n",
       " 'Mi',\n",
       " 'kingsunglasses',\n",
       " 'GANSTA',\n",
       " 'ROYAL SON']"
      ]
     },
     "execution_count": 156,
     "metadata": {},
     "output_type": "execute_result"
    }
   ],
   "source": [
    "brand_name3"
   ]
  },
  {
   "cell_type": "code",
   "execution_count": 157,
   "id": "c3075e70",
   "metadata": {},
   "outputs": [
    {
     "data": {
      "text/plain": [
       "['VINCENT CHASE',\n",
       " 'ROYAL SON',\n",
       " 'DAHAAZIL',\n",
       " 'New Specs',\n",
       " 'Fastrack',\n",
       " 'SUNBEE',\n",
       " 'Elligator',\n",
       " 'ROZZETTA CRAFT',\n",
       " 'SUNBEE',\n",
       " 'PIRASO',\n",
       " 'SRPM',\n",
       " 'ROYAL SON',\n",
       " 'SHAAH COLLECTIONS',\n",
       " 'Fastrack',\n",
       " 'Fastrack',\n",
       " 'ROYAL SON',\n",
       " 'PIRASO',\n",
       " 'Lee Topper',\n",
       " 'PIRASO',\n",
       " 'elegante',\n",
       " 'ROZZETTA CRAFT',\n",
       " 'PIRASO',\n",
       " 'Lee Topper',\n",
       " 'GANSTA',\n",
       " 'PIRASO',\n",
       " 'PIRASO',\n",
       " 'NuVew',\n",
       " 'Ray-Ban',\n",
       " 'Mi',\n",
       " 'ROZZETTA CRAFT',\n",
       " 'Fastrack',\n",
       " 'povty',\n",
       " 'PIRASO',\n",
       " 'SHAAH COLLECTIONS',\n",
       " 'ROZZETTA CRAFT',\n",
       " 'GANSTA',\n",
       " 'Sewell',\n",
       " 'SRPM',\n",
       " 'Fastrack',\n",
       " 'Ray-Ban',\n",
       " 'kingsunglasses',\n",
       " 'PIRASO',\n",
       " 'Fastrack',\n",
       " 'VINCENT CHASE',\n",
       " 'SRPM',\n",
       " 'kingsunglasses',\n",
       " 'CRYSTAL CART',\n",
       " 'VINCENT CHASE',\n",
       " 'LIZA ANGEL',\n",
       " 'ROYAL SON',\n",
       " 'Fastrack',\n",
       " 'VINCENT CHASE',\n",
       " 'AISLIN',\n",
       " 'ROYAL SON',\n",
       " 'ROYAL SON',\n",
       " 'Arnette',\n",
       " 'VINCENT CHASE',\n",
       " 'Elligator',\n",
       " 'Silver Kartz',\n",
       " 'GANSTA',\n",
       " 'PIRASO',\n",
       " 'PHENOMENAL',\n",
       " 'CRYSTAL CART',\n",
       " 'ROYAL SON',\n",
       " 'ROZZETTA CRAFT',\n",
       " 'Rich Club',\n",
       " 'VINCENT CHASE',\n",
       " 'VINCENT CHASE',\n",
       " 'ROYAL SON',\n",
       " 'ROZZETTA CRAFT',\n",
       " 'Elligator',\n",
       " 'ROYAL SON',\n",
       " 'Fastrack',\n",
       " 'SRPM',\n",
       " 'Fastrack',\n",
       " 'Sewell',\n",
       " 'Singco India',\n",
       " 'ROZZETTA CRAFT',\n",
       " 'New Specs',\n",
       " 'Ray-Ban',\n",
       " 'Singco India',\n",
       " 'kingsunglasses',\n",
       " 'kingsunglasses',\n",
       " 'VINCENT CHASE',\n",
       " 'New Specs',\n",
       " 'VINCENT CHASE',\n",
       " 'Fastrack',\n",
       " 'ROYAL SON',\n",
       " 'Fastrack',\n",
       " 'SHAAH COLLECTIONS',\n",
       " 'Fastrack',\n",
       " 'ROYAL SON',\n",
       " 'ROYAL SON',\n",
       " 'VINCENT CHASE',\n",
       " 'ROYAL SON',\n",
       " 'agera',\n",
       " 'ROYAL SON',\n",
       " 'PIRASO',\n",
       " 'Fastrack',\n",
       " 'Ray-Ban',\n",
       " 'Lee Topper',\n",
       " 'PHENOMENAL',\n",
       " 'ROYAL SON',\n",
       " 'ROYAL SON',\n",
       " 'Fastrack',\n",
       " 'New Specs',\n",
       " 'VINCENT CHASE',\n",
       " 'ROYAL SON',\n",
       " 'VINCENT CHASE',\n",
       " 'Urbanic',\n",
       " 'VINCENT CHASE',\n",
       " 'Ray-Ban',\n",
       " 'Lee Topper',\n",
       " 'VINCENT CHASE',\n",
       " 'kingsunglasses',\n",
       " 'VINCENT CHASE',\n",
       " 'Mi',\n",
       " 'kingsunglasses',\n",
       " 'GANSTA',\n",
       " 'ROYAL SON']"
      ]
     },
     "execution_count": 157,
     "metadata": {},
     "output_type": "execute_result"
    }
   ],
   "source": [
    "brand_name=brand_name1+brand_name2+brand_name3\n",
    "brand_name"
   ]
  },
  {
   "cell_type": "code",
   "execution_count": 158,
   "id": "65dd96b8",
   "metadata": {},
   "outputs": [
    {
     "data": {
      "text/plain": [
       "120"
      ]
     },
     "execution_count": 158,
     "metadata": {},
     "output_type": "execute_result"
    }
   ],
   "source": [
    "len(brand_name)"
   ]
  },
  {
   "cell_type": "code",
   "execution_count": 159,
   "id": "41d44be9",
   "metadata": {
    "scrolled": true
   },
   "outputs": [
    {
     "data": {
      "text/plain": [
       "['VINCENT CHASE',\n",
       " 'ROYAL SON',\n",
       " 'DAHAAZIL',\n",
       " 'New Specs',\n",
       " 'Fastrack',\n",
       " 'SUNBEE',\n",
       " 'Elligator',\n",
       " 'ROZZETTA CRAFT',\n",
       " 'SUNBEE',\n",
       " 'PIRASO',\n",
       " 'SRPM',\n",
       " 'ROYAL SON',\n",
       " 'SHAAH COLLECTIONS',\n",
       " 'Fastrack',\n",
       " 'Fastrack',\n",
       " 'ROYAL SON',\n",
       " 'PIRASO',\n",
       " 'Lee Topper',\n",
       " 'PIRASO',\n",
       " 'elegante',\n",
       " 'ROZZETTA CRAFT',\n",
       " 'PIRASO',\n",
       " 'Lee Topper',\n",
       " 'GANSTA',\n",
       " 'PIRASO',\n",
       " 'PIRASO',\n",
       " 'NuVew',\n",
       " 'Ray-Ban',\n",
       " 'Mi',\n",
       " 'ROZZETTA CRAFT',\n",
       " 'Fastrack',\n",
       " 'povty',\n",
       " 'PIRASO',\n",
       " 'SHAAH COLLECTIONS',\n",
       " 'ROZZETTA CRAFT',\n",
       " 'GANSTA',\n",
       " 'Sewell',\n",
       " 'SRPM',\n",
       " 'Fastrack',\n",
       " 'Ray-Ban',\n",
       " 'kingsunglasses',\n",
       " 'PIRASO',\n",
       " 'Fastrack',\n",
       " 'VINCENT CHASE',\n",
       " 'SRPM',\n",
       " 'kingsunglasses',\n",
       " 'CRYSTAL CART',\n",
       " 'VINCENT CHASE',\n",
       " 'LIZA ANGEL',\n",
       " 'ROYAL SON',\n",
       " 'Fastrack',\n",
       " 'VINCENT CHASE',\n",
       " 'AISLIN',\n",
       " 'ROYAL SON',\n",
       " 'ROYAL SON',\n",
       " 'Arnette',\n",
       " 'VINCENT CHASE',\n",
       " 'Elligator',\n",
       " 'Silver Kartz',\n",
       " 'GANSTA',\n",
       " 'PIRASO',\n",
       " 'PHENOMENAL',\n",
       " 'CRYSTAL CART',\n",
       " 'ROYAL SON',\n",
       " 'ROZZETTA CRAFT',\n",
       " 'Rich Club',\n",
       " 'VINCENT CHASE',\n",
       " 'VINCENT CHASE',\n",
       " 'ROYAL SON',\n",
       " 'ROZZETTA CRAFT',\n",
       " 'Elligator',\n",
       " 'ROYAL SON',\n",
       " 'Fastrack',\n",
       " 'SRPM',\n",
       " 'Fastrack',\n",
       " 'Sewell',\n",
       " 'Singco India',\n",
       " 'ROZZETTA CRAFT',\n",
       " 'New Specs',\n",
       " 'Ray-Ban',\n",
       " 'Singco India',\n",
       " 'kingsunglasses',\n",
       " 'kingsunglasses',\n",
       " 'VINCENT CHASE',\n",
       " 'New Specs',\n",
       " 'VINCENT CHASE',\n",
       " 'Fastrack',\n",
       " 'ROYAL SON',\n",
       " 'Fastrack',\n",
       " 'SHAAH COLLECTIONS',\n",
       " 'Fastrack',\n",
       " 'ROYAL SON',\n",
       " 'ROYAL SON',\n",
       " 'VINCENT CHASE',\n",
       " 'ROYAL SON',\n",
       " 'agera',\n",
       " 'ROYAL SON',\n",
       " 'PIRASO',\n",
       " 'Fastrack',\n",
       " 'Ray-Ban']"
      ]
     },
     "execution_count": 159,
     "metadata": {},
     "output_type": "execute_result"
    }
   ],
   "source": [
    "brand_name=brand_name[0:100]\n",
    "brand_name\n"
   ]
  },
  {
   "cell_type": "markdown",
   "id": "8b697feb",
   "metadata": {},
   "source": [
    "# Extracting Product Desription"
   ]
  },
  {
   "cell_type": "code",
   "execution_count": 160,
   "id": "c6057fc0",
   "metadata": {},
   "outputs": [
    {
     "data": {
      "text/plain": [
       "40"
      ]
     },
     "execution_count": 160,
     "metadata": {},
     "output_type": "execute_result"
    }
   ],
   "source": [
    "product_tags=driver.find_elements(By.XPATH,'//a[@class=\"IRpwTa\"]')\n",
    "\n",
    "len(product_tags)"
   ]
  },
  {
   "cell_type": "code",
   "execution_count": 162,
   "id": "abec9c72",
   "metadata": {},
   "outputs": [
    {
     "data": {
      "text/plain": [
       "40"
      ]
     },
     "execution_count": 162,
     "metadata": {},
     "output_type": "execute_result"
    }
   ],
   "source": [
    "product_description1=[]\n",
    "for i in product_tags:\n",
    "    product_description1.append(i.text)\n",
    "    \n",
    "    \n",
    "len(product_description1)"
   ]
  },
  {
   "cell_type": "code",
   "execution_count": 163,
   "id": "281171c6",
   "metadata": {
    "scrolled": true
   },
   "outputs": [
    {
     "data": {
      "text/plain": [
       "['by Lenskart Polarized, UV Protection Round Sunglasses (...',\n",
       " 'Polarized, UV Protection Aviator Sunglasses (57)',\n",
       " 'UV Protection, Night Vision, Riding Glasses Wayfarer, W...',\n",
       " 'UV Protection Rectangular Sunglasses (Free Size)',\n",
       " 'UV Protection Rectangular Sunglasses (Free Size)',\n",
       " 'UV Protection Round Sunglasses (54)',\n",
       " 'UV Protection, Polarized, Mirrored Retro Square Sunglas...',\n",
       " 'UV Protection Spectacle Sunglasses (Free Size)',\n",
       " 'UV Protection Aviator Sunglasses (54)',\n",
       " 'UV Protection Wayfarer Sunglasses (50)',\n",
       " 'UV Protection, Polarized Wayfarer Sunglasses (Free Size...',\n",
       " 'Polarized, UV Protection Retro Square Sunglasses (55)',\n",
       " 'UV Protection, Polarized, Mirrored Rectangular Sunglass...',\n",
       " 'UV Protection Wayfarer Sunglasses (Free Size)',\n",
       " 'UV Protection Aviator Sunglasses (54)',\n",
       " 'Polarized, UV Protection Wayfarer, Retro Square Sunglas...',\n",
       " 'UV Protection Aviator Sunglasses (Free Size)',\n",
       " 'UV Protection Aviator Sunglasses (58)',\n",
       " 'Riding Glasses Wrap-around Sunglasses (Free Size)',\n",
       " 'Polarized, Riding Glasses, Night Vision Sports Sunglass...',\n",
       " 'UV Protection Cat-eye Sunglasses (Free Size)',\n",
       " 'UV Protection Rectangular Sunglasses (52)',\n",
       " 'Polarized, Riding Glasses Sports, Wrap-around Sunglasse...',\n",
       " 'UV Protection Aviator Sunglasses (57)',\n",
       " 'UV Protection Wayfarer Sunglasses (32)',\n",
       " 'UV Protection Aviator Sunglasses (54)',\n",
       " 'UV Protection Sports Sunglasses (62)',\n",
       " 'Mirrored, UV Protection Aviator Sunglasses (58)',\n",
       " 'UV Protection Over-sized Sunglasses (65)',\n",
       " 'Polarized Aviator Sunglasses (Free Size)',\n",
       " 'UV Protection, Gradient Retro Square Sunglasses (Free S...',\n",
       " 'UV Protection Retro Square Sunglasses (Free Size)',\n",
       " 'Mirrored, Night Vision, UV Protection, Riding Glasses S...',\n",
       " 'UV Protection Rectangular Sunglasses (Free Size)',\n",
       " 'Gradient, UV Protection Wayfarer Sunglasses (Free Size)',\n",
       " 'Gradient Round Sunglasses (54)',\n",
       " 'UV Protection Round Sunglasses (Free Size)',\n",
       " 'Others Wayfarer, Retro Square Sunglasses (50)',\n",
       " 'UV Protection, Polarized, Mirrored Wayfarer Sunglasses ...',\n",
       " 'Polarized, UV Protection Retro Square Sunglasses (62)']"
      ]
     },
     "execution_count": 163,
     "metadata": {},
     "output_type": "execute_result"
    }
   ],
   "source": [
    "product_description1"
   ]
  },
  {
   "cell_type": "code",
   "execution_count": 164,
   "id": "30a5bdbe",
   "metadata": {},
   "outputs": [
    {
     "data": {
      "text/plain": [
       "<selenium.webdriver.remote.webelement.WebElement (session=\"183dc41fb5ad5f2131ea3ad3ff0890f8\", element=\"f6001b0d-68d2-4fae-8d39-4d960cc54356\")>"
      ]
     },
     "execution_count": 164,
     "metadata": {},
     "output_type": "execute_result"
    }
   ],
   "source": [
    "next_button=driver.find_element(By.XPATH,'/html/body/div[1]/div/div[3]/div[1]/div[2]/div[12]/div/div/nav/a[11]')\n",
    "next_button"
   ]
  },
  {
   "cell_type": "code",
   "execution_count": 165,
   "id": "dcd8bbde",
   "metadata": {},
   "outputs": [],
   "source": [
    "next_button.click()"
   ]
  },
  {
   "cell_type": "code",
   "execution_count": 166,
   "id": "21849b70",
   "metadata": {},
   "outputs": [
    {
     "data": {
      "text/plain": [
       "40"
      ]
     },
     "execution_count": 166,
     "metadata": {},
     "output_type": "execute_result"
    }
   ],
   "source": [
    "product_tags=driver.find_elements(By.XPATH,'//a[@class=\"IRpwTa\"]')\n",
    "\n",
    "len(product_tags)"
   ]
  },
  {
   "cell_type": "code",
   "execution_count": 167,
   "id": "7aadbea6",
   "metadata": {},
   "outputs": [
    {
     "data": {
      "text/plain": [
       "40"
      ]
     },
     "execution_count": 167,
     "metadata": {},
     "output_type": "execute_result"
    }
   ],
   "source": [
    "product_description2=[]\n",
    "for i in product_tags:\n",
    "    product_description2.append(i.text)\n",
    "    \n",
    "    \n",
    "len(product_description2)"
   ]
  },
  {
   "cell_type": "code",
   "execution_count": 168,
   "id": "2cbacd90",
   "metadata": {},
   "outputs": [
    {
     "data": {
      "text/plain": [
       "['Mirrored, UV Protection, Riding Glasses, Others Round S...',\n",
       " 'UV Protection Aviator Sunglasses (58)',\n",
       " 'UV Protection, Riding Glasses, Mirrored Wayfarer Sungla...',\n",
       " 'Polarized, UV Protection Aviator Sunglasses (57)',\n",
       " 'Mirrored Aviator Sunglasses (55)',\n",
       " 'UV Protection Rectangular Sunglasses (Free Size)',\n",
       " 'UV Protection Wayfarer Sunglasses (53)',\n",
       " 'UV Protection Spectacle Sunglasses (Free Size)',\n",
       " 'UV Protection Round Sunglasses (54)',\n",
       " 'UV Protection Aviator Sunglasses (55)',\n",
       " 'Mirrored, Night Vision Oval Sunglasses (Free Size)',\n",
       " 'Polarized, Riding Glasses, Night Vision Sports Sunglass...',\n",
       " 'Riding Glasses, Night Vision Spectacle Sunglasses (Fre...',\n",
       " 'Gradient, UV Protection Wayfarer Sunglasses (Free Size)',\n",
       " 'UV Protection Aviator Sunglasses (Free Size)',\n",
       " 'Polarized, UV Protection Retro Square Sunglasses (55)',\n",
       " 'UV Protection, Gradient Butterfly, Retro Square Sunglas...',\n",
       " 'Mirrored Aviator Sunglasses (Free Size)',\n",
       " 'UV Protection Wayfarer Sunglasses (Free Size)',\n",
       " 'Polarized, UV Protection Wayfarer, Retro Square Sunglas...',\n",
       " 'Mirrored Aviator Sunglasses (58)',\n",
       " 'UV Protection Wayfarer Sunglasses (Free Size)',\n",
       " 'UV Protection Round Sunglasses (53)',\n",
       " 'UV Protection Aviator Sunglasses (57)',\n",
       " 'UV Protection Aviator Sunglasses (54)',\n",
       " 'by Lenskart Polarized, UV Protection Rectangular Sungla...',\n",
       " 'UV Protection Rectangular Sunglasses (55)',\n",
       " 'UV Protection Retro Square Sunglasses (Free Size)',\n",
       " 'Mirrored Aviator Sunglasses (55)',\n",
       " 'by Lenskart Polarized, UV Protection Wayfarer Sunglasse...',\n",
       " 'UV Protection Retro Square Sunglasses (Free Size)',\n",
       " 'Mirrored, UV Protection Aviator Sunglasses (58)',\n",
       " 'Polarized, UV Protection, Mirrored, Gradient Rectangula...',\n",
       " 'UV Protection, Gradient Rectangular Sunglasses (Free Si...',\n",
       " 'Mirrored, UV Protection Wayfarer Sunglasses (Free Size)',\n",
       " 'Night Vision, Riding Glasses Retro Square Sunglasses (5...',\n",
       " 'UV Protection Retro Square Sunglasses (Free Size)',\n",
       " 'UV Protection, Riding Glasses Rectangular, Retro Square...',\n",
       " 'UV Protection Retro Square Sunglasses (Free Size)',\n",
       " 'UV Protection, Night Vision, Riding Glasses Aviator Sun...']"
      ]
     },
     "execution_count": 168,
     "metadata": {},
     "output_type": "execute_result"
    }
   ],
   "source": [
    "product_description2"
   ]
  },
  {
   "cell_type": "code",
   "execution_count": 169,
   "id": "04744edc",
   "metadata": {},
   "outputs": [
    {
     "data": {
      "text/plain": [
       "<selenium.webdriver.remote.webelement.WebElement (session=\"183dc41fb5ad5f2131ea3ad3ff0890f8\", element=\"f6001b0d-68d2-4fae-8d39-4d960cc54356\")>"
      ]
     },
     "execution_count": 169,
     "metadata": {},
     "output_type": "execute_result"
    }
   ],
   "source": [
    "next_button=driver.find_element(By.XPATH,'/html/body/div[1]/div/div[3]/div[1]/div[2]/div[12]/div/div/nav/a[12]')\n",
    "next_button"
   ]
  },
  {
   "cell_type": "code",
   "execution_count": 170,
   "id": "652f8e01",
   "metadata": {},
   "outputs": [],
   "source": [
    "next_button.click()"
   ]
  },
  {
   "cell_type": "code",
   "execution_count": 171,
   "id": "4ad4fac6",
   "metadata": {},
   "outputs": [
    {
     "data": {
      "text/plain": [
       "40"
      ]
     },
     "execution_count": 171,
     "metadata": {},
     "output_type": "execute_result"
    }
   ],
   "source": [
    "product_tags=driver.find_elements(By.XPATH,'//a[@class=\"IRpwTa\"]')\n",
    "\n",
    "len(product_tags)"
   ]
  },
  {
   "cell_type": "code",
   "execution_count": 172,
   "id": "d34a4876",
   "metadata": {},
   "outputs": [
    {
     "data": {
      "text/plain": [
       "40"
      ]
     },
     "execution_count": 172,
     "metadata": {},
     "output_type": "execute_result"
    }
   ],
   "source": [
    "product_description3=[]\n",
    "for i in product_tags:\n",
    "    product_description3.append(i.text)\n",
    "    \n",
    "    \n",
    "len(product_description3)"
   ]
  },
  {
   "cell_type": "code",
   "execution_count": 173,
   "id": "fb01ba7e",
   "metadata": {},
   "outputs": [
    {
     "data": {
      "text/plain": [
       "['UV Protection Round Sunglasses (Free Size)',\n",
       " 'UV Protection Shield Sunglasses (Free Size)',\n",
       " 'Gradient, Toughened Glass Lens, UV Protection Retro Squ...',\n",
       " 'by Lenskart Polarized, UV Protection Cat-eye Sunglasses...',\n",
       " 'UV Protection Round Sunglasses (Free Size)',\n",
       " 'UV Protection, Mirrored Aviator Sunglasses (Free Size)',\n",
       " 'Mirrored, UV Protection Wayfarer, Rectangular Sunglasse...',\n",
       " 'by Lenskart Polarized, UV Protection Round Sunglasses (...',\n",
       " 'Gradient, Toughened Glass Lens, UV Protection Retro Squ...',\n",
       " 'Mirrored, UV Protection Wayfarer Sunglasses (Free Size)',\n",
       " 'UV Protection Rectangular Sunglasses (Free Size)',\n",
       " 'Others Oval Sunglasses (53)',\n",
       " 'UV Protection, Gradient Round Sunglasses (Free Size)',\n",
       " 'UV Protection Wayfarer Sunglasses (Free Size)',\n",
       " 'UV Protection Wayfarer Sunglasses (Free Size)',\n",
       " 'Polarized, UV Protection Rectangular Sunglasses (60)',\n",
       " 'UV Protection Round Sunglasses (Free Size)',\n",
       " 'by Lenskart Polarized, UV Protection Cat-eye Sunglasses...',\n",
       " 'UV Protection, Gradient Butterfly Sunglasses (62)',\n",
       " 'UV Protection Oval Sunglasses (49)',\n",
       " 'UV Protection Wayfarer Sunglasses (Free Size)',\n",
       " 'UV Protection, Gradient Oval Sunglasses (58)',\n",
       " 'UV Protection, Gradient Butterfly Sunglasses (52)',\n",
       " 'by Lenskart UV Protection Wayfarer Sunglasses (51)',\n",
       " 'by Lenskart Polarized, UV Protection Round Sunglasses (...',\n",
       " 'UV Protection, Gradient Wayfarer Sunglasses (55)',\n",
       " 'Others Oval Sunglasses (Free Size)',\n",
       " 'UV Protection Round Sunglasses (53)',\n",
       " 'UV Protection Wayfarer Sunglasses (55)',\n",
       " 'UV Protection Shield Sunglasses (Free Size)',\n",
       " 'Polarized, UV Protection Wayfarer Sunglasses (61)',\n",
       " 'Polarized, UV Protection Aviator Sunglasses (57)',\n",
       " 'UV Protection Butterfly Sunglasses (60)',\n",
       " 'Polarized Retro Square Sunglasses (Free Size)',\n",
       " 'UV Protection Round Sunglasses (Free Size)',\n",
       " 'UV Protection Wayfarer Sunglasses (46)',\n",
       " 'by Lenskart Polarized, UV Protection Aviator Sunglasses...',\n",
       " 'Polarized, UV Protection Round Sunglasses (51)',\n",
       " 'Riding Glasses, Night Vision Wrap-around Sunglasses (Fr...',\n",
       " 'Polarized Butterfly Sunglasses (Free Size)']"
      ]
     },
     "execution_count": 173,
     "metadata": {},
     "output_type": "execute_result"
    }
   ],
   "source": [
    "product_description3"
   ]
  },
  {
   "cell_type": "code",
   "execution_count": 174,
   "id": "4df9805a",
   "metadata": {},
   "outputs": [],
   "source": [
    "product_description=product_description1+product_description2+product_description3"
   ]
  },
  {
   "cell_type": "code",
   "execution_count": 175,
   "id": "3c5c22c8",
   "metadata": {},
   "outputs": [
    {
     "data": {
      "text/plain": [
       "120"
      ]
     },
     "execution_count": 175,
     "metadata": {},
     "output_type": "execute_result"
    }
   ],
   "source": [
    "len(product_description)"
   ]
  },
  {
   "cell_type": "code",
   "execution_count": 176,
   "id": "1dd92352",
   "metadata": {
    "scrolled": true
   },
   "outputs": [
    {
     "data": {
      "text/plain": [
       "['by Lenskart Polarized, UV Protection Round Sunglasses (...',\n",
       " 'Polarized, UV Protection Aviator Sunglasses (57)',\n",
       " 'UV Protection, Night Vision, Riding Glasses Wayfarer, W...',\n",
       " 'UV Protection Rectangular Sunglasses (Free Size)',\n",
       " 'UV Protection Rectangular Sunglasses (Free Size)',\n",
       " 'UV Protection Round Sunglasses (54)',\n",
       " 'UV Protection, Polarized, Mirrored Retro Square Sunglas...',\n",
       " 'UV Protection Spectacle Sunglasses (Free Size)',\n",
       " 'UV Protection Aviator Sunglasses (54)',\n",
       " 'UV Protection Wayfarer Sunglasses (50)',\n",
       " 'UV Protection, Polarized Wayfarer Sunglasses (Free Size...',\n",
       " 'Polarized, UV Protection Retro Square Sunglasses (55)',\n",
       " 'UV Protection, Polarized, Mirrored Rectangular Sunglass...',\n",
       " 'UV Protection Wayfarer Sunglasses (Free Size)',\n",
       " 'UV Protection Aviator Sunglasses (54)',\n",
       " 'Polarized, UV Protection Wayfarer, Retro Square Sunglas...',\n",
       " 'UV Protection Aviator Sunglasses (Free Size)',\n",
       " 'UV Protection Aviator Sunglasses (58)',\n",
       " 'Riding Glasses Wrap-around Sunglasses (Free Size)',\n",
       " 'Polarized, Riding Glasses, Night Vision Sports Sunglass...',\n",
       " 'UV Protection Cat-eye Sunglasses (Free Size)',\n",
       " 'UV Protection Rectangular Sunglasses (52)',\n",
       " 'Polarized, Riding Glasses Sports, Wrap-around Sunglasse...',\n",
       " 'UV Protection Aviator Sunglasses (57)',\n",
       " 'UV Protection Wayfarer Sunglasses (32)',\n",
       " 'UV Protection Aviator Sunglasses (54)',\n",
       " 'UV Protection Sports Sunglasses (62)',\n",
       " 'Mirrored, UV Protection Aviator Sunglasses (58)',\n",
       " 'UV Protection Over-sized Sunglasses (65)',\n",
       " 'Polarized Aviator Sunglasses (Free Size)',\n",
       " 'UV Protection, Gradient Retro Square Sunglasses (Free S...',\n",
       " 'UV Protection Retro Square Sunglasses (Free Size)',\n",
       " 'Mirrored, Night Vision, UV Protection, Riding Glasses S...',\n",
       " 'UV Protection Rectangular Sunglasses (Free Size)',\n",
       " 'Gradient, UV Protection Wayfarer Sunglasses (Free Size)',\n",
       " 'Gradient Round Sunglasses (54)',\n",
       " 'UV Protection Round Sunglasses (Free Size)',\n",
       " 'Others Wayfarer, Retro Square Sunglasses (50)',\n",
       " 'UV Protection, Polarized, Mirrored Wayfarer Sunglasses ...',\n",
       " 'Polarized, UV Protection Retro Square Sunglasses (62)',\n",
       " 'Mirrored, UV Protection, Riding Glasses, Others Round S...',\n",
       " 'UV Protection Aviator Sunglasses (58)',\n",
       " 'UV Protection, Riding Glasses, Mirrored Wayfarer Sungla...',\n",
       " 'Polarized, UV Protection Aviator Sunglasses (57)',\n",
       " 'Mirrored Aviator Sunglasses (55)',\n",
       " 'UV Protection Rectangular Sunglasses (Free Size)',\n",
       " 'UV Protection Wayfarer Sunglasses (53)',\n",
       " 'UV Protection Spectacle Sunglasses (Free Size)',\n",
       " 'UV Protection Round Sunglasses (54)',\n",
       " 'UV Protection Aviator Sunglasses (55)',\n",
       " 'Mirrored, Night Vision Oval Sunglasses (Free Size)',\n",
       " 'Polarized, Riding Glasses, Night Vision Sports Sunglass...',\n",
       " 'Riding Glasses, Night Vision Spectacle Sunglasses (Fre...',\n",
       " 'Gradient, UV Protection Wayfarer Sunglasses (Free Size)',\n",
       " 'UV Protection Aviator Sunglasses (Free Size)',\n",
       " 'Polarized, UV Protection Retro Square Sunglasses (55)',\n",
       " 'UV Protection, Gradient Butterfly, Retro Square Sunglas...',\n",
       " 'Mirrored Aviator Sunglasses (Free Size)',\n",
       " 'UV Protection Wayfarer Sunglasses (Free Size)',\n",
       " 'Polarized, UV Protection Wayfarer, Retro Square Sunglas...',\n",
       " 'Mirrored Aviator Sunglasses (58)',\n",
       " 'UV Protection Wayfarer Sunglasses (Free Size)',\n",
       " 'UV Protection Round Sunglasses (53)',\n",
       " 'UV Protection Aviator Sunglasses (57)',\n",
       " 'UV Protection Aviator Sunglasses (54)',\n",
       " 'by Lenskart Polarized, UV Protection Rectangular Sungla...',\n",
       " 'UV Protection Rectangular Sunglasses (55)',\n",
       " 'UV Protection Retro Square Sunglasses (Free Size)',\n",
       " 'Mirrored Aviator Sunglasses (55)',\n",
       " 'by Lenskart Polarized, UV Protection Wayfarer Sunglasse...',\n",
       " 'UV Protection Retro Square Sunglasses (Free Size)',\n",
       " 'Mirrored, UV Protection Aviator Sunglasses (58)',\n",
       " 'Polarized, UV Protection, Mirrored, Gradient Rectangula...',\n",
       " 'UV Protection, Gradient Rectangular Sunglasses (Free Si...',\n",
       " 'Mirrored, UV Protection Wayfarer Sunglasses (Free Size)',\n",
       " 'Night Vision, Riding Glasses Retro Square Sunglasses (5...',\n",
       " 'UV Protection Retro Square Sunglasses (Free Size)',\n",
       " 'UV Protection, Riding Glasses Rectangular, Retro Square...',\n",
       " 'UV Protection Retro Square Sunglasses (Free Size)',\n",
       " 'UV Protection, Night Vision, Riding Glasses Aviator Sun...',\n",
       " 'UV Protection Round Sunglasses (Free Size)',\n",
       " 'UV Protection Shield Sunglasses (Free Size)',\n",
       " 'Gradient, Toughened Glass Lens, UV Protection Retro Squ...',\n",
       " 'by Lenskart Polarized, UV Protection Cat-eye Sunglasses...',\n",
       " 'UV Protection Round Sunglasses (Free Size)',\n",
       " 'UV Protection, Mirrored Aviator Sunglasses (Free Size)',\n",
       " 'Mirrored, UV Protection Wayfarer, Rectangular Sunglasse...',\n",
       " 'by Lenskart Polarized, UV Protection Round Sunglasses (...',\n",
       " 'Gradient, Toughened Glass Lens, UV Protection Retro Squ...',\n",
       " 'Mirrored, UV Protection Wayfarer Sunglasses (Free Size)',\n",
       " 'UV Protection Rectangular Sunglasses (Free Size)',\n",
       " 'Others Oval Sunglasses (53)',\n",
       " 'UV Protection, Gradient Round Sunglasses (Free Size)',\n",
       " 'UV Protection Wayfarer Sunglasses (Free Size)',\n",
       " 'UV Protection Wayfarer Sunglasses (Free Size)',\n",
       " 'Polarized, UV Protection Rectangular Sunglasses (60)',\n",
       " 'UV Protection Round Sunglasses (Free Size)',\n",
       " 'by Lenskart Polarized, UV Protection Cat-eye Sunglasses...',\n",
       " 'UV Protection, Gradient Butterfly Sunglasses (62)',\n",
       " 'UV Protection Oval Sunglasses (49)']"
      ]
     },
     "execution_count": 176,
     "metadata": {},
     "output_type": "execute_result"
    }
   ],
   "source": [
    "product_description=product_description[0:100]\n",
    "product_description"
   ]
  },
  {
   "cell_type": "markdown",
   "id": "95f913bc",
   "metadata": {},
   "source": [
    "#  Extracting Price"
   ]
  },
  {
   "cell_type": "code",
   "execution_count": 177,
   "id": "f3a871ef",
   "metadata": {},
   "outputs": [
    {
     "data": {
      "text/plain": [
       "40"
      ]
     },
     "execution_count": 177,
     "metadata": {},
     "output_type": "execute_result"
    }
   ],
   "source": [
    "price_tags=driver.find_elements(By.XPATH,'//div[@class=\"_30jeq3\"]')\n",
    "\n",
    "len(price_tags)"
   ]
  },
  {
   "cell_type": "code",
   "execution_count": 178,
   "id": "675e8963",
   "metadata": {},
   "outputs": [
    {
     "data": {
      "text/plain": [
       "40"
      ]
     },
     "execution_count": 178,
     "metadata": {},
     "output_type": "execute_result"
    }
   ],
   "source": [
    "price1=[]\n",
    "\n",
    "for i in price_tags:\n",
    "    price1.append(i.text)\n",
    "len(price1)"
   ]
  },
  {
   "cell_type": "code",
   "execution_count": 179,
   "id": "36726701",
   "metadata": {
    "scrolled": true
   },
   "outputs": [
    {
     "data": {
      "text/plain": [
       "['₹749',\n",
       " '₹649',\n",
       " '₹177',\n",
       " '₹264',\n",
       " '₹639',\n",
       " '₹315',\n",
       " '₹259',\n",
       " '₹8,273',\n",
       " '₹224',\n",
       " '₹224',\n",
       " '₹283',\n",
       " '₹5,239',\n",
       " '₹195',\n",
       " '₹799',\n",
       " '₹224',\n",
       " '₹749',\n",
       " '₹639',\n",
       " '₹359',\n",
       " '₹299',\n",
       " '₹664',\n",
       " '₹229',\n",
       " '₹306',\n",
       " '₹474',\n",
       " '₹799',\n",
       " '₹226',\n",
       " '₹246',\n",
       " '₹291',\n",
       " '₹3,839',\n",
       " '₹359',\n",
       " '₹839',\n",
       " '₹331',\n",
       " '₹1,234',\n",
       " '₹265',\n",
       " '₹303',\n",
       " '₹719',\n",
       " '₹569',\n",
       " '₹279',\n",
       " '₹219',\n",
       " '₹283',\n",
       " '₹12,139']"
      ]
     },
     "execution_count": 179,
     "metadata": {},
     "output_type": "execute_result"
    }
   ],
   "source": [
    "price1"
   ]
  },
  {
   "cell_type": "code",
   "execution_count": 180,
   "id": "41733716",
   "metadata": {},
   "outputs": [
    {
     "data": {
      "text/plain": [
       "<selenium.webdriver.remote.webelement.WebElement (session=\"183dc41fb5ad5f2131ea3ad3ff0890f8\", element=\"f6001b0d-68d2-4fae-8d39-4d960cc54356\")>"
      ]
     },
     "execution_count": 180,
     "metadata": {},
     "output_type": "execute_result"
    }
   ],
   "source": [
    "next_button=driver.find_element(By.XPATH,'/html/body/div[1]/div/div[3]/div[1]/div[2]/div[12]/div/div/nav/a[11]')\n",
    "next_button"
   ]
  },
  {
   "cell_type": "code",
   "execution_count": 181,
   "id": "e9901e88",
   "metadata": {},
   "outputs": [],
   "source": [
    "next_button.click()"
   ]
  },
  {
   "cell_type": "code",
   "execution_count": 182,
   "id": "8697f70d",
   "metadata": {},
   "outputs": [
    {
     "data": {
      "text/plain": [
       "40"
      ]
     },
     "execution_count": 182,
     "metadata": {},
     "output_type": "execute_result"
    }
   ],
   "source": [
    "price_tags=driver.find_elements(By.XPATH,'//div[@class=\"_30jeq3\"]')\n",
    "\n",
    "len(price_tags)"
   ]
  },
  {
   "cell_type": "code",
   "execution_count": 183,
   "id": "f88841c9",
   "metadata": {},
   "outputs": [
    {
     "data": {
      "text/plain": [
       "40"
      ]
     },
     "execution_count": 183,
     "metadata": {},
     "output_type": "execute_result"
    }
   ],
   "source": [
    "price2=[]\n",
    "\n",
    "for i in price_tags:\n",
    "    price2.append(i.text)\n",
    "len(price2)"
   ]
  },
  {
   "cell_type": "code",
   "execution_count": 184,
   "id": "13d0724c",
   "metadata": {
    "scrolled": true
   },
   "outputs": [
    {
     "data": {
      "text/plain": [
       "['₹299',\n",
       " '₹1,039',\n",
       " '₹164',\n",
       " '₹314',\n",
       " '₹379',\n",
       " '₹219',\n",
       " '₹249',\n",
       " '₹1,533',\n",
       " '₹194',\n",
       " '₹246',\n",
       " '₹189',\n",
       " '₹975',\n",
       " '₹199',\n",
       " '₹719',\n",
       " '₹224',\n",
       " '₹1,533',\n",
       " '₹498',\n",
       " '₹379',\n",
       " '₹759',\n",
       " '₹759',\n",
       " '₹379',\n",
       " '₹320',\n",
       " '₹219',\n",
       " '₹379',\n",
       " '₹223',\n",
       " '₹749',\n",
       " '₹189',\n",
       " '₹616',\n",
       " '₹379',\n",
       " '₹749',\n",
       " '₹369',\n",
       " '₹664',\n",
       " '₹529',\n",
       " '₹379',\n",
       " '₹899',\n",
       " '₹499',\n",
       " '₹474',\n",
       " '₹379',\n",
       " '₹369',\n",
       " '₹233']"
      ]
     },
     "execution_count": 184,
     "metadata": {},
     "output_type": "execute_result"
    }
   ],
   "source": [
    "price2"
   ]
  },
  {
   "cell_type": "code",
   "execution_count": 185,
   "id": "8f8c47ba",
   "metadata": {},
   "outputs": [
    {
     "data": {
      "text/plain": [
       "<selenium.webdriver.remote.webelement.WebElement (session=\"183dc41fb5ad5f2131ea3ad3ff0890f8\", element=\"f6001b0d-68d2-4fae-8d39-4d960cc54356\")>"
      ]
     },
     "execution_count": 185,
     "metadata": {},
     "output_type": "execute_result"
    }
   ],
   "source": [
    "next_button=driver.find_element(By.XPATH,'/html/body/div[1]/div/div[3]/div[1]/div[2]/div[12]/div/div/nav/a[12]')\n",
    "next_button"
   ]
  },
  {
   "cell_type": "code",
   "execution_count": 186,
   "id": "e95ce0d0",
   "metadata": {},
   "outputs": [],
   "source": [
    "next_button.click()"
   ]
  },
  {
   "cell_type": "code",
   "execution_count": 187,
   "id": "9006900b",
   "metadata": {},
   "outputs": [
    {
     "data": {
      "text/plain": [
       "40"
      ]
     },
     "execution_count": 187,
     "metadata": {},
     "output_type": "execute_result"
    }
   ],
   "source": [
    "price_tags=driver.find_elements(By.XPATH,'//div[@class=\"_30jeq3\"]')\n",
    "\n",
    "len(price_tags)"
   ]
  },
  {
   "cell_type": "code",
   "execution_count": 188,
   "id": "b950d82e",
   "metadata": {},
   "outputs": [
    {
     "data": {
      "text/plain": [
       "40"
      ]
     },
     "execution_count": 188,
     "metadata": {},
     "output_type": "execute_result"
    }
   ],
   "source": [
    "price3=[]\n",
    "\n",
    "for i in price_tags:\n",
    "    price3.append(i.text)\n",
    "len(price3)"
   ]
  },
  {
   "cell_type": "code",
   "execution_count": 189,
   "id": "0212f5d4",
   "metadata": {},
   "outputs": [
    {
     "data": {
      "text/plain": [
       "['₹369',\n",
       " '₹719',\n",
       " '₹598',\n",
       " '₹749',\n",
       " '₹268',\n",
       " '₹269',\n",
       " '₹289',\n",
       " '₹233',\n",
       " '₹379',\n",
       " '₹664',\n",
       " '₹329',\n",
       " '₹649',\n",
       " '₹269',\n",
       " '₹154',\n",
       " '₹759',\n",
       " '₹314',\n",
       " '₹899',\n",
       " '₹949',\n",
       " '₹599',\n",
       " '₹854',\n",
       " '₹699',\n",
       " '₹324',\n",
       " '₹498',\n",
       " '₹849',\n",
       " '₹217',\n",
       " '₹949',\n",
       " '₹664',\n",
       " '₹7,009',\n",
       " '₹735',\n",
       " '₹809',\n",
       " '₹639',\n",
       " '₹759',\n",
       " '₹245',\n",
       " '₹405',\n",
       " '₹664',\n",
       " '₹5,749',\n",
       " '₹849',\n",
       " '₹499',\n",
       " '₹214',\n",
       " '₹699']"
      ]
     },
     "execution_count": 189,
     "metadata": {},
     "output_type": "execute_result"
    }
   ],
   "source": [
    "price3"
   ]
  },
  {
   "cell_type": "code",
   "execution_count": 190,
   "id": "2c5b0a72",
   "metadata": {},
   "outputs": [],
   "source": [
    "price=price1+price2+price3"
   ]
  },
  {
   "cell_type": "code",
   "execution_count": 191,
   "id": "3563f499",
   "metadata": {},
   "outputs": [
    {
     "data": {
      "text/plain": [
       "120"
      ]
     },
     "execution_count": 191,
     "metadata": {},
     "output_type": "execute_result"
    }
   ],
   "source": [
    "len(price)"
   ]
  },
  {
   "cell_type": "code",
   "execution_count": 192,
   "id": "98d2ee6b",
   "metadata": {},
   "outputs": [
    {
     "data": {
      "text/plain": [
       "['₹749',\n",
       " '₹649',\n",
       " '₹177',\n",
       " '₹264',\n",
       " '₹639',\n",
       " '₹315',\n",
       " '₹259',\n",
       " '₹8,273',\n",
       " '₹224',\n",
       " '₹224',\n",
       " '₹283',\n",
       " '₹5,239',\n",
       " '₹195',\n",
       " '₹799',\n",
       " '₹224',\n",
       " '₹749',\n",
       " '₹639',\n",
       " '₹359',\n",
       " '₹299',\n",
       " '₹664',\n",
       " '₹229',\n",
       " '₹306',\n",
       " '₹474',\n",
       " '₹799',\n",
       " '₹226',\n",
       " '₹246',\n",
       " '₹291',\n",
       " '₹3,839',\n",
       " '₹359',\n",
       " '₹839',\n",
       " '₹331',\n",
       " '₹1,234',\n",
       " '₹265',\n",
       " '₹303',\n",
       " '₹719',\n",
       " '₹569',\n",
       " '₹279',\n",
       " '₹219',\n",
       " '₹283',\n",
       " '₹12,139',\n",
       " '₹299',\n",
       " '₹1,039',\n",
       " '₹164',\n",
       " '₹314',\n",
       " '₹379',\n",
       " '₹219',\n",
       " '₹249',\n",
       " '₹1,533',\n",
       " '₹194',\n",
       " '₹246',\n",
       " '₹189',\n",
       " '₹975',\n",
       " '₹199',\n",
       " '₹719',\n",
       " '₹224',\n",
       " '₹1,533',\n",
       " '₹498',\n",
       " '₹379',\n",
       " '₹759',\n",
       " '₹759',\n",
       " '₹379',\n",
       " '₹320',\n",
       " '₹219',\n",
       " '₹379',\n",
       " '₹223',\n",
       " '₹749',\n",
       " '₹189',\n",
       " '₹616',\n",
       " '₹379',\n",
       " '₹749',\n",
       " '₹369',\n",
       " '₹664',\n",
       " '₹529',\n",
       " '₹379',\n",
       " '₹899',\n",
       " '₹499',\n",
       " '₹474',\n",
       " '₹379',\n",
       " '₹369',\n",
       " '₹233',\n",
       " '₹369',\n",
       " '₹719',\n",
       " '₹598',\n",
       " '₹749',\n",
       " '₹268',\n",
       " '₹269',\n",
       " '₹289',\n",
       " '₹233',\n",
       " '₹379',\n",
       " '₹664',\n",
       " '₹329',\n",
       " '₹649',\n",
       " '₹269',\n",
       " '₹154',\n",
       " '₹759',\n",
       " '₹314',\n",
       " '₹899',\n",
       " '₹949',\n",
       " '₹599',\n",
       " '₹854',\n",
       " '₹699',\n",
       " '₹324',\n",
       " '₹498',\n",
       " '₹849',\n",
       " '₹217',\n",
       " '₹949',\n",
       " '₹664',\n",
       " '₹7,009',\n",
       " '₹735',\n",
       " '₹809',\n",
       " '₹639',\n",
       " '₹759',\n",
       " '₹245',\n",
       " '₹405',\n",
       " '₹664',\n",
       " '₹5,749',\n",
       " '₹849',\n",
       " '₹499',\n",
       " '₹214',\n",
       " '₹699']"
      ]
     },
     "execution_count": 192,
     "metadata": {},
     "output_type": "execute_result"
    }
   ],
   "source": [
    "price"
   ]
  },
  {
   "cell_type": "code",
   "execution_count": 193,
   "id": "f5ca285b",
   "metadata": {},
   "outputs": [
    {
     "data": {
      "text/plain": [
       "['₹749',\n",
       " '₹649',\n",
       " '₹177',\n",
       " '₹264',\n",
       " '₹639',\n",
       " '₹315',\n",
       " '₹259',\n",
       " '₹8,273',\n",
       " '₹224',\n",
       " '₹224',\n",
       " '₹283',\n",
       " '₹5,239',\n",
       " '₹195',\n",
       " '₹799',\n",
       " '₹224',\n",
       " '₹749',\n",
       " '₹639',\n",
       " '₹359',\n",
       " '₹299',\n",
       " '₹664',\n",
       " '₹229',\n",
       " '₹306',\n",
       " '₹474',\n",
       " '₹799',\n",
       " '₹226',\n",
       " '₹246',\n",
       " '₹291',\n",
       " '₹3,839',\n",
       " '₹359',\n",
       " '₹839',\n",
       " '₹331',\n",
       " '₹1,234',\n",
       " '₹265',\n",
       " '₹303',\n",
       " '₹719',\n",
       " '₹569',\n",
       " '₹279',\n",
       " '₹219',\n",
       " '₹283',\n",
       " '₹12,139',\n",
       " '₹299',\n",
       " '₹1,039',\n",
       " '₹164',\n",
       " '₹314',\n",
       " '₹379',\n",
       " '₹219',\n",
       " '₹249',\n",
       " '₹1,533',\n",
       " '₹194',\n",
       " '₹246',\n",
       " '₹189',\n",
       " '₹975',\n",
       " '₹199',\n",
       " '₹719',\n",
       " '₹224',\n",
       " '₹1,533',\n",
       " '₹498',\n",
       " '₹379',\n",
       " '₹759',\n",
       " '₹759',\n",
       " '₹379',\n",
       " '₹320',\n",
       " '₹219',\n",
       " '₹379',\n",
       " '₹223',\n",
       " '₹749',\n",
       " '₹189',\n",
       " '₹616',\n",
       " '₹379',\n",
       " '₹749',\n",
       " '₹369',\n",
       " '₹664',\n",
       " '₹529',\n",
       " '₹379',\n",
       " '₹899',\n",
       " '₹499',\n",
       " '₹474',\n",
       " '₹379',\n",
       " '₹369',\n",
       " '₹233',\n",
       " '₹369',\n",
       " '₹719',\n",
       " '₹598',\n",
       " '₹749',\n",
       " '₹268',\n",
       " '₹269',\n",
       " '₹289',\n",
       " '₹233',\n",
       " '₹379',\n",
       " '₹664',\n",
       " '₹329',\n",
       " '₹649',\n",
       " '₹269',\n",
       " '₹154',\n",
       " '₹759',\n",
       " '₹314',\n",
       " '₹899',\n",
       " '₹949',\n",
       " '₹599',\n",
       " '₹854']"
      ]
     },
     "execution_count": 193,
     "metadata": {},
     "output_type": "execute_result"
    }
   ],
   "source": [
    "price=price[0:100]\n",
    "price"
   ]
  },
  {
   "cell_type": "markdown",
   "id": "069c5d07",
   "metadata": {},
   "source": [
    "# Extracting Discount"
   ]
  },
  {
   "cell_type": "code",
   "execution_count": 194,
   "id": "b4d93179",
   "metadata": {},
   "outputs": [
    {
     "data": {
      "text/plain": [
       "40"
      ]
     },
     "execution_count": 194,
     "metadata": {},
     "output_type": "execute_result"
    }
   ],
   "source": [
    "discount_tags=driver.find_elements(By.XPATH,'//div[@class=\"_3Ay6Sb\"]')\n",
    "len(discount_tags)"
   ]
  },
  {
   "cell_type": "code",
   "execution_count": 195,
   "id": "da2efc33",
   "metadata": {},
   "outputs": [
    {
     "data": {
      "text/plain": [
       "40"
      ]
     },
     "execution_count": 195,
     "metadata": {},
     "output_type": "execute_result"
    }
   ],
   "source": [
    "discount1=[]\n",
    "\n",
    "for i in discount_tags:\n",
    "    discount1.append(i.text)\n",
    "len(discount1)"
   ]
  },
  {
   "cell_type": "code",
   "execution_count": 196,
   "id": "6e097711",
   "metadata": {},
   "outputs": [
    {
     "data": {
      "text/plain": [
       "<selenium.webdriver.remote.webelement.WebElement (session=\"183dc41fb5ad5f2131ea3ad3ff0890f8\", element=\"f6001b0d-68d2-4fae-8d39-4d960cc54356\")>"
      ]
     },
     "execution_count": 196,
     "metadata": {},
     "output_type": "execute_result"
    }
   ],
   "source": [
    "next_button=driver.find_element(By.XPATH,'/html/body/div[1]/div/div[3]/div[1]/div[2]/div[12]/div/div/nav/a[11]')\n",
    "next_button"
   ]
  },
  {
   "cell_type": "code",
   "execution_count": 197,
   "id": "1a715d54",
   "metadata": {},
   "outputs": [],
   "source": [
    "next_button.click()"
   ]
  },
  {
   "cell_type": "code",
   "execution_count": 198,
   "id": "45893532",
   "metadata": {},
   "outputs": [
    {
     "data": {
      "text/plain": [
       "40"
      ]
     },
     "execution_count": 198,
     "metadata": {},
     "output_type": "execute_result"
    }
   ],
   "source": [
    "discount_tags=driver.find_elements(By.XPATH,'//div[@class=\"_3Ay6Sb\"]')\n",
    "len(discount_tags)"
   ]
  },
  {
   "cell_type": "code",
   "execution_count": 199,
   "id": "5bc16d91",
   "metadata": {},
   "outputs": [
    {
     "data": {
      "text/plain": [
       "40"
      ]
     },
     "execution_count": 199,
     "metadata": {},
     "output_type": "execute_result"
    }
   ],
   "source": [
    "discount2=[]\n",
    "\n",
    "for i in discount_tags:\n",
    "    discount2.append(i.text)\n",
    "len(discount2)"
   ]
  },
  {
   "cell_type": "code",
   "execution_count": 200,
   "id": "9e755829",
   "metadata": {},
   "outputs": [
    {
     "data": {
      "text/plain": [
       "<selenium.webdriver.remote.webelement.WebElement (session=\"183dc41fb5ad5f2131ea3ad3ff0890f8\", element=\"f6001b0d-68d2-4fae-8d39-4d960cc54356\")>"
      ]
     },
     "execution_count": 200,
     "metadata": {},
     "output_type": "execute_result"
    }
   ],
   "source": [
    "next_button=driver.find_element(By.XPATH,'/html/body/div[1]/div/div[3]/div[1]/div[2]/div[12]/div/div/nav/a[12]')\n",
    "next_button"
   ]
  },
  {
   "cell_type": "code",
   "execution_count": 201,
   "id": "e7092e94",
   "metadata": {},
   "outputs": [],
   "source": [
    "next_button.click()"
   ]
  },
  {
   "cell_type": "code",
   "execution_count": 202,
   "id": "e0a6b43c",
   "metadata": {},
   "outputs": [
    {
     "data": {
      "text/plain": [
       "40"
      ]
     },
     "execution_count": 202,
     "metadata": {},
     "output_type": "execute_result"
    }
   ],
   "source": [
    "discount_tags=driver.find_elements(By.XPATH,'//div[@class=\"_3Ay6Sb\"]')\n",
    "len(discount_tags)"
   ]
  },
  {
   "cell_type": "code",
   "execution_count": 203,
   "id": "dba59bcb",
   "metadata": {},
   "outputs": [
    {
     "data": {
      "text/plain": [
       "40"
      ]
     },
     "execution_count": 203,
     "metadata": {},
     "output_type": "execute_result"
    }
   ],
   "source": [
    "discount3=[]\n",
    "\n",
    "for i in discount_tags:\n",
    "    discount3.append(i.text)\n",
    "len(discount3)"
   ]
  },
  {
   "cell_type": "code",
   "execution_count": 204,
   "id": "7ac9e358",
   "metadata": {},
   "outputs": [],
   "source": [
    "discount=discount1+discount2+discount3"
   ]
  },
  {
   "cell_type": "code",
   "execution_count": 205,
   "id": "afea96d7",
   "metadata": {},
   "outputs": [
    {
     "data": {
      "text/plain": [
       "120"
      ]
     },
     "execution_count": 205,
     "metadata": {},
     "output_type": "execute_result"
    }
   ],
   "source": [
    "len(discount)"
   ]
  },
  {
   "cell_type": "code",
   "execution_count": 206,
   "id": "a9d2c7f4",
   "metadata": {
    "scrolled": true
   },
   "outputs": [
    {
     "data": {
      "text/plain": [
       "['62% off',\n",
       " '62% off',\n",
       " '82% off',\n",
       " '89% off',\n",
       " '20% off',\n",
       " '80% off',\n",
       " '87% off',\n",
       " '81% off',\n",
       " '78% off',\n",
       " '85% off',\n",
       " '82% off',\n",
       " '69% off',\n",
       " '88% off',\n",
       " '20% off',\n",
       " '85% off',\n",
       " '66% off',\n",
       " '20% off',\n",
       " '86% off',\n",
       " '88% off',\n",
       " '78% off',\n",
       " '82% off',\n",
       " '76% off',\n",
       " '88% off',\n",
       " '87% off',\n",
       " '85% off',\n",
       " '84% off',\n",
       " '76% off',\n",
       " '68% off',\n",
       " '86% off',\n",
       " '30% off',\n",
       " '79% off',\n",
       " '30% off',\n",
       " '20% off',\n",
       " '78% off',\n",
       " '83% off',\n",
       " '76% off',\n",
       " '82% off',\n",
       " '78% off',\n",
       " '81% off',\n",
       " '67% off',\n",
       " '78% off',\n",
       " '20% off',\n",
       " '86% off',\n",
       " '84% off',\n",
       " '74% off',\n",
       " '78% off',\n",
       " '20% off',\n",
       " '62% off',\n",
       " '84% off',\n",
       " '80% off',\n",
       " '75% off',\n",
       " '81% off',\n",
       " '68% off',\n",
       " '80% off',\n",
       " '81% off',\n",
       " '69% off',\n",
       " '15% off',\n",
       " '74% off',\n",
       " '67% off',\n",
       " '66% off',\n",
       " '85% off',\n",
       " '74% off',\n",
       " '62% off',\n",
       " '78% off',\n",
       " '78% off',\n",
       " '78% off',\n",
       " '86% off',\n",
       " '62% off',\n",
       " '74% off',\n",
       " '62% off',\n",
       " '81% off',\n",
       " '52% off',\n",
       " '74% off',\n",
       " '81% off',\n",
       " '70% off',\n",
       " '68% off',\n",
       " '74% off',\n",
       " '78% off',\n",
       " '10% off',\n",
       " '30% off',\n",
       " '81% off',\n",
       " '20% off',\n",
       " '80% off',\n",
       " '62% off',\n",
       " '79% off',\n",
       " '85% off',\n",
       " '85% off',\n",
       " '84% off',\n",
       " '81% off',\n",
       " '79% off',\n",
       " '79% off',\n",
       " '57% off',\n",
       " '82% off',\n",
       " '89% off',\n",
       " '15% off',\n",
       " '10% off',\n",
       " '10% off',\n",
       " '52% off',\n",
       " '25% off',\n",
       " '62% off']"
      ]
     },
     "execution_count": 206,
     "metadata": {},
     "output_type": "execute_result"
    }
   ],
   "source": [
    "discount=discount[0:100]\n",
    "discount"
   ]
  },
  {
   "cell_type": "code",
   "execution_count": 207,
   "id": "1d951538",
   "metadata": {},
   "outputs": [
    {
     "data": {
      "text/plain": [
       "(100, 100, 100, 100)"
      ]
     },
     "execution_count": 207,
     "metadata": {},
     "output_type": "execute_result"
    }
   ],
   "source": [
    "len(brand_name),len(product_description),len(price),len(discount)"
   ]
  },
  {
   "cell_type": "code",
   "execution_count": 209,
   "id": "ff80d0b7",
   "metadata": {},
   "outputs": [
    {
     "data": {
      "text/html": [
       "<div>\n",
       "<style scoped>\n",
       "    .dataframe tbody tr th:only-of-type {\n",
       "        vertical-align: middle;\n",
       "    }\n",
       "\n",
       "    .dataframe tbody tr th {\n",
       "        vertical-align: top;\n",
       "    }\n",
       "\n",
       "    .dataframe thead th {\n",
       "        text-align: right;\n",
       "    }\n",
       "</style>\n",
       "<table border=\"1\" class=\"dataframe\">\n",
       "  <thead>\n",
       "    <tr style=\"text-align: right;\">\n",
       "      <th></th>\n",
       "      <th>Brand_Name</th>\n",
       "      <th>Product_Description</th>\n",
       "      <th>Price</th>\n",
       "      <th>Discount</th>\n",
       "    </tr>\n",
       "  </thead>\n",
       "  <tbody>\n",
       "    <tr>\n",
       "      <th>0</th>\n",
       "      <td>VINCENT CHASE</td>\n",
       "      <td>by Lenskart Polarized, UV Protection Round Sun...</td>\n",
       "      <td>₹749</td>\n",
       "      <td>62% off</td>\n",
       "    </tr>\n",
       "    <tr>\n",
       "      <th>1</th>\n",
       "      <td>ROYAL SON</td>\n",
       "      <td>Polarized, UV Protection Aviator Sunglasses (57)</td>\n",
       "      <td>₹649</td>\n",
       "      <td>62% off</td>\n",
       "    </tr>\n",
       "    <tr>\n",
       "      <th>2</th>\n",
       "      <td>DAHAAZIL</td>\n",
       "      <td>UV Protection, Night Vision, Riding Glasses Wa...</td>\n",
       "      <td>₹177</td>\n",
       "      <td>82% off</td>\n",
       "    </tr>\n",
       "    <tr>\n",
       "      <th>3</th>\n",
       "      <td>New Specs</td>\n",
       "      <td>UV Protection Rectangular Sunglasses (Free Size)</td>\n",
       "      <td>₹264</td>\n",
       "      <td>89% off</td>\n",
       "    </tr>\n",
       "    <tr>\n",
       "      <th>4</th>\n",
       "      <td>Fastrack</td>\n",
       "      <td>UV Protection Rectangular Sunglasses (Free Size)</td>\n",
       "      <td>₹639</td>\n",
       "      <td>20% off</td>\n",
       "    </tr>\n",
       "    <tr>\n",
       "      <th>...</th>\n",
       "      <td>...</td>\n",
       "      <td>...</td>\n",
       "      <td>...</td>\n",
       "      <td>...</td>\n",
       "    </tr>\n",
       "    <tr>\n",
       "      <th>95</th>\n",
       "      <td>agera</td>\n",
       "      <td>Polarized, UV Protection Rectangular Sunglasse...</td>\n",
       "      <td>₹314</td>\n",
       "      <td>10% off</td>\n",
       "    </tr>\n",
       "    <tr>\n",
       "      <th>96</th>\n",
       "      <td>ROYAL SON</td>\n",
       "      <td>UV Protection Round Sunglasses (Free Size)</td>\n",
       "      <td>₹899</td>\n",
       "      <td>10% off</td>\n",
       "    </tr>\n",
       "    <tr>\n",
       "      <th>97</th>\n",
       "      <td>PIRASO</td>\n",
       "      <td>by Lenskart Polarized, UV Protection Cat-eye S...</td>\n",
       "      <td>₹949</td>\n",
       "      <td>52% off</td>\n",
       "    </tr>\n",
       "    <tr>\n",
       "      <th>98</th>\n",
       "      <td>Fastrack</td>\n",
       "      <td>UV Protection, Gradient Butterfly Sunglasses (62)</td>\n",
       "      <td>₹599</td>\n",
       "      <td>25% off</td>\n",
       "    </tr>\n",
       "    <tr>\n",
       "      <th>99</th>\n",
       "      <td>Ray-Ban</td>\n",
       "      <td>UV Protection Oval Sunglasses (49)</td>\n",
       "      <td>₹854</td>\n",
       "      <td>62% off</td>\n",
       "    </tr>\n",
       "  </tbody>\n",
       "</table>\n",
       "<p>100 rows × 4 columns</p>\n",
       "</div>"
      ],
      "text/plain": [
       "       Brand_Name                                Product_Description Price  \\\n",
       "0   VINCENT CHASE  by Lenskart Polarized, UV Protection Round Sun...  ₹749   \n",
       "1       ROYAL SON   Polarized, UV Protection Aviator Sunglasses (57)  ₹649   \n",
       "2        DAHAAZIL  UV Protection, Night Vision, Riding Glasses Wa...  ₹177   \n",
       "3       New Specs   UV Protection Rectangular Sunglasses (Free Size)  ₹264   \n",
       "4        Fastrack   UV Protection Rectangular Sunglasses (Free Size)  ₹639   \n",
       "..            ...                                                ...   ...   \n",
       "95          agera  Polarized, UV Protection Rectangular Sunglasse...  ₹314   \n",
       "96      ROYAL SON         UV Protection Round Sunglasses (Free Size)  ₹899   \n",
       "97         PIRASO  by Lenskart Polarized, UV Protection Cat-eye S...  ₹949   \n",
       "98       Fastrack  UV Protection, Gradient Butterfly Sunglasses (62)  ₹599   \n",
       "99        Ray-Ban                 UV Protection Oval Sunglasses (49)  ₹854   \n",
       "\n",
       "   Discount  \n",
       "0   62% off  \n",
       "1   62% off  \n",
       "2   82% off  \n",
       "3   89% off  \n",
       "4   20% off  \n",
       "..      ...  \n",
       "95  10% off  \n",
       "96  10% off  \n",
       "97  52% off  \n",
       "98  25% off  \n",
       "99  62% off  \n",
       "\n",
       "[100 rows x 4 columns]"
      ]
     },
     "execution_count": 209,
     "metadata": {},
     "output_type": "execute_result"
    }
   ],
   "source": [
    "product=pd.DataFrame()\n",
    "product['Brand_Name']=brand_name\n",
    "product['Product_Description']= product_description\n",
    "product['Price']=price\n",
    "product['Discount']=discount\n",
    "product"
   ]
  },
  {
   "cell_type": "markdown",
   "id": "b2b4c814",
   "metadata": {},
   "source": [
    " "
   ]
  },
  {
   "cell_type": "code",
   "execution_count": null,
   "id": "4001ad89",
   "metadata": {},
   "outputs": [],
   "source": []
  },
  {
   "cell_type": "markdown",
   "id": "76a46217",
   "metadata": {},
   "source": [
    "# Q5: Scrape 100 reviews data from flipkart.com for iphone11 phone.\n",
    "This task will be done in following steps:\n",
    "1. First get the webpage https://www.flipkart.com/\n",
    "2. Enter “iphone 11” in “Search” field .\n",
    "3. Then click the search button.\n",
    "As shown in the above page you have to scrape the tick marked attributes.These are:\n",
    "1. Rating\n",
    "2. Review summary\n",
    "3. Full review\n",
    "4. You have to scrape this data for first 100 reviews."
   ]
  },
  {
   "cell_type": "code",
   "execution_count": 226,
   "id": "e446a645",
   "metadata": {},
   "outputs": [],
   "source": [
    "driver=webdriver.Chrome('chromedriver.exe')"
   ]
  },
  {
   "cell_type": "code",
   "execution_count": 227,
   "id": "89f1bec8",
   "metadata": {},
   "outputs": [],
   "source": [
    "from selenium.webdriver.common.by import By"
   ]
  },
  {
   "cell_type": "code",
   "execution_count": 228,
   "id": "ee534c1c",
   "metadata": {},
   "outputs": [],
   "source": [
    "url='https://www.flipkart.com/'\n",
    "driver.get(url)"
   ]
  },
  {
   "cell_type": "code",
   "execution_count": 229,
   "id": "aa3a8732",
   "metadata": {},
   "outputs": [
    {
     "data": {
      "text/plain": [
       "<selenium.webdriver.remote.webelement.WebElement (session=\"ae3b6a6738c97c70064097bb264e473f\", element=\"7117e7bf-d043-46e9-898d-97f9487bd35f\")>"
      ]
     },
     "execution_count": 229,
     "metadata": {},
     "output_type": "execute_result"
    }
   ],
   "source": [
    "#finding web element for search job bar using id\n",
    "search_iphone=driver.find_element(By.CLASS_NAME,\"_3704LK\")\n",
    "search_job"
   ]
  },
  {
   "cell_type": "code",
   "execution_count": 230,
   "id": "b9d88601",
   "metadata": {},
   "outputs": [],
   "source": [
    "#write on search bar\n",
    "search_iphone.send_keys(\"iphone 11\")"
   ]
  },
  {
   "cell_type": "code",
   "execution_count": 231,
   "id": "47264cc6",
   "metadata": {},
   "outputs": [
    {
     "data": {
      "text/plain": [
       "<selenium.webdriver.remote.webelement.WebElement (session=\"3c304f04476e91efd3d78839d010d677\", element=\"34a0d38f-e6d3-41ed-aa67-4ad4d408d431\")>"
      ]
     },
     "execution_count": 231,
     "metadata": {},
     "output_type": "execute_result"
    }
   ],
   "source": [
    "search_btn=driver.find_element(By.XPATH,'/html/body/div[1]/div/div[1]/div[1]/div[2]/div[2]/form/div/button')\n",
    "search_btn"
   ]
  },
  {
   "cell_type": "code",
   "execution_count": 233,
   "id": "8719cc68",
   "metadata": {},
   "outputs": [],
   "source": [
    "search_btn.click()"
   ]
  },
  {
   "cell_type": "markdown",
   "id": "45d91509",
   "metadata": {},
   "source": [
    "# Extracting Ratings"
   ]
  },
  {
   "cell_type": "code",
   "execution_count": 239,
   "id": "7bf4e1d6",
   "metadata": {},
   "outputs": [
    {
     "data": {
      "text/plain": [
       "0"
      ]
     },
     "execution_count": 239,
     "metadata": {},
     "output_type": "execute_result"
    }
   ],
   "source": [
    "ratings_tags=driver.find_elements(By.XPATH,'//a[@class=\"s1Q9rs _2qfgz2\"]')\n",
    "\n",
    "len(ratings_tags)"
   ]
  },
  {
   "cell_type": "code",
   "execution_count": null,
   "id": "72713046",
   "metadata": {},
   "outputs": [],
   "source": []
  },
  {
   "cell_type": "code",
   "execution_count": null,
   "id": "f9b00427",
   "metadata": {},
   "outputs": [],
   "source": []
  },
  {
   "cell_type": "markdown",
   "id": "e7a45d09",
   "metadata": {},
   "source": [
    "# Q6: Scrape data for first 100 sneakers you find when you visit flipkart.com and search for “sneakers” in the\n",
    "search field.\n",
    "You have to scrape 4 attributes of each sneaker:\n",
    "1. Brand\n",
    "2. Product Description\n",
    "3. Price\n",
    "\n",
    "As shown in the below image, you have to scrape the tick marked attributes."
   ]
  },
  {
   "cell_type": "code",
   "execution_count": 3,
   "id": "c2a1fdf0",
   "metadata": {},
   "outputs": [],
   "source": [
    "driver=webdriver.Chrome('chromedriver.exe')"
   ]
  },
  {
   "cell_type": "code",
   "execution_count": 4,
   "id": "1fadc9a4",
   "metadata": {},
   "outputs": [],
   "source": [
    "from selenium.webdriver.common.by import By"
   ]
  },
  {
   "cell_type": "code",
   "execution_count": 5,
   "id": "38e93670",
   "metadata": {},
   "outputs": [],
   "source": [
    "url='https://www.flipkart.com/'\n",
    "driver.get(url)"
   ]
  },
  {
   "cell_type": "code",
   "execution_count": 6,
   "id": "33caa37a",
   "metadata": {},
   "outputs": [
    {
     "data": {
      "text/plain": [
       "<selenium.webdriver.remote.webelement.WebElement (session=\"5b3cb84dfcb764222df7b4a9ba78a470\", element=\"7f9f0926-a29d-45f3-8769-dcaee2a42fea\")>"
      ]
     },
     "execution_count": 6,
     "metadata": {},
     "output_type": "execute_result"
    }
   ],
   "source": [
    "search_product=driver.find_element(By.CLASS_NAME,\"_3704LK\")\n",
    "search_product"
   ]
  },
  {
   "cell_type": "code",
   "execution_count": 7,
   "id": "2eb6e0ec",
   "metadata": {},
   "outputs": [],
   "source": [
    "#write on search bar\n",
    "search_product.send_keys(\"sneakers\")"
   ]
  },
  {
   "cell_type": "code",
   "execution_count": 8,
   "id": "a4bdbf45",
   "metadata": {},
   "outputs": [
    {
     "data": {
      "text/plain": [
       "<selenium.webdriver.remote.webelement.WebElement (session=\"5b3cb84dfcb764222df7b4a9ba78a470\", element=\"d3518e6f-c192-4fdf-bfb1-ffca328d13e9\")>"
      ]
     },
     "execution_count": 8,
     "metadata": {},
     "output_type": "execute_result"
    }
   ],
   "source": [
    "search_btn=driver.find_element(By.XPATH,'/html/body/div[1]/div/div[1]/div[1]/div[2]/div[2]/form/div/button')\n",
    "search_btn"
   ]
  },
  {
   "cell_type": "code",
   "execution_count": 9,
   "id": "dc05b5ef",
   "metadata": {},
   "outputs": [],
   "source": [
    "search_btn.click()"
   ]
  },
  {
   "cell_type": "markdown",
   "id": "5bceffdd",
   "metadata": {},
   "source": [
    "# Extracting Brand Name"
   ]
  },
  {
   "cell_type": "code",
   "execution_count": 13,
   "id": "f0e0c5d9",
   "metadata": {},
   "outputs": [
    {
     "data": {
      "text/plain": [
       "40"
      ]
     },
     "execution_count": 13,
     "metadata": {},
     "output_type": "execute_result"
    }
   ],
   "source": [
    "title_tags=driver.find_elements(By.XPATH,'//div[@class=\"_2WkVRV\"]')\n",
    "\n",
    "len(title_tags)"
   ]
  },
  {
   "cell_type": "code",
   "execution_count": 14,
   "id": "02d9f40d",
   "metadata": {},
   "outputs": [
    {
     "data": {
      "text/plain": [
       "40"
      ]
     },
     "execution_count": 14,
     "metadata": {},
     "output_type": "execute_result"
    }
   ],
   "source": [
    "brand_names1=[]\n",
    "for i in title_tags:\n",
    "    brand_names1.append(i.text)\n",
    "    \n",
    "    \n",
    "len(brand_names1)"
   ]
  },
  {
   "cell_type": "code",
   "execution_count": 15,
   "id": "53aa6a6e",
   "metadata": {},
   "outputs": [
    {
     "data": {
      "text/plain": [
       "<selenium.webdriver.remote.webelement.WebElement (session=\"5b3cb84dfcb764222df7b4a9ba78a470\", element=\"f15e4506-1f17-41fd-b814-eb106bc06130\")>"
      ]
     },
     "execution_count": 15,
     "metadata": {},
     "output_type": "execute_result"
    }
   ],
   "source": [
    "next_button=driver.find_element(By.XPATH,'/html/body/div[1]/div/div[3]/div[1]/div[2]/div[12]/div/div/nav/a[11]')\n",
    "next_button"
   ]
  },
  {
   "cell_type": "code",
   "execution_count": 16,
   "id": "0ad75c23",
   "metadata": {},
   "outputs": [],
   "source": [
    "next_button.click()"
   ]
  },
  {
   "cell_type": "code",
   "execution_count": 17,
   "id": "5c57acae",
   "metadata": {},
   "outputs": [
    {
     "data": {
      "text/plain": [
       "40"
      ]
     },
     "execution_count": 17,
     "metadata": {},
     "output_type": "execute_result"
    }
   ],
   "source": [
    "title_tags=driver.find_elements(By.XPATH,'//div[@class=\"_2WkVRV\"]')\n",
    "\n",
    "len(title_tags)"
   ]
  },
  {
   "cell_type": "code",
   "execution_count": 18,
   "id": "59a32055",
   "metadata": {},
   "outputs": [
    {
     "data": {
      "text/plain": [
       "40"
      ]
     },
     "execution_count": 18,
     "metadata": {},
     "output_type": "execute_result"
    }
   ],
   "source": [
    "brand_names2=[]\n",
    "for i in title_tags:\n",
    "    brand_names2.append(i.text)\n",
    "    \n",
    "    \n",
    "len(brand_names2)"
   ]
  },
  {
   "cell_type": "code",
   "execution_count": 19,
   "id": "eaa21706",
   "metadata": {},
   "outputs": [
    {
     "data": {
      "text/plain": [
       "<selenium.webdriver.remote.webelement.WebElement (session=\"5b3cb84dfcb764222df7b4a9ba78a470\", element=\"f15e4506-1f17-41fd-b814-eb106bc06130\")>"
      ]
     },
     "execution_count": 19,
     "metadata": {},
     "output_type": "execute_result"
    }
   ],
   "source": [
    "next_button=driver.find_element(By.XPATH,'/html/body/div[1]/div/div[3]/div[1]/div[2]/div[12]/div/div/nav/a[12]')\n",
    "next_button"
   ]
  },
  {
   "cell_type": "code",
   "execution_count": 20,
   "id": "3461749b",
   "metadata": {},
   "outputs": [],
   "source": [
    "next_button.click()"
   ]
  },
  {
   "cell_type": "code",
   "execution_count": 21,
   "id": "c230b887",
   "metadata": {},
   "outputs": [
    {
     "data": {
      "text/plain": [
       "40"
      ]
     },
     "execution_count": 21,
     "metadata": {},
     "output_type": "execute_result"
    }
   ],
   "source": [
    "title_tags=driver.find_elements(By.XPATH,'//div[@class=\"_2WkVRV\"]')\n",
    "\n",
    "len(title_tags)"
   ]
  },
  {
   "cell_type": "code",
   "execution_count": 22,
   "id": "a47ce898",
   "metadata": {},
   "outputs": [
    {
     "data": {
      "text/plain": [
       "40"
      ]
     },
     "execution_count": 22,
     "metadata": {},
     "output_type": "execute_result"
    }
   ],
   "source": [
    "brand_names3=[]\n",
    "for i in title_tags:\n",
    "    brand_names3.append(i.text)\n",
    "    \n",
    "    \n",
    "len(brand_names3)"
   ]
  },
  {
   "cell_type": "code",
   "execution_count": 23,
   "id": "a6df5561",
   "metadata": {},
   "outputs": [],
   "source": [
    "brand_names=brand_names1+brand_names2+brand_names3"
   ]
  },
  {
   "cell_type": "code",
   "execution_count": 24,
   "id": "165cac42",
   "metadata": {},
   "outputs": [
    {
     "data": {
      "text/plain": [
       "120"
      ]
     },
     "execution_count": 24,
     "metadata": {},
     "output_type": "execute_result"
    }
   ],
   "source": [
    "len(brand_names)"
   ]
  },
  {
   "cell_type": "code",
   "execution_count": 25,
   "id": "cc1b3253",
   "metadata": {},
   "outputs": [
    {
     "data": {
      "text/plain": [
       "100"
      ]
     },
     "execution_count": 25,
     "metadata": {},
     "output_type": "execute_result"
    }
   ],
   "source": [
    "brand_names=brand_names[0:100]\n",
    "len(brand_names)"
   ]
  },
  {
   "cell_type": "code",
   "execution_count": 26,
   "id": "9547d3f2",
   "metadata": {
    "scrolled": true
   },
   "outputs": [
    {
     "data": {
      "text/plain": [
       "['World Wear Footwear',\n",
       " 'luxury fashion',\n",
       " 'WOODLAND',\n",
       " 'BRUTON',\n",
       " 'SFR',\n",
       " 'BRUTON',\n",
       " 'Labbin',\n",
       " 'ZF - ALFIYA',\n",
       " 'URBANBOX',\n",
       " 'Magnolia',\n",
       " 'aadi',\n",
       " 'BRUTON',\n",
       " 'BIRDE',\n",
       " 'PUMA',\n",
       " 'BIRDE',\n",
       " 'Scull Wings',\n",
       " 'Chevit',\n",
       " 'PUMA',\n",
       " 'KWIK FIT',\n",
       " 'luxury fashion',\n",
       " 'ONECENTRE',\n",
       " 'HOTSTYLE',\n",
       " 'corsac',\n",
       " 'luxury fashion',\n",
       " 'ASTEROID',\n",
       " 'aadi',\n",
       " 'CLYMB',\n",
       " 'kardam&sons',\n",
       " 'BRUTON',\n",
       " 'Noztile',\n",
       " 'BIRDE',\n",
       " 'BIRDE',\n",
       " 'SCATCHITE',\n",
       " 'Kraasa',\n",
       " 'PUMA',\n",
       " 'World Wear Footwear',\n",
       " 'Kraasa',\n",
       " 'Kzaara',\n",
       " 'PEXLO',\n",
       " 'STRANGER BROTHERS',\n",
       " 'Kraasa',\n",
       " 'Layasa',\n",
       " 'PUMA',\n",
       " 'D-SNEAKERZ',\n",
       " 'Robbie jones',\n",
       " 'BRUTON',\n",
       " 'BRUTON',\n",
       " 'Rzisbo',\n",
       " 'KNIGHT WALKERS',\n",
       " 'ASTEROID',\n",
       " 'Dizzler',\n",
       " 'DUKE',\n",
       " 'Magnolia',\n",
       " 'WHITE WALKERS',\n",
       " 'AMICO',\n",
       " 'aadi',\n",
       " 'Numenzo',\n",
       " 'Airland',\n",
       " 'Shoes Bank',\n",
       " 'SPARX',\n",
       " 'Airland',\n",
       " 'Aragats',\n",
       " 'Chevit',\n",
       " 'Stinson',\n",
       " 'LE GREEM',\n",
       " 'Numenzo',\n",
       " 'luxury fashion',\n",
       " 'BIRDE',\n",
       " 'India hub',\n",
       " 'BIRDE',\n",
       " 'Eiffel',\n",
       " 'BRUTON',\n",
       " 'Layasa',\n",
       " 'aadi',\n",
       " 'ROCKFIELD',\n",
       " 'U.S. POLO ASSN.',\n",
       " 'Magnolia',\n",
       " 'T-ROCK',\n",
       " 'PUMA',\n",
       " 'WHITE WALKERS',\n",
       " 'URBANBOX',\n",
       " 'WHITE WALKERS',\n",
       " 'Roadster',\n",
       " 'BRUTON',\n",
       " 'PUMA',\n",
       " 'Nobelite',\n",
       " 'PEXLO',\n",
       " 'Robbie jones',\n",
       " 'Xtoon',\n",
       " 'aadi',\n",
       " 'corsac',\n",
       " 'PUMA',\n",
       " 'luxury fashion',\n",
       " 'Chevit',\n",
       " 'ZF Klub',\n",
       " 'RapidBox',\n",
       " 'PUMA',\n",
       " 'DUNKASTON',\n",
       " 'PUMA',\n",
       " 'SPARX']"
      ]
     },
     "execution_count": 26,
     "metadata": {},
     "output_type": "execute_result"
    }
   ],
   "source": [
    "brand_names"
   ]
  },
  {
   "cell_type": "markdown",
   "id": "c80a7b1c",
   "metadata": {},
   "source": [
    "# Extracting Product Description"
   ]
  },
  {
   "cell_type": "code",
   "execution_count": 27,
   "id": "d7785167",
   "metadata": {},
   "outputs": [
    {
     "data": {
      "text/plain": [
       "6"
      ]
     },
     "execution_count": 27,
     "metadata": {},
     "output_type": "execute_result"
    }
   ],
   "source": [
    "description_tags=driver.find_elements(By.XPATH,'//a[@class=\"IRpwTa _2-ICcC\"]')\n",
    "len(description_tags)"
   ]
  },
  {
   "cell_type": "code",
   "execution_count": 29,
   "id": "204a0533",
   "metadata": {},
   "outputs": [
    {
     "data": {
      "text/plain": [
       "6"
      ]
     },
     "execution_count": 29,
     "metadata": {},
     "output_type": "execute_result"
    }
   ],
   "source": [
    "description11=[]\n",
    "for i in description_tags:\n",
    "    description11.append(i.text)\n",
    "    \n",
    "    \n",
    "len(description11)"
   ]
  },
  {
   "cell_type": "code",
   "execution_count": 30,
   "id": "3e53432d",
   "metadata": {},
   "outputs": [
    {
     "data": {
      "text/plain": [
       "34"
      ]
     },
     "execution_count": 30,
     "metadata": {},
     "output_type": "execute_result"
    }
   ],
   "source": [
    "description_tags=driver.find_elements(By.XPATH,'//a[@class=\"IRpwTa\"]')\n",
    "len(description_tags)"
   ]
  },
  {
   "cell_type": "code",
   "execution_count": 31,
   "id": "d59aaee3",
   "metadata": {},
   "outputs": [
    {
     "data": {
      "text/plain": [
       "34"
      ]
     },
     "execution_count": 31,
     "metadata": {},
     "output_type": "execute_result"
    }
   ],
   "source": [
    "description12=[]\n",
    "for i in description_tags:\n",
    "    description12.append(i.text)\n",
    "    \n",
    "    \n",
    "len(description12)"
   ]
  },
  {
   "cell_type": "code",
   "execution_count": 32,
   "id": "74b84e96",
   "metadata": {},
   "outputs": [
    {
     "data": {
      "text/plain": [
       "40"
      ]
     },
     "execution_count": 32,
     "metadata": {},
     "output_type": "execute_result"
    }
   ],
   "source": [
    "description1=description11+description12\n",
    "len(description1)"
   ]
  },
  {
   "cell_type": "code",
   "execution_count": 33,
   "id": "fcd0ee46",
   "metadata": {},
   "outputs": [
    {
     "data": {
      "text/plain": [
       "<selenium.webdriver.remote.webelement.WebElement (session=\"5b3cb84dfcb764222df7b4a9ba78a470\", element=\"f15e4506-1f17-41fd-b814-eb106bc06130\")>"
      ]
     },
     "execution_count": 33,
     "metadata": {},
     "output_type": "execute_result"
    }
   ],
   "source": [
    "next_button=driver.find_element(By.XPATH,'/html/body/div[1]/div/div[3]/div[1]/div[2]/div[12]/div/div/nav/a[11]')\n",
    "next_button"
   ]
  },
  {
   "cell_type": "code",
   "execution_count": 34,
   "id": "35630d0a",
   "metadata": {},
   "outputs": [],
   "source": [
    "next_button.click()"
   ]
  },
  {
   "cell_type": "code",
   "execution_count": 35,
   "id": "2686e4b3",
   "metadata": {},
   "outputs": [
    {
     "data": {
      "text/plain": [
       "33"
      ]
     },
     "execution_count": 35,
     "metadata": {},
     "output_type": "execute_result"
    }
   ],
   "source": [
    "description_tags=driver.find_elements(By.XPATH,'//a[@class=\"IRpwTa\"]')\n",
    "len(description_tags)"
   ]
  },
  {
   "cell_type": "code",
   "execution_count": 36,
   "id": "8ee5c967",
   "metadata": {},
   "outputs": [
    {
     "data": {
      "text/plain": [
       "33"
      ]
     },
     "execution_count": 36,
     "metadata": {},
     "output_type": "execute_result"
    }
   ],
   "source": [
    "description21=[]\n",
    "for i in description_tags:\n",
    "    description21.append(i.text)\n",
    "    \n",
    "    \n",
    "len(description21)"
   ]
  },
  {
   "cell_type": "code",
   "execution_count": 37,
   "id": "c38faddb",
   "metadata": {},
   "outputs": [
    {
     "data": {
      "text/plain": [
       "7"
      ]
     },
     "execution_count": 37,
     "metadata": {},
     "output_type": "execute_result"
    }
   ],
   "source": [
    "description_tags=driver.find_elements(By.XPATH,'//a[@class=\"IRpwTa _2-ICcC\"]')\n",
    "len(description_tags)"
   ]
  },
  {
   "cell_type": "code",
   "execution_count": 38,
   "id": "d0478967",
   "metadata": {},
   "outputs": [
    {
     "data": {
      "text/plain": [
       "7"
      ]
     },
     "execution_count": 38,
     "metadata": {},
     "output_type": "execute_result"
    }
   ],
   "source": [
    "description22=[]\n",
    "for i in description_tags:\n",
    "    description22.append(i.text)\n",
    "    \n",
    "    \n",
    "len(description22)"
   ]
  },
  {
   "cell_type": "code",
   "execution_count": 39,
   "id": "d7ee7eb8",
   "metadata": {},
   "outputs": [
    {
     "data": {
      "text/plain": [
       "40"
      ]
     },
     "execution_count": 39,
     "metadata": {},
     "output_type": "execute_result"
    }
   ],
   "source": [
    "description2=description21+description22\n",
    "len(description2)"
   ]
  },
  {
   "cell_type": "code",
   "execution_count": 40,
   "id": "0fd9e6c0",
   "metadata": {},
   "outputs": [
    {
     "data": {
      "text/plain": [
       "<selenium.webdriver.remote.webelement.WebElement (session=\"5b3cb84dfcb764222df7b4a9ba78a470\", element=\"f15e4506-1f17-41fd-b814-eb106bc06130\")>"
      ]
     },
     "execution_count": 40,
     "metadata": {},
     "output_type": "execute_result"
    }
   ],
   "source": [
    "next_button=driver.find_element(By.XPATH,'/html/body/div[1]/div/div[3]/div[1]/div[2]/div[12]/div/div/nav/a[12]')\n",
    "next_button"
   ]
  },
  {
   "cell_type": "code",
   "execution_count": 41,
   "id": "1b411c24",
   "metadata": {},
   "outputs": [],
   "source": [
    "next_button.click()"
   ]
  },
  {
   "cell_type": "code",
   "execution_count": 42,
   "id": "70464e0f",
   "metadata": {},
   "outputs": [
    {
     "data": {
      "text/plain": [
       "29"
      ]
     },
     "execution_count": 42,
     "metadata": {},
     "output_type": "execute_result"
    }
   ],
   "source": [
    "description_tags=driver.find_elements(By.XPATH,'//a[@class=\"IRpwTa\"]')\n",
    "len(description_tags)"
   ]
  },
  {
   "cell_type": "code",
   "execution_count": 43,
   "id": "7c8dec87",
   "metadata": {},
   "outputs": [
    {
     "data": {
      "text/plain": [
       "29"
      ]
     },
     "execution_count": 43,
     "metadata": {},
     "output_type": "execute_result"
    }
   ],
   "source": [
    "description31=[]\n",
    "for i in description_tags:\n",
    "    description31.append(i.text)\n",
    "    \n",
    "    \n",
    "len(description31)"
   ]
  },
  {
   "cell_type": "code",
   "execution_count": 44,
   "id": "d444b67c",
   "metadata": {},
   "outputs": [
    {
     "data": {
      "text/plain": [
       "11"
      ]
     },
     "execution_count": 44,
     "metadata": {},
     "output_type": "execute_result"
    }
   ],
   "source": [
    "description_tags=driver.find_elements(By.XPATH,'//a[@class=\"IRpwTa _2-ICcC\"]')\n",
    "len(description_tags)"
   ]
  },
  {
   "cell_type": "code",
   "execution_count": 45,
   "id": "51000892",
   "metadata": {},
   "outputs": [
    {
     "data": {
      "text/plain": [
       "11"
      ]
     },
     "execution_count": 45,
     "metadata": {},
     "output_type": "execute_result"
    }
   ],
   "source": [
    "description32=[]\n",
    "for i in description_tags:\n",
    "    description32.append(i.text)\n",
    "    \n",
    "    \n",
    "len(description32)"
   ]
  },
  {
   "cell_type": "code",
   "execution_count": 46,
   "id": "711b9d2b",
   "metadata": {},
   "outputs": [
    {
     "data": {
      "text/plain": [
       "40"
      ]
     },
     "execution_count": 46,
     "metadata": {},
     "output_type": "execute_result"
    }
   ],
   "source": [
    "description3=description31+description32\n",
    "len(description3)"
   ]
  },
  {
   "cell_type": "code",
   "execution_count": 47,
   "id": "cea26c0e",
   "metadata": {},
   "outputs": [
    {
     "data": {
      "text/plain": [
       "120"
      ]
     },
     "execution_count": 47,
     "metadata": {},
     "output_type": "execute_result"
    }
   ],
   "source": [
    "description=description1+description2+description3\n",
    "len(description)"
   ]
  },
  {
   "cell_type": "code",
   "execution_count": 48,
   "id": "b5fa4b00",
   "metadata": {},
   "outputs": [
    {
     "data": {
      "text/plain": [
       "100"
      ]
     },
     "execution_count": 48,
     "metadata": {},
     "output_type": "execute_result"
    }
   ],
   "source": [
    "description=description[0:100]\n",
    "len(description)"
   ]
  },
  {
   "cell_type": "markdown",
   "id": "209ddf01",
   "metadata": {},
   "source": [
    "# Extracting Price"
   ]
  },
  {
   "cell_type": "code",
   "execution_count": 50,
   "id": "42c64875",
   "metadata": {},
   "outputs": [
    {
     "data": {
      "text/plain": [
       "40"
      ]
     },
     "execution_count": 50,
     "metadata": {},
     "output_type": "execute_result"
    }
   ],
   "source": [
    "price_tags=driver.find_elements(By.XPATH,'//div[@class=\"_30jeq3\"]')\n",
    "len(price_tags)"
   ]
  },
  {
   "cell_type": "code",
   "execution_count": 51,
   "id": "80ad864e",
   "metadata": {},
   "outputs": [
    {
     "data": {
      "text/plain": [
       "40"
      ]
     },
     "execution_count": 51,
     "metadata": {},
     "output_type": "execute_result"
    }
   ],
   "source": [
    "price1=[]\n",
    "for i in price_tags:\n",
    "    price1.append(i.text)\n",
    "    \n",
    "    \n",
    "len(price1)"
   ]
  },
  {
   "cell_type": "code",
   "execution_count": 52,
   "id": "df71b101",
   "metadata": {},
   "outputs": [
    {
     "data": {
      "text/plain": [
       "<selenium.webdriver.remote.webelement.WebElement (session=\"5b3cb84dfcb764222df7b4a9ba78a470\", element=\"f15e4506-1f17-41fd-b814-eb106bc06130\")>"
      ]
     },
     "execution_count": 52,
     "metadata": {},
     "output_type": "execute_result"
    }
   ],
   "source": [
    "next_button=driver.find_element(By.XPATH,'/html/body/div[1]/div/div[3]/div[1]/div[2]/div[12]/div/div/nav/a[11]')\n",
    "next_button"
   ]
  },
  {
   "cell_type": "code",
   "execution_count": 53,
   "id": "a727ac1d",
   "metadata": {},
   "outputs": [],
   "source": [
    "next_button.click()"
   ]
  },
  {
   "cell_type": "code",
   "execution_count": 54,
   "id": "753749d2",
   "metadata": {},
   "outputs": [
    {
     "data": {
      "text/plain": [
       "40"
      ]
     },
     "execution_count": 54,
     "metadata": {},
     "output_type": "execute_result"
    }
   ],
   "source": [
    "price_tags=driver.find_elements(By.XPATH,'//div[@class=\"_30jeq3\"]')\n",
    "len(price_tags)"
   ]
  },
  {
   "cell_type": "code",
   "execution_count": 55,
   "id": "12d62a86",
   "metadata": {},
   "outputs": [
    {
     "data": {
      "text/plain": [
       "40"
      ]
     },
     "execution_count": 55,
     "metadata": {},
     "output_type": "execute_result"
    }
   ],
   "source": [
    "price2=[]\n",
    "for i in price_tags:\n",
    "    price2.append(i.text)\n",
    "    \n",
    "    \n",
    "len(price2)"
   ]
  },
  {
   "cell_type": "code",
   "execution_count": 56,
   "id": "62ef67a8",
   "metadata": {},
   "outputs": [
    {
     "data": {
      "text/plain": [
       "<selenium.webdriver.remote.webelement.WebElement (session=\"5b3cb84dfcb764222df7b4a9ba78a470\", element=\"f15e4506-1f17-41fd-b814-eb106bc06130\")>"
      ]
     },
     "execution_count": 56,
     "metadata": {},
     "output_type": "execute_result"
    }
   ],
   "source": [
    "next_button=driver.find_element(By.XPATH,'/html/body/div[1]/div/div[3]/div[1]/div[2]/div[12]/div/div/nav/a[12]')\n",
    "next_button"
   ]
  },
  {
   "cell_type": "code",
   "execution_count": 57,
   "id": "6ed25969",
   "metadata": {},
   "outputs": [],
   "source": [
    "next_button.click()"
   ]
  },
  {
   "cell_type": "code",
   "execution_count": 58,
   "id": "b9becbe5",
   "metadata": {},
   "outputs": [
    {
     "data": {
      "text/plain": [
       "40"
      ]
     },
     "execution_count": 58,
     "metadata": {},
     "output_type": "execute_result"
    }
   ],
   "source": [
    "price_tags=driver.find_elements(By.XPATH,'//div[@class=\"_30jeq3\"]')\n",
    "len(price_tags)"
   ]
  },
  {
   "cell_type": "code",
   "execution_count": 59,
   "id": "b240d65f",
   "metadata": {},
   "outputs": [
    {
     "data": {
      "text/plain": [
       "40"
      ]
     },
     "execution_count": 59,
     "metadata": {},
     "output_type": "execute_result"
    }
   ],
   "source": [
    "price3=[]\n",
    "for i in price_tags:\n",
    "    price3.append(i.text)\n",
    "    \n",
    "    \n",
    "len(price3)"
   ]
  },
  {
   "cell_type": "code",
   "execution_count": 60,
   "id": "2a32c73c",
   "metadata": {},
   "outputs": [
    {
     "data": {
      "text/plain": [
       "120"
      ]
     },
     "execution_count": 60,
     "metadata": {},
     "output_type": "execute_result"
    }
   ],
   "source": [
    "price=price1+price2+price3\n",
    "len(price)"
   ]
  },
  {
   "cell_type": "code",
   "execution_count": 61,
   "id": "a99b6fa9",
   "metadata": {},
   "outputs": [
    {
     "data": {
      "text/plain": [
       "100"
      ]
     },
     "execution_count": 61,
     "metadata": {},
     "output_type": "execute_result"
    }
   ],
   "source": [
    "price=price[0:100]\n",
    "len(price)"
   ]
  },
  {
   "cell_type": "markdown",
   "id": "630104e2",
   "metadata": {},
   "source": [
    "# Extracting Discount"
   ]
  },
  {
   "cell_type": "code",
   "execution_count": 62,
   "id": "07691f47",
   "metadata": {},
   "outputs": [
    {
     "data": {
      "text/plain": [
       "40"
      ]
     },
     "execution_count": 62,
     "metadata": {},
     "output_type": "execute_result"
    }
   ],
   "source": [
    "discount_tags=driver.find_elements(By.XPATH,'//div[@class=\"_3Ay6Sb\"]')\n",
    "len(discount_tags)"
   ]
  },
  {
   "cell_type": "code",
   "execution_count": 63,
   "id": "92fa1c52",
   "metadata": {},
   "outputs": [
    {
     "data": {
      "text/plain": [
       "40"
      ]
     },
     "execution_count": 63,
     "metadata": {},
     "output_type": "execute_result"
    }
   ],
   "source": [
    "discount1=[]\n",
    "for i in discount_tags:\n",
    "    discount1.append(i.text)\n",
    "    \n",
    "    \n",
    "len(discount1)"
   ]
  },
  {
   "cell_type": "code",
   "execution_count": 64,
   "id": "2e12947b",
   "metadata": {},
   "outputs": [
    {
     "data": {
      "text/plain": [
       "<selenium.webdriver.remote.webelement.WebElement (session=\"5b3cb84dfcb764222df7b4a9ba78a470\", element=\"f15e4506-1f17-41fd-b814-eb106bc06130\")>"
      ]
     },
     "execution_count": 64,
     "metadata": {},
     "output_type": "execute_result"
    }
   ],
   "source": [
    "next_button=driver.find_element(By.XPATH,'/html/body/div[1]/div/div[3]/div[1]/div[2]/div[12]/div/div/nav/a[11]')\n",
    "next_button"
   ]
  },
  {
   "cell_type": "code",
   "execution_count": 66,
   "id": "f36b0fa4",
   "metadata": {},
   "outputs": [],
   "source": [
    "next_button.click()"
   ]
  },
  {
   "cell_type": "code",
   "execution_count": 67,
   "id": "528c099e",
   "metadata": {},
   "outputs": [
    {
     "data": {
      "text/plain": [
       "40"
      ]
     },
     "execution_count": 67,
     "metadata": {},
     "output_type": "execute_result"
    }
   ],
   "source": [
    "discount_tags=driver.find_elements(By.XPATH,'//div[@class=\"_3Ay6Sb\"]')\n",
    "len(discount_tags)"
   ]
  },
  {
   "cell_type": "code",
   "execution_count": 68,
   "id": "a1e35ea7",
   "metadata": {},
   "outputs": [
    {
     "data": {
      "text/plain": [
       "40"
      ]
     },
     "execution_count": 68,
     "metadata": {},
     "output_type": "execute_result"
    }
   ],
   "source": [
    "discount2=[]\n",
    "for i in discount_tags:\n",
    "    discount2.append(i.text)\n",
    "    \n",
    "    \n",
    "len(discount2)"
   ]
  },
  {
   "cell_type": "code",
   "execution_count": 69,
   "id": "8bead4d8",
   "metadata": {},
   "outputs": [
    {
     "data": {
      "text/plain": [
       "<selenium.webdriver.remote.webelement.WebElement (session=\"5b3cb84dfcb764222df7b4a9ba78a470\", element=\"bcd44973-7cab-489e-a39f-2aca5c3ba482\")>"
      ]
     },
     "execution_count": 69,
     "metadata": {},
     "output_type": "execute_result"
    }
   ],
   "source": [
    "next_button=driver.find_element(By.XPATH,'/html/body/div[1]/div/div[3]/div[1]/div[2]/div[12]/div/div/nav/a[11]')\n",
    "next_button"
   ]
  },
  {
   "cell_type": "code",
   "execution_count": 70,
   "id": "40d12f7b",
   "metadata": {},
   "outputs": [],
   "source": [
    "next_button.click()"
   ]
  },
  {
   "cell_type": "code",
   "execution_count": 72,
   "id": "e0d4f094",
   "metadata": {},
   "outputs": [
    {
     "data": {
      "text/plain": [
       "40"
      ]
     },
     "execution_count": 72,
     "metadata": {},
     "output_type": "execute_result"
    }
   ],
   "source": [
    "discount_tags=driver.find_elements(By.XPATH,'//div[@class=\"_3Ay6Sb\"]')\n",
    "len(discount_tags)"
   ]
  },
  {
   "cell_type": "code",
   "execution_count": 73,
   "id": "61ecd6b1",
   "metadata": {},
   "outputs": [
    {
     "data": {
      "text/plain": [
       "40"
      ]
     },
     "execution_count": 73,
     "metadata": {},
     "output_type": "execute_result"
    }
   ],
   "source": [
    "discount3=[]\n",
    "for i in discount_tags:\n",
    "    discount3.append(i.text)\n",
    "    \n",
    "    \n",
    "len(discount3)"
   ]
  },
  {
   "cell_type": "code",
   "execution_count": 74,
   "id": "38be1d1f",
   "metadata": {},
   "outputs": [
    {
     "data": {
      "text/plain": [
       "120"
      ]
     },
     "execution_count": 74,
     "metadata": {},
     "output_type": "execute_result"
    }
   ],
   "source": [
    "discount=discount1+discount2+discount3\n",
    "len(discount)"
   ]
  },
  {
   "cell_type": "code",
   "execution_count": 75,
   "id": "572f9c2c",
   "metadata": {},
   "outputs": [
    {
     "data": {
      "text/plain": [
       "100"
      ]
     },
     "execution_count": 75,
     "metadata": {},
     "output_type": "execute_result"
    }
   ],
   "source": [
    "discount=discount[0:100]\n",
    "len(discount)"
   ]
  },
  {
   "cell_type": "code",
   "execution_count": 76,
   "id": "f1fbec47",
   "metadata": {},
   "outputs": [
    {
     "data": {
      "text/plain": [
       "(100, 100, 100, 100)"
      ]
     },
     "execution_count": 76,
     "metadata": {},
     "output_type": "execute_result"
    }
   ],
   "source": [
    "len(brand_names),len(description),len(price),len(discount)"
   ]
  },
  {
   "cell_type": "code",
   "execution_count": 77,
   "id": "5acbb0c0",
   "metadata": {},
   "outputs": [
    {
     "data": {
      "text/html": [
       "<div>\n",
       "<style scoped>\n",
       "    .dataframe tbody tr th:only-of-type {\n",
       "        vertical-align: middle;\n",
       "    }\n",
       "\n",
       "    .dataframe tbody tr th {\n",
       "        vertical-align: top;\n",
       "    }\n",
       "\n",
       "    .dataframe thead th {\n",
       "        text-align: right;\n",
       "    }\n",
       "</style>\n",
       "<table border=\"1\" class=\"dataframe\">\n",
       "  <thead>\n",
       "    <tr style=\"text-align: right;\">\n",
       "      <th></th>\n",
       "      <th>Brand Name</th>\n",
       "      <th>Description</th>\n",
       "      <th>Price</th>\n",
       "      <th>Discount</th>\n",
       "    </tr>\n",
       "  </thead>\n",
       "  <tbody>\n",
       "    <tr>\n",
       "      <th>0</th>\n",
       "      <td>World Wear Footwear</td>\n",
       "      <td>Trendy Stylish Comfortable &amp; Lightweight, Casu...</td>\n",
       "      <td>₹398</td>\n",
       "      <td>50% off</td>\n",
       "    </tr>\n",
       "    <tr>\n",
       "      <th>1</th>\n",
       "      <td>luxury fashion</td>\n",
       "      <td>Sneakers Sneakers For Men</td>\n",
       "      <td>₹399</td>\n",
       "      <td>62% off</td>\n",
       "    </tr>\n",
       "    <tr>\n",
       "      <th>2</th>\n",
       "      <td>WOODLAND</td>\n",
       "      <td>White &amp; Black Sneakers For Men Casual Shoes Fo...</td>\n",
       "      <td>₹2,096</td>\n",
       "      <td>30% off</td>\n",
       "    </tr>\n",
       "    <tr>\n",
       "      <th>3</th>\n",
       "      <td>BRUTON</td>\n",
       "      <td>Exclusive Affordable Collection of Trendy &amp; St...</td>\n",
       "      <td>₹284</td>\n",
       "      <td>78% off</td>\n",
       "    </tr>\n",
       "    <tr>\n",
       "      <th>4</th>\n",
       "      <td>SFR</td>\n",
       "      <td>White &amp; Black Sneakers For Men Casual Shoes Fo...</td>\n",
       "      <td>₹289</td>\n",
       "      <td>71% off</td>\n",
       "    </tr>\n",
       "    <tr>\n",
       "      <th>...</th>\n",
       "      <td>...</td>\n",
       "      <td>...</td>\n",
       "      <td>...</td>\n",
       "      <td>...</td>\n",
       "    </tr>\n",
       "    <tr>\n",
       "      <th>95</th>\n",
       "      <td>RapidBox</td>\n",
       "      <td>Casual Sneakers White Shoes For Men Sneakers F...</td>\n",
       "      <td>₹399</td>\n",
       "      <td>60% off</td>\n",
       "    </tr>\n",
       "    <tr>\n",
       "      <th>96</th>\n",
       "      <td>PUMA</td>\n",
       "      <td>White casual, gym,training &amp; Running sneakers ...</td>\n",
       "      <td>₹1,135</td>\n",
       "      <td>75% off</td>\n",
       "    </tr>\n",
       "    <tr>\n",
       "      <th>97</th>\n",
       "      <td>DUNKASTON</td>\n",
       "      <td>Sneakers For Men</td>\n",
       "      <td>₹592</td>\n",
       "      <td>60% off</td>\n",
       "    </tr>\n",
       "    <tr>\n",
       "      <th>98</th>\n",
       "      <td>PUMA</td>\n",
       "      <td>STYLISH MENS BLACK TRENDY SNEAKER FOR MENS Sne...</td>\n",
       "      <td>₹398</td>\n",
       "      <td>87% off</td>\n",
       "    </tr>\n",
       "    <tr>\n",
       "      <th>99</th>\n",
       "      <td>SPARX</td>\n",
       "      <td>Casual Sneakers For Men</td>\n",
       "      <td>₹399</td>\n",
       "      <td>20% off</td>\n",
       "    </tr>\n",
       "  </tbody>\n",
       "</table>\n",
       "<p>100 rows × 4 columns</p>\n",
       "</div>"
      ],
      "text/plain": [
       "             Brand Name                                        Description  \\\n",
       "0   World Wear Footwear  Trendy Stylish Comfortable & Lightweight, Casu...   \n",
       "1        luxury fashion                          Sneakers Sneakers For Men   \n",
       "2              WOODLAND  White & Black Sneakers For Men Casual Shoes Fo...   \n",
       "3                BRUTON  Exclusive Affordable Collection of Trendy & St...   \n",
       "4                   SFR  White & Black Sneakers For Men Casual Shoes Fo...   \n",
       "..                  ...                                                ...   \n",
       "95             RapidBox  Casual Sneakers White Shoes For Men Sneakers F...   \n",
       "96                 PUMA  White casual, gym,training & Running sneakers ...   \n",
       "97            DUNKASTON                                   Sneakers For Men   \n",
       "98                 PUMA  STYLISH MENS BLACK TRENDY SNEAKER FOR MENS Sne...   \n",
       "99                SPARX                            Casual Sneakers For Men   \n",
       "\n",
       "     Price Discount  \n",
       "0     ₹398  50% off  \n",
       "1     ₹399  62% off  \n",
       "2   ₹2,096  30% off  \n",
       "3     ₹284  78% off  \n",
       "4     ₹289  71% off  \n",
       "..     ...      ...  \n",
       "95    ₹399  60% off  \n",
       "96  ₹1,135  75% off  \n",
       "97    ₹592  60% off  \n",
       "98    ₹398  87% off  \n",
       "99    ₹399  20% off  \n",
       "\n",
       "[100 rows x 4 columns]"
      ]
     },
     "execution_count": 77,
     "metadata": {},
     "output_type": "execute_result"
    }
   ],
   "source": [
    "product=pd.DataFrame()\n",
    "product['Brand Name']=brand_names\n",
    "product['Description']= description\n",
    "product['Price']=price\n",
    "product['Discount']=discount\n",
    "product"
   ]
  },
  {
   "cell_type": "code",
   "execution_count": null,
   "id": "3c57d5bd",
   "metadata": {},
   "outputs": [],
   "source": []
  },
  {
   "cell_type": "code",
   "execution_count": null,
   "id": "493aed5e",
   "metadata": {},
   "outputs": [],
   "source": []
  },
  {
   "cell_type": "code",
   "execution_count": null,
   "id": "b3788ebe",
   "metadata": {},
   "outputs": [],
   "source": []
  },
  {
   "cell_type": "markdown",
   "id": "bca3ea43",
   "metadata": {},
   "source": [
    "# Q7: Go to the link - https://www.myntra.com/shoes\n",
    "Set second Price filter and Color filter to “Black”, as shown in the below image.\n",
    "And then scrape First 100 shoes data you get. The data should include “Brand” of the shoes , Short Shoe\n",
    "description, price of the shoe as shown in the below image"
   ]
  },
  {
   "cell_type": "code",
   "execution_count": 78,
   "id": "76e02f16",
   "metadata": {},
   "outputs": [],
   "source": [
    "driver=webdriver.Chrome('chromedriver.exe')"
   ]
  },
  {
   "cell_type": "code",
   "execution_count": 79,
   "id": "f61706dd",
   "metadata": {},
   "outputs": [],
   "source": [
    "from selenium.webdriver.common.by import By"
   ]
  },
  {
   "cell_type": "code",
   "execution_count": 80,
   "id": "cdaf4d83",
   "metadata": {},
   "outputs": [],
   "source": [
    "url='https://www.myntra.com/shoes'\n",
    "driver.get(url)"
   ]
  },
  {
   "cell_type": "markdown",
   "id": "89fb9f04",
   "metadata": {},
   "source": [
    "# *************************UNABLE TO INSPECT*******************************"
   ]
  },
  {
   "cell_type": "code",
   "execution_count": null,
   "id": "6df028a7",
   "metadata": {},
   "outputs": [],
   "source": []
  },
  {
   "cell_type": "code",
   "execution_count": null,
   "id": "7bc457a3",
   "metadata": {},
   "outputs": [],
   "source": []
  },
  {
   "cell_type": "markdown",
   "id": "1470531d",
   "metadata": {},
   "source": [
    "# Q8: Go to webpage https://www.amazon.in/\n",
    "Enter “Laptop” in the search field and then click the search icon.\n",
    "Then set CPU Type filter to “Intel Core i7” as shown in the below image:\n",
    "After setting the filters scrape first 10 laptops data. You have to scrape 3 attributesfor each laptop:\n",
    "1. Title\n",
    "2. Ratings\n",
    "3. Price"
   ]
  },
  {
   "cell_type": "code",
   "execution_count": 90,
   "id": "ca8a45a4",
   "metadata": {},
   "outputs": [],
   "source": [
    "driver=webdriver.Chrome('chromedriver.exe')"
   ]
  },
  {
   "cell_type": "code",
   "execution_count": 91,
   "id": "18b9495e",
   "metadata": {},
   "outputs": [],
   "source": [
    "from selenium.webdriver.common.by import By"
   ]
  },
  {
   "cell_type": "code",
   "execution_count": 92,
   "id": "2174cd41",
   "metadata": {},
   "outputs": [],
   "source": [
    "url=' https://www.amazon.in/'\n",
    "driver.get(url)"
   ]
  },
  {
   "cell_type": "code",
   "execution_count": 99,
   "id": "2b70c155",
   "metadata": {},
   "outputs": [
    {
     "data": {
      "text/plain": [
       "<selenium.webdriver.remote.webelement.WebElement (session=\"404836588398029dad167c408308c843\", element=\"7e049cbb-ec2a-4fd7-9a38-5dce69d22b8f\")>"
      ]
     },
     "execution_count": 99,
     "metadata": {},
     "output_type": "execute_result"
    }
   ],
   "source": [
    "search_product=driver.find_element(By.XPATH,\"/html/body/div[1]/header/div/div[1]/div[2]/div/form/div[2]/div[1]/input\")\n",
    "search_product"
   ]
  },
  {
   "cell_type": "code",
   "execution_count": 100,
   "id": "426d6930",
   "metadata": {},
   "outputs": [],
   "source": [
    "#write on search bar\n",
    "search_product.send_keys(\"Laptop\")"
   ]
  },
  {
   "cell_type": "code",
   "execution_count": 101,
   "id": "a4565fc4",
   "metadata": {},
   "outputs": [
    {
     "data": {
      "text/plain": [
       "<selenium.webdriver.remote.webelement.WebElement (session=\"404836588398029dad167c408308c843\", element=\"d493a443-91e2-40e8-8cf7-94366ef54ebb\")>"
      ]
     },
     "execution_count": 101,
     "metadata": {},
     "output_type": "execute_result"
    }
   ],
   "source": [
    "search_btn=driver.find_element(By.XPATH,'/html/body/div[1]/header/div/div[1]/div[2]/div/form/div[3]/div/span/input')\n",
    "search_btn"
   ]
  },
  {
   "cell_type": "code",
   "execution_count": 102,
   "id": "a1216d95",
   "metadata": {},
   "outputs": [],
   "source": [
    "search_btn.click()"
   ]
  },
  {
   "cell_type": "code",
   "execution_count": 103,
   "id": "d9b9a2e6",
   "metadata": {},
   "outputs": [],
   "source": [
    "cpu_check=driver.find_element(By.XPATH,'/html/body/div[1]/div[2]/div[1]/div[2]/div/div[3]/span/div[1]/div/div/div[6]/ul[4]/li[14]/span/a/div/label/i')\n",
    "     "
   ]
  },
  {
   "cell_type": "code",
   "execution_count": 104,
   "id": "b273be49",
   "metadata": {},
   "outputs": [],
   "source": [
    "cpu_check.click()"
   ]
  },
  {
   "cell_type": "code",
   "execution_count": 106,
   "id": "440a3abc",
   "metadata": {},
   "outputs": [
    {
     "data": {
      "text/plain": [
       "30"
      ]
     },
     "execution_count": 106,
     "metadata": {},
     "output_type": "execute_result"
    }
   ],
   "source": [
    "title_tags=driver.find_elements(By.XPATH,'//span[@class=\"a-size-medium a-color-base a-text-normal\"]')\n",
    "\n",
    "len(title_tags)"
   ]
  },
  {
   "cell_type": "code",
   "execution_count": 107,
   "id": "09ddfa41",
   "metadata": {},
   "outputs": [
    {
     "data": {
      "text/plain": [
       "30"
      ]
     },
     "execution_count": 107,
     "metadata": {},
     "output_type": "execute_result"
    }
   ],
   "source": [
    "titles=[]\n",
    "for i in title_tags:\n",
    "    titles.append(i.text)\n",
    "    \n",
    "    \n",
    "len(titles)"
   ]
  },
  {
   "cell_type": "code",
   "execution_count": 108,
   "id": "101bd801",
   "metadata": {},
   "outputs": [
    {
     "data": {
      "text/plain": [
       "10"
      ]
     },
     "execution_count": 108,
     "metadata": {},
     "output_type": "execute_result"
    }
   ],
   "source": [
    "titles=titles[0:10]\n",
    "len(titles)"
   ]
  },
  {
   "cell_type": "code",
   "execution_count": 109,
   "id": "a3d5e04e",
   "metadata": {},
   "outputs": [
    {
     "data": {
      "text/plain": [
       "27"
      ]
     },
     "execution_count": 109,
     "metadata": {},
     "output_type": "execute_result"
    }
   ],
   "source": [
    "rating_tags=driver.find_elements(By.XPATH,'//span[@class=\"a-icon-alt\"]')\n",
    "\n",
    "len(rating_tags)"
   ]
  },
  {
   "cell_type": "code",
   "execution_count": 111,
   "id": "5aa27868",
   "metadata": {},
   "outputs": [
    {
     "data": {
      "text/plain": [
       "27"
      ]
     },
     "execution_count": 111,
     "metadata": {},
     "output_type": "execute_result"
    }
   ],
   "source": [
    "rating=[]\n",
    "for i in rating_tags:\n",
    "    rating.append(i.text)\n",
    "    \n",
    "    \n",
    "len(rating)"
   ]
  },
  {
   "cell_type": "code",
   "execution_count": 112,
   "id": "c29fff6e",
   "metadata": {},
   "outputs": [
    {
     "data": {
      "text/plain": [
       "10"
      ]
     },
     "execution_count": 112,
     "metadata": {},
     "output_type": "execute_result"
    }
   ],
   "source": [
    "rating=rating[0:10]\n",
    "len(rating)"
   ]
  },
  {
   "cell_type": "code",
   "execution_count": 113,
   "id": "f6c39445",
   "metadata": {},
   "outputs": [
    {
     "data": {
      "text/plain": [
       "30"
      ]
     },
     "execution_count": 113,
     "metadata": {},
     "output_type": "execute_result"
    }
   ],
   "source": [
    "price_tags=driver.find_elements(By.XPATH,'//span[@class=\"a-price-whole\"]')\n",
    "\n",
    "len(price_tags)"
   ]
  },
  {
   "cell_type": "code",
   "execution_count": 114,
   "id": "c9be1ea8",
   "metadata": {},
   "outputs": [
    {
     "data": {
      "text/plain": [
       "30"
      ]
     },
     "execution_count": 114,
     "metadata": {},
     "output_type": "execute_result"
    }
   ],
   "source": [
    "price=[]\n",
    "for i in price_tags:\n",
    "    price.append(i.text)\n",
    "    \n",
    "    \n",
    "len(price)"
   ]
  },
  {
   "cell_type": "code",
   "execution_count": 115,
   "id": "70b8dbe9",
   "metadata": {},
   "outputs": [
    {
     "data": {
      "text/plain": [
       "10"
      ]
     },
     "execution_count": 115,
     "metadata": {},
     "output_type": "execute_result"
    }
   ],
   "source": [
    "price=price[0:10]\n",
    "len(price)"
   ]
  },
  {
   "cell_type": "code",
   "execution_count": 116,
   "id": "97382e42",
   "metadata": {},
   "outputs": [
    {
     "data": {
      "text/plain": [
       "(10, 10, 10)"
      ]
     },
     "execution_count": 116,
     "metadata": {},
     "output_type": "execute_result"
    }
   ],
   "source": [
    "len(price),len(rating),len(titles)"
   ]
  },
  {
   "cell_type": "code",
   "execution_count": 117,
   "id": "2c0fecdd",
   "metadata": {},
   "outputs": [
    {
     "data": {
      "text/html": [
       "<div>\n",
       "<style scoped>\n",
       "    .dataframe tbody tr th:only-of-type {\n",
       "        vertical-align: middle;\n",
       "    }\n",
       "\n",
       "    .dataframe tbody tr th {\n",
       "        vertical-align: top;\n",
       "    }\n",
       "\n",
       "    .dataframe thead th {\n",
       "        text-align: right;\n",
       "    }\n",
       "</style>\n",
       "<table border=\"1\" class=\"dataframe\">\n",
       "  <thead>\n",
       "    <tr style=\"text-align: right;\">\n",
       "      <th></th>\n",
       "      <th>Title</th>\n",
       "      <th>Rating</th>\n",
       "      <th>Price</th>\n",
       "    </tr>\n",
       "  </thead>\n",
       "  <tbody>\n",
       "    <tr>\n",
       "      <th>0</th>\n",
       "      <td>Lenovo IdeaPad Slim 5 Pro Intel Core i7 11th G...</td>\n",
       "      <td></td>\n",
       "      <td>75,990</td>\n",
       "    </tr>\n",
       "    <tr>\n",
       "      <th>1</th>\n",
       "      <td>Acer Nitro 5 Core i7 11th Gen 15.6\" (39.62cms)...</td>\n",
       "      <td></td>\n",
       "      <td>99,990</td>\n",
       "    </tr>\n",
       "    <tr>\n",
       "      <th>2</th>\n",
       "      <td>Hp Pavilion 15 12Th Gen Intel Core I7 16Gb Sdr...</td>\n",
       "      <td></td>\n",
       "      <td>87,900</td>\n",
       "    </tr>\n",
       "    <tr>\n",
       "      <th>3</th>\n",
       "      <td>ASUS TUF Gaming F15 (2021), 15.6\" (39.62 cms) ...</td>\n",
       "      <td></td>\n",
       "      <td>89,990</td>\n",
       "    </tr>\n",
       "    <tr>\n",
       "      <th>4</th>\n",
       "      <td>Lenovo ThinkBook 15 Intel 11th Gen Core i7 15....</td>\n",
       "      <td></td>\n",
       "      <td>86,990</td>\n",
       "    </tr>\n",
       "    <tr>\n",
       "      <th>5</th>\n",
       "      <td>Samsung Galaxy Book2 Intel 12th Gen core i7 39...</td>\n",
       "      <td></td>\n",
       "      <td>79,990</td>\n",
       "    </tr>\n",
       "    <tr>\n",
       "      <th>6</th>\n",
       "      <td>LG Gram 16 Intel Evo 11th Gen i7 Thin &amp; Light ...</td>\n",
       "      <td></td>\n",
       "      <td>85,499</td>\n",
       "    </tr>\n",
       "    <tr>\n",
       "      <th>7</th>\n",
       "      <td>Hp Pavilion X360 11Th Gen Intel Core I7 14 Inc...</td>\n",
       "      <td></td>\n",
       "      <td>82,990</td>\n",
       "    </tr>\n",
       "    <tr>\n",
       "      <th>8</th>\n",
       "      <td>HP Envy 11th Gen Intel Evo Core i7 14 inch(35....</td>\n",
       "      <td></td>\n",
       "      <td>99,350</td>\n",
       "    </tr>\n",
       "    <tr>\n",
       "      <th>9</th>\n",
       "      <td>ASUS Vivobook 15, 15.6-inch (39.62 cms) FHD, I...</td>\n",
       "      <td></td>\n",
       "      <td>57,890</td>\n",
       "    </tr>\n",
       "  </tbody>\n",
       "</table>\n",
       "</div>"
      ],
      "text/plain": [
       "                                               Title Rating   Price\n",
       "0  Lenovo IdeaPad Slim 5 Pro Intel Core i7 11th G...         75,990\n",
       "1  Acer Nitro 5 Core i7 11th Gen 15.6\" (39.62cms)...         99,990\n",
       "2  Hp Pavilion 15 12Th Gen Intel Core I7 16Gb Sdr...         87,900\n",
       "3  ASUS TUF Gaming F15 (2021), 15.6\" (39.62 cms) ...         89,990\n",
       "4  Lenovo ThinkBook 15 Intel 11th Gen Core i7 15....         86,990\n",
       "5  Samsung Galaxy Book2 Intel 12th Gen core i7 39...         79,990\n",
       "6  LG Gram 16 Intel Evo 11th Gen i7 Thin & Light ...         85,499\n",
       "7  Hp Pavilion X360 11Th Gen Intel Core I7 14 Inc...         82,990\n",
       "8  HP Envy 11th Gen Intel Evo Core i7 14 inch(35....         99,350\n",
       "9  ASUS Vivobook 15, 15.6-inch (39.62 cms) FHD, I...         57,890"
      ]
     },
     "execution_count": 117,
     "metadata": {},
     "output_type": "execute_result"
    }
   ],
   "source": [
    "product=pd.DataFrame()\n",
    "product['Title']=titles\n",
    "product['Rating']= rating\n",
    "product['Price']=price\n",
    "\n",
    "product"
   ]
  },
  {
   "cell_type": "code",
   "execution_count": null,
   "id": "456f1b5d",
   "metadata": {},
   "outputs": [],
   "source": []
  },
  {
   "cell_type": "code",
   "execution_count": null,
   "id": "c2e1684e",
   "metadata": {},
   "outputs": [],
   "source": []
  },
  {
   "cell_type": "markdown",
   "id": "87d5bb5a",
   "metadata": {},
   "source": [
    "# Q9: Write a python program to scrape data for first 10 job results for Data Scientist Designation in Noida\n",
    "location. You have to scrape company name, No. of days ago when job was posted, Rating of the company.\n",
    "This task will be done in following steps:\n",
    "1. First get the webpage https://www.ambitionbox.com/\n",
    "2. Click on the Job option as shown in the image\n",
    "3. After reaching to the next webpage, In place of “Search by Designations, Companies, Skills” enter\n",
    "“Data Scientist” and click on search button.\n",
    "4. You will reach to the following web page click on location and in place of “Search location” enter\n",
    "“Noida” and select location “Noida”.\n",
    "5. Then scrape the data for the first 10 jobs results you get on the above shown page.\n",
    "6. Finally create a dataframe of the scraped data."
   ]
  },
  {
   "cell_type": "code",
   "execution_count": 118,
   "id": "b9b6b0be",
   "metadata": {},
   "outputs": [],
   "source": [
    "driver=webdriver.Chrome('chromedriver.exe')"
   ]
  },
  {
   "cell_type": "code",
   "execution_count": 119,
   "id": "b62ac283",
   "metadata": {},
   "outputs": [],
   "source": [
    "from selenium.webdriver.common.by import By"
   ]
  },
  {
   "cell_type": "code",
   "execution_count": 120,
   "id": "c6ebebbb",
   "metadata": {},
   "outputs": [],
   "source": [
    "url=' https://www.ambitionbox.com/'\n",
    "driver.get(url)"
   ]
  },
  {
   "cell_type": "code",
   "execution_count": 121,
   "id": "37c841ed",
   "metadata": {},
   "outputs": [
    {
     "data": {
      "text/plain": [
       "<selenium.webdriver.remote.webelement.WebElement (session=\"3bf9580c09ede1694d024517683d2020\", element=\"25a2f6fe-988c-4805-a6d4-c365bf45d973\")>"
      ]
     },
     "execution_count": 121,
     "metadata": {},
     "output_type": "execute_result"
    }
   ],
   "source": [
    "job_option=driver.find_element(By.XPATH,\"/html/body/div[1]/nav/nav/a[6]\")\n",
    "job_option"
   ]
  },
  {
   "cell_type": "code",
   "execution_count": 122,
   "id": "27ac5d25",
   "metadata": {},
   "outputs": [],
   "source": [
    "job_option.click()"
   ]
  },
  {
   "cell_type": "code",
   "execution_count": 123,
   "id": "ea6a67b0",
   "metadata": {},
   "outputs": [
    {
     "data": {
      "text/plain": [
       "<selenium.webdriver.remote.webelement.WebElement (session=\"3bf9580c09ede1694d024517683d2020\", element=\"c1bcedff-c5e1-4d35-9496-e1c06d5d5d3e\")>"
      ]
     },
     "execution_count": 123,
     "metadata": {},
     "output_type": "execute_result"
    }
   ],
   "source": [
    "job_search=driver.find_element(By.XPATH,\"/html/body/div/div/div/div[2]/div[1]/div[1]/div/div/div/div/span/input\")\n",
    "job_search"
   ]
  },
  {
   "cell_type": "code",
   "execution_count": 124,
   "id": "a4048c8c",
   "metadata": {},
   "outputs": [],
   "source": [
    "job_search.send_keys(\"Data Scientist\")"
   ]
  },
  {
   "cell_type": "code",
   "execution_count": 126,
   "id": "dee0d64d",
   "metadata": {},
   "outputs": [
    {
     "data": {
      "text/plain": [
       "<selenium.webdriver.remote.webelement.WebElement (session=\"3bf9580c09ede1694d024517683d2020\", element=\"7b4985bc-309d-49d9-94c8-623656262c38\")>"
      ]
     },
     "execution_count": 126,
     "metadata": {},
     "output_type": "execute_result"
    }
   ],
   "source": [
    "search_btn=driver.find_element(By.XPATH,\"/html/body/div/div/div/div[2]/div[1]/div[1]/div/div/div/button/span\")\n",
    "search_btn"
   ]
  },
  {
   "cell_type": "code",
   "execution_count": 127,
   "id": "53870bbd",
   "metadata": {},
   "outputs": [],
   "source": [
    "search_btn.click()"
   ]
  },
  {
   "cell_type": "code",
   "execution_count": 128,
   "id": "3c2d667f",
   "metadata": {},
   "outputs": [
    {
     "data": {
      "text/plain": [
       "<selenium.webdriver.remote.webelement.WebElement (session=\"3bf9580c09ede1694d024517683d2020\", element=\"5d0540a1-cc3f-4bc4-b201-cad821fa25d8\")>"
      ]
     },
     "execution_count": 128,
     "metadata": {},
     "output_type": "execute_result"
    }
   ],
   "source": [
    "location=driver.find_element(By.XPATH,\"/html/body/div/div/div/div[2]/div[1]/div[2]/div[1]/div/div/div/div[2]/div[1]/p\")\n",
    "location\n",
    "\n"
   ]
  },
  {
   "cell_type": "code",
   "execution_count": 129,
   "id": "9dee2930",
   "metadata": {},
   "outputs": [],
   "source": [
    "location.click()"
   ]
  },
  {
   "cell_type": "code",
   "execution_count": 130,
   "id": "93adef3f",
   "metadata": {},
   "outputs": [
    {
     "data": {
      "text/plain": [
       "<selenium.webdriver.remote.webelement.WebElement (session=\"3bf9580c09ede1694d024517683d2020\", element=\"01dfd962-1312-43a6-8de4-3da0908bfe3a\")>"
      ]
     },
     "execution_count": 130,
     "metadata": {},
     "output_type": "execute_result"
    }
   ],
   "source": [
    "search_location=driver.find_element(By.XPATH,\"/html/body/div/div/div/div[2]/div[1]/div[2]/div[1]/div/div/div/div[2]/div[2]/div/div[2]/input\")\n",
    "search_location\n"
   ]
  },
  {
   "cell_type": "code",
   "execution_count": 131,
   "id": "703cf7cc",
   "metadata": {},
   "outputs": [],
   "source": [
    "search_location.send_keys(\"Noida\")"
   ]
  },
  {
   "cell_type": "code",
   "execution_count": 132,
   "id": "2013c478",
   "metadata": {},
   "outputs": [
    {
     "data": {
      "text/plain": [
       "<selenium.webdriver.remote.webelement.WebElement (session=\"3bf9580c09ede1694d024517683d2020\", element=\"14bcc7e8-22bd-46b2-8017-011c303e8619\")>"
      ]
     },
     "execution_count": 132,
     "metadata": {},
     "output_type": "execute_result"
    }
   ],
   "source": [
    "check_location=driver.find_element(By.XPATH,\"/html/body/div/div/div/div[2]/div[1]/div[2]/div[1]/div/div/div/div[2]/div[2]/div/div[3]/div[1]/div[1]/div/label\")\n",
    "check_location\n"
   ]
  },
  {
   "cell_type": "code",
   "execution_count": 133,
   "id": "afd1fa07",
   "metadata": {},
   "outputs": [],
   "source": [
    "check_location.click()"
   ]
  },
  {
   "cell_type": "markdown",
   "id": "fc4108b2",
   "metadata": {},
   "source": [
    "# Extracting company name"
   ]
  },
  {
   "cell_type": "code",
   "execution_count": 134,
   "id": "2e02c539",
   "metadata": {},
   "outputs": [
    {
     "data": {
      "text/plain": [
       "10"
      ]
     },
     "execution_count": 134,
     "metadata": {},
     "output_type": "execute_result"
    }
   ],
   "source": [
    "title_tags=driver.find_elements(By.XPATH,'//p[@class=\"company body-medium\"]')\n",
    "\n",
    "len(title_tags)"
   ]
  },
  {
   "cell_type": "code",
   "execution_count": 135,
   "id": "b28c93fb",
   "metadata": {},
   "outputs": [
    {
     "data": {
      "text/plain": [
       "10"
      ]
     },
     "execution_count": 135,
     "metadata": {},
     "output_type": "execute_result"
    }
   ],
   "source": [
    "company_name=[]\n",
    "for i in title_tags:\n",
    "    company_name.append(i.text)\n",
    "    \n",
    "    \n",
    "len(company_name)"
   ]
  },
  {
   "cell_type": "markdown",
   "id": "1103fa58",
   "metadata": {},
   "source": [
    "# Extracting posting"
   ]
  },
  {
   "cell_type": "code",
   "execution_count": 136,
   "id": "59c47508",
   "metadata": {},
   "outputs": [
    {
     "data": {
      "text/plain": [
       "20"
      ]
     },
     "execution_count": 136,
     "metadata": {},
     "output_type": "execute_result"
    }
   ],
   "source": [
    "posted_tags=driver.find_elements(By.XPATH,'//span[@class=\"body-small-l\"]')\n",
    "\n",
    "len(posted_tags)"
   ]
  },
  {
   "cell_type": "code",
   "execution_count": 137,
   "id": "32436cd7",
   "metadata": {},
   "outputs": [
    {
     "data": {
      "text/plain": [
       "20"
      ]
     },
     "execution_count": 137,
     "metadata": {},
     "output_type": "execute_result"
    }
   ],
   "source": [
    "posted=[]\n",
    "for i in posted_tags:\n",
    "    posted.append(i.text)\n",
    "    \n",
    "    \n",
    "len(posted)"
   ]
  },
  {
   "cell_type": "code",
   "execution_count": 138,
   "id": "b29d2b57",
   "metadata": {},
   "outputs": [
    {
     "data": {
      "text/plain": [
       "10"
      ]
     },
     "execution_count": 138,
     "metadata": {},
     "output_type": "execute_result"
    }
   ],
   "source": [
    "posted=posted[0:10]\n",
    "len(posted)"
   ]
  },
  {
   "cell_type": "markdown",
   "id": "73fa1255",
   "metadata": {},
   "source": [
    "# Extracting rating"
   ]
  },
  {
   "cell_type": "code",
   "execution_count": 139,
   "id": "20bad05c",
   "metadata": {},
   "outputs": [
    {
     "data": {
      "text/plain": [
       "10"
      ]
     },
     "execution_count": 139,
     "metadata": {},
     "output_type": "execute_result"
    }
   ],
   "source": [
    "rating_tags=driver.find_elements(By.XPATH,'//span[@class=\"body-small\"]')\n",
    "\n",
    "len(rating_tags)"
   ]
  },
  {
   "cell_type": "code",
   "execution_count": 140,
   "id": "446be6c6",
   "metadata": {},
   "outputs": [
    {
     "data": {
      "text/plain": [
       "10"
      ]
     },
     "execution_count": 140,
     "metadata": {},
     "output_type": "execute_result"
    }
   ],
   "source": [
    "rating=[]\n",
    "for i in rating_tags:\n",
    "    rating.append(i.text)\n",
    "    \n",
    "    \n",
    "len(rating)"
   ]
  },
  {
   "cell_type": "code",
   "execution_count": 141,
   "id": "67600068",
   "metadata": {},
   "outputs": [
    {
     "data": {
      "text/html": [
       "<div>\n",
       "<style scoped>\n",
       "    .dataframe tbody tr th:only-of-type {\n",
       "        vertical-align: middle;\n",
       "    }\n",
       "\n",
       "    .dataframe tbody tr th {\n",
       "        vertical-align: top;\n",
       "    }\n",
       "\n",
       "    .dataframe thead th {\n",
       "        text-align: right;\n",
       "    }\n",
       "</style>\n",
       "<table border=\"1\" class=\"dataframe\">\n",
       "  <thead>\n",
       "    <tr style=\"text-align: right;\">\n",
       "      <th></th>\n",
       "      <th>company Name</th>\n",
       "      <th>posted</th>\n",
       "      <th>rating</th>\n",
       "    </tr>\n",
       "  </thead>\n",
       "  <tbody>\n",
       "    <tr>\n",
       "      <th>0</th>\n",
       "      <td>Optum Global Solutions (India) Private Limited</td>\n",
       "      <td>8d ago</td>\n",
       "      <td>4.1</td>\n",
       "    </tr>\n",
       "    <tr>\n",
       "      <th>1</th>\n",
       "      <td>GENPACT India Private Limited</td>\n",
       "      <td>via naukri.com</td>\n",
       "      <td>4.0</td>\n",
       "    </tr>\n",
       "    <tr>\n",
       "      <th>2</th>\n",
       "      <td>Dew Solutions Pvt. Ltd.</td>\n",
       "      <td>15d ago</td>\n",
       "      <td>4.3</td>\n",
       "    </tr>\n",
       "    <tr>\n",
       "      <th>3</th>\n",
       "      <td>InfoEdge India Ltd.</td>\n",
       "      <td>via naukri.com</td>\n",
       "      <td>3.9</td>\n",
       "    </tr>\n",
       "    <tr>\n",
       "      <th>4</th>\n",
       "      <td>Info Edge India Limited</td>\n",
       "      <td>6d ago</td>\n",
       "      <td>3.9</td>\n",
       "    </tr>\n",
       "    <tr>\n",
       "      <th>5</th>\n",
       "      <td>Info Edge India Limited</td>\n",
       "      <td>via hirist.com</td>\n",
       "      <td>3.9</td>\n",
       "    </tr>\n",
       "    <tr>\n",
       "      <th>6</th>\n",
       "      <td>Latent bridge</td>\n",
       "      <td>13d ago</td>\n",
       "      <td>4.5</td>\n",
       "    </tr>\n",
       "    <tr>\n",
       "      <th>7</th>\n",
       "      <td>Careerera</td>\n",
       "      <td>via hirist.com</td>\n",
       "      <td>3.8</td>\n",
       "    </tr>\n",
       "    <tr>\n",
       "      <th>8</th>\n",
       "      <td>Careernet Consulting</td>\n",
       "      <td>14d ago</td>\n",
       "      <td>3.9</td>\n",
       "    </tr>\n",
       "    <tr>\n",
       "      <th>9</th>\n",
       "      <td>Acidaes Solutions Pvt. Ltd.</td>\n",
       "      <td>via hirist.com</td>\n",
       "      <td>3.8</td>\n",
       "    </tr>\n",
       "  </tbody>\n",
       "</table>\n",
       "</div>"
      ],
      "text/plain": [
       "                                     company Name          posted rating\n",
       "0  Optum Global Solutions (India) Private Limited          8d ago    4.1\n",
       "1                   GENPACT India Private Limited  via naukri.com    4.0\n",
       "2                         Dew Solutions Pvt. Ltd.         15d ago    4.3\n",
       "3                             InfoEdge India Ltd.  via naukri.com    3.9\n",
       "4                         Info Edge India Limited          6d ago    3.9\n",
       "5                         Info Edge India Limited  via hirist.com    3.9\n",
       "6                                   Latent bridge         13d ago    4.5\n",
       "7                                       Careerera  via hirist.com    3.8\n",
       "8                            Careernet Consulting         14d ago    3.9\n",
       "9                     Acidaes Solutions Pvt. Ltd.  via hirist.com    3.8"
      ]
     },
     "execution_count": 141,
     "metadata": {},
     "output_type": "execute_result"
    }
   ],
   "source": [
    "df=pd.DataFrame()\n",
    "df['company Name']=company_name\n",
    "df['posted']= posted\n",
    "df['rating']=rating\n",
    "\n",
    "df"
   ]
  },
  {
   "cell_type": "code",
   "execution_count": null,
   "id": "80c12caa",
   "metadata": {},
   "outputs": [],
   "source": []
  },
  {
   "cell_type": "code",
   "execution_count": null,
   "id": "d4a09cdb",
   "metadata": {},
   "outputs": [],
   "source": []
  },
  {
   "cell_type": "code",
   "execution_count": null,
   "id": "5c91c12f",
   "metadata": {},
   "outputs": [],
   "source": []
  },
  {
   "cell_type": "markdown",
   "id": "473479c1",
   "metadata": {},
   "source": [
    "# Q10: Write a python program to scrape the salary data for Data Scientist designation.\n",
    "You have to scrape Company name, Number of salaries, Average salary, Minsalary, Max Salary.\n",
    "The above task will be, done as shown in the below steps:\n",
    "1. First get the webpage https://www.ambitionbox.com/\n",
    "2. Click on the salaries option as shown in the image\n",
    "3. After reaching to the following webpage, In place of “Search Job Profile” enters “Data Scientist” and\n",
    "then click on “Data Scientist”.\n",
    "You have to scrape the data ticked in the above image.\n",
    "4. Scrape the data for the first 10 companies. Scrape the company name, total salary record, average\n",
    "salary, minimum salary, maximum salary, experience required.\n",
    "5. Store the data in a dataframe."
   ]
  },
  {
   "cell_type": "code",
   "execution_count": 142,
   "id": "63e12d29",
   "metadata": {},
   "outputs": [],
   "source": [
    "driver=webdriver.Chrome('chromedriver.exe')"
   ]
  },
  {
   "cell_type": "code",
   "execution_count": 143,
   "id": "bfcf565e",
   "metadata": {},
   "outputs": [],
   "source": [
    "from selenium.webdriver.common.by import By"
   ]
  },
  {
   "cell_type": "code",
   "execution_count": 144,
   "id": "3308e9fa",
   "metadata": {},
   "outputs": [],
   "source": [
    "url=' https://www.ambitionbox.com/'\n",
    "driver.get(url)"
   ]
  },
  {
   "cell_type": "code",
   "execution_count": 145,
   "id": "2245a906",
   "metadata": {},
   "outputs": [
    {
     "data": {
      "text/plain": [
       "<selenium.webdriver.remote.webelement.WebElement (session=\"85e0d57ee5ca09df552efb93a47e1771\", element=\"ef2dfb71-cda9-4df0-b7c3-caaab5c90835\")>"
      ]
     },
     "execution_count": 145,
     "metadata": {},
     "output_type": "execute_result"
    }
   ],
   "source": [
    "salaries=driver.find_element(By.XPATH,\"/html/body/div[1]/nav/nav/a[4]\")\n",
    "salaries"
   ]
  },
  {
   "cell_type": "code",
   "execution_count": 146,
   "id": "92e135fb",
   "metadata": {},
   "outputs": [],
   "source": [
    "salaries.click()"
   ]
  },
  {
   "cell_type": "code",
   "execution_count": 147,
   "id": "845f7fdb",
   "metadata": {},
   "outputs": [
    {
     "data": {
      "text/plain": [
       "<selenium.webdriver.remote.webelement.WebElement (session=\"85e0d57ee5ca09df552efb93a47e1771\", element=\"b2ec763d-fa30-45cb-be9c-3d03989afb69\")>"
      ]
     },
     "execution_count": 147,
     "metadata": {},
     "output_type": "execute_result"
    }
   ],
   "source": [
    "job_profile=driver.find_element(By.XPATH,\"/html/body/div/div/div/main/section[1]/div[2]/div[1]/span/input\")\n",
    "job_profile"
   ]
  },
  {
   "cell_type": "code",
   "execution_count": 149,
   "id": "745ecd58",
   "metadata": {},
   "outputs": [],
   "source": [
    "job_profile.send_keys(\"Data Scientist\")"
   ]
  },
  {
   "cell_type": "markdown",
   "id": "8e93cca0",
   "metadata": {},
   "source": [
    "# Scraping company name"
   ]
  },
  {
   "cell_type": "code",
   "execution_count": 151,
   "id": "27ff36be",
   "metadata": {},
   "outputs": [
    {
     "data": {
      "text/plain": [
       "25"
      ]
     },
     "execution_count": 151,
     "metadata": {},
     "output_type": "execute_result"
    }
   ],
   "source": [
    "title_tags=driver.find_elements(By.XPATH,'//div[@class=\"company-info\"]')\n",
    "\n",
    "len(title_tags)"
   ]
  },
  {
   "cell_type": "code",
   "execution_count": 152,
   "id": "fd06fa78",
   "metadata": {},
   "outputs": [
    {
     "data": {
      "text/plain": [
       "25"
      ]
     },
     "execution_count": 152,
     "metadata": {},
     "output_type": "execute_result"
    }
   ],
   "source": [
    "company_name=[]\n",
    "for i in title_tags:\n",
    "    company_name.append(i.text)\n",
    "    \n",
    "    \n",
    "len(company_name)"
   ]
  },
  {
   "cell_type": "code",
   "execution_count": 153,
   "id": "66ca1632",
   "metadata": {},
   "outputs": [
    {
     "data": {
      "text/plain": [
       "10"
      ]
     },
     "execution_count": 153,
     "metadata": {},
     "output_type": "execute_result"
    }
   ],
   "source": [
    "company_name=company_name[0:10]\n",
    "len(company_name)"
   ]
  },
  {
   "cell_type": "markdown",
   "id": "db6da779",
   "metadata": {},
   "source": [
    "# Scraping total salary record"
   ]
  },
  {
   "cell_type": "code",
   "execution_count": 154,
   "id": "ecea10ee",
   "metadata": {},
   "outputs": [
    {
     "data": {
      "text/plain": [
       "10"
      ]
     },
     "execution_count": 154,
     "metadata": {},
     "output_type": "execute_result"
    }
   ],
   "source": [
    "title_tags=driver.find_elements(By.XPATH,'//span[@class=\"datapoints\"]')\n",
    "\n",
    "len(title_tags)"
   ]
  },
  {
   "cell_type": "code",
   "execution_count": 155,
   "id": "e467b9dc",
   "metadata": {},
   "outputs": [
    {
     "data": {
      "text/plain": [
       "10"
      ]
     },
     "execution_count": 155,
     "metadata": {},
     "output_type": "execute_result"
    }
   ],
   "source": [
    "salary_record=[]\n",
    "for i in title_tags:\n",
    "    salary_record.append(i.text)\n",
    "    \n",
    "    \n",
    "len(salary_record)"
   ]
  },
  {
   "cell_type": "markdown",
   "id": "ceb60ea1",
   "metadata": {},
   "source": [
    "# Scrapin Experience required"
   ]
  },
  {
   "cell_type": "code",
   "execution_count": 157,
   "id": "b81af0f3",
   "metadata": {},
   "outputs": [
    {
     "data": {
      "text/plain": [
       "10"
      ]
     },
     "execution_count": 157,
     "metadata": {},
     "output_type": "execute_result"
    }
   ],
   "source": [
    "title_tags=driver.find_elements(By.XPATH,'//div[@class=\"sbold-list-header\"]')\n",
    "\n",
    "len(title_tags)"
   ]
  },
  {
   "cell_type": "code",
   "execution_count": 158,
   "id": "010e8848",
   "metadata": {},
   "outputs": [
    {
     "data": {
      "text/plain": [
       "10"
      ]
     },
     "execution_count": 158,
     "metadata": {},
     "output_type": "execute_result"
    }
   ],
   "source": [
    "exp_req=[]\n",
    "for i in title_tags:\n",
    "    exp_req.append(i.text)\n",
    "    \n",
    "    \n",
    "len(exp_req)"
   ]
  },
  {
   "cell_type": "markdown",
   "id": "9dbc44e4",
   "metadata": {},
   "source": [
    "# Scraping minimum salary"
   ]
  },
  {
   "cell_type": "code",
   "execution_count": 159,
   "id": "2a0b2985",
   "metadata": {},
   "outputs": [
    {
     "data": {
      "text/plain": [
       "20"
      ]
     },
     "execution_count": 159,
     "metadata": {},
     "output_type": "execute_result"
    }
   ],
   "source": [
    "title_tags=driver.find_elements(By.XPATH,'//div[@class=\"value body-medium\"]')\n",
    "\n",
    "len(title_tags)"
   ]
  },
  {
   "cell_type": "code",
   "execution_count": 160,
   "id": "4bbfeadf",
   "metadata": {},
   "outputs": [
    {
     "data": {
      "text/plain": [
       "20"
      ]
     },
     "execution_count": 160,
     "metadata": {},
     "output_type": "execute_result"
    }
   ],
   "source": [
    "min_sal=[]\n",
    "for i in title_tags:\n",
    "    min_sal.append(i.text)\n",
    "    \n",
    "    \n",
    "len(min_sal)"
   ]
  },
  {
   "cell_type": "code",
   "execution_count": 161,
   "id": "01ab0dbb",
   "metadata": {},
   "outputs": [
    {
     "data": {
      "text/plain": [
       "10"
      ]
     },
     "execution_count": 161,
     "metadata": {},
     "output_type": "execute_result"
    }
   ],
   "source": [
    "min_sal=min_sal[0:10]\n",
    "len(min_sal)"
   ]
  },
  {
   "cell_type": "markdown",
   "id": "c8536285",
   "metadata": {},
   "source": [
    "# Scraping Average salary"
   ]
  },
  {
   "cell_type": "code",
   "execution_count": 162,
   "id": "2f2e4088",
   "metadata": {},
   "outputs": [
    {
     "data": {
      "text/plain": [
       "10"
      ]
     },
     "execution_count": 162,
     "metadata": {},
     "output_type": "execute_result"
    }
   ],
   "source": [
    "title_tags=driver.find_elements(By.XPATH,'//p[@class=\"averageCtc\"]')\n",
    "\n",
    "len(title_tags)"
   ]
  },
  {
   "cell_type": "code",
   "execution_count": 163,
   "id": "3e01fce8",
   "metadata": {},
   "outputs": [
    {
     "data": {
      "text/plain": [
       "10"
      ]
     },
     "execution_count": 163,
     "metadata": {},
     "output_type": "execute_result"
    }
   ],
   "source": [
    "avg_sal=[]\n",
    "for i in title_tags:\n",
    "    avg_sal.append(i.text)\n",
    "    \n",
    "    \n",
    "len(avg_sal)"
   ]
  },
  {
   "cell_type": "markdown",
   "id": "5b3a02a9",
   "metadata": {},
   "source": [
    "# Scraping Maximum salary"
   ]
  },
  {
   "cell_type": "code",
   "execution_count": 164,
   "id": "bf4ba660",
   "metadata": {},
   "outputs": [
    {
     "data": {
      "text/plain": [
       "20"
      ]
     },
     "execution_count": 164,
     "metadata": {},
     "output_type": "execute_result"
    }
   ],
   "source": [
    "title_tags=driver.find_elements(By.XPATH,'//div[@class=\"value body-medium\"]')\n",
    "\n",
    "len(title_tags)"
   ]
  },
  {
   "cell_type": "code",
   "execution_count": 165,
   "id": "550e4941",
   "metadata": {},
   "outputs": [
    {
     "data": {
      "text/plain": [
       "20"
      ]
     },
     "execution_count": 165,
     "metadata": {},
     "output_type": "execute_result"
    }
   ],
   "source": [
    "max_sal=[]\n",
    "for i in title_tags:\n",
    "    max_sal.append(i.text)\n",
    "    \n",
    "    \n",
    "len(max_sal)"
   ]
  },
  {
   "cell_type": "code",
   "execution_count": 166,
   "id": "8c4838db",
   "metadata": {},
   "outputs": [
    {
     "data": {
      "text/plain": [
       "10"
      ]
     },
     "execution_count": 166,
     "metadata": {},
     "output_type": "execute_result"
    }
   ],
   "source": [
    "max_sal=max_sal[0:10]\n",
    "len(max_sal)"
   ]
  },
  {
   "cell_type": "code",
   "execution_count": 167,
   "id": "d8ce1554",
   "metadata": {},
   "outputs": [
    {
     "data": {
      "text/plain": [
       "(10, 10, 10, 10, 10, 10)"
      ]
     },
     "execution_count": 167,
     "metadata": {},
     "output_type": "execute_result"
    }
   ],
   "source": [
    "len(max_sal),len(avg_sal),len(min_sal),len(exp_req),len(salary_record),len(company_name)"
   ]
  },
  {
   "cell_type": "code",
   "execution_count": 170,
   "id": "a4668570",
   "metadata": {},
   "outputs": [
    {
     "data": {
      "text/html": [
       "<div>\n",
       "<style scoped>\n",
       "    .dataframe tbody tr th:only-of-type {\n",
       "        vertical-align: middle;\n",
       "    }\n",
       "\n",
       "    .dataframe tbody tr th {\n",
       "        vertical-align: top;\n",
       "    }\n",
       "\n",
       "    .dataframe thead th {\n",
       "        text-align: right;\n",
       "    }\n",
       "</style>\n",
       "<table border=\"1\" class=\"dataframe\">\n",
       "  <thead>\n",
       "    <tr style=\"text-align: right;\">\n",
       "      <th></th>\n",
       "      <th>COMPANY NAME</th>\n",
       "      <th>TOTAL SALARY RECORD</th>\n",
       "      <th>MINIMUM SALARY</th>\n",
       "      <th>AVERAGE SALARY</th>\n",
       "      <th>MAXIMUM SALARY</th>\n",
       "      <th>EXPERIENCE REQUIRED</th>\n",
       "    </tr>\n",
       "  </thead>\n",
       "  <tbody>\n",
       "    <tr>\n",
       "      <th>0</th>\n",
       "      <td>Walmart\\nData Scientist Salary\\n3 yrs experien...</td>\n",
       "      <td>(based on 12 salaries)</td>\n",
       "      <td>₹ 25.0L</td>\n",
       "      <td>₹ 30.6L</td>\n",
       "      <td>₹ 25.0L</td>\n",
       "      <td>3 yrs experience (based on 12 salaries)</td>\n",
       "    </tr>\n",
       "    <tr>\n",
       "      <th>1</th>\n",
       "      <td>Ab Inbev\\nData Scientist Salary\\n3-4 yrs exper...</td>\n",
       "      <td>(based on 33 salaries)</td>\n",
       "      <td>₹ 36.0L</td>\n",
       "      <td>₹ 20.8L</td>\n",
       "      <td>₹ 36.0L</td>\n",
       "      <td>3-4 yrs experience (based on 33 salaries)</td>\n",
       "    </tr>\n",
       "    <tr>\n",
       "      <th>2</th>\n",
       "      <td>ZS\\nData Scientist Salary\\n2 yrs experience (b...</td>\n",
       "      <td>(based on 15 salaries)</td>\n",
       "      <td>₹ 15.0L</td>\n",
       "      <td>₹ 16.7L</td>\n",
       "      <td>₹ 15.0L</td>\n",
       "      <td>2 yrs experience (based on 15 salaries)</td>\n",
       "    </tr>\n",
       "    <tr>\n",
       "      <th>3</th>\n",
       "      <td>Optum\\nData Scientist Salary\\n3-4 yrs experien...</td>\n",
       "      <td>(based on 32 salaries)</td>\n",
       "      <td>₹ 26.2L</td>\n",
       "      <td>₹ 15.9L</td>\n",
       "      <td>₹ 26.2L</td>\n",
       "      <td>3-4 yrs experience (based on 32 salaries)</td>\n",
       "    </tr>\n",
       "    <tr>\n",
       "      <th>4</th>\n",
       "      <td>Reliance Jio\\nData Scientist Salary\\n3-4 yrs e...</td>\n",
       "      <td>(based on 21 salaries)</td>\n",
       "      <td>₹ 11.0L</td>\n",
       "      <td>₹ 15.7L</td>\n",
       "      <td>₹ 11.0L</td>\n",
       "      <td>3-4 yrs experience (based on 21 salaries)</td>\n",
       "    </tr>\n",
       "    <tr>\n",
       "      <th>5</th>\n",
       "      <td>Fractal Analytics\\nData Scientist Salary\\n2-4 ...</td>\n",
       "      <td>(based on 89 salaries)</td>\n",
       "      <td>₹ 22.0L</td>\n",
       "      <td>₹ 15.5L</td>\n",
       "      <td>₹ 22.0L</td>\n",
       "      <td>2-4 yrs experience (based on 89 salaries)</td>\n",
       "    </tr>\n",
       "    <tr>\n",
       "      <th>6</th>\n",
       "      <td>Tiger Analytics\\nData Scientist Salary\\n2-4 yr...</td>\n",
       "      <td>(based on 51 salaries)</td>\n",
       "      <td>₹ 11.0L</td>\n",
       "      <td>₹ 14.8L</td>\n",
       "      <td>₹ 11.0L</td>\n",
       "      <td>2-4 yrs experience (based on 51 salaries)</td>\n",
       "    </tr>\n",
       "    <tr>\n",
       "      <th>7</th>\n",
       "      <td>UnitedHealth\\nData Scientist Salary\\n2-4 yrs e...</td>\n",
       "      <td>(based on 57 salaries)</td>\n",
       "      <td>₹ 22.5L</td>\n",
       "      <td>₹ 14.0L</td>\n",
       "      <td>₹ 22.5L</td>\n",
       "      <td>2-4 yrs experience (based on 57 salaries)</td>\n",
       "    </tr>\n",
       "    <tr>\n",
       "      <th>8</th>\n",
       "      <td>EXL Service\\nData Scientist Salary\\n3-4 yrs ex...</td>\n",
       "      <td>(based on 21 salaries)</td>\n",
       "      <td>₹ 5.6L</td>\n",
       "      <td>₹ 13.2L</td>\n",
       "      <td>₹ 5.6L</td>\n",
       "      <td>3-4 yrs experience (based on 21 salaries)</td>\n",
       "    </tr>\n",
       "    <tr>\n",
       "      <th>9</th>\n",
       "      <td>Deloitte\\nData Scientist Salary\\n2-4 yrs exper...</td>\n",
       "      <td>(based on 69 salaries)</td>\n",
       "      <td>₹ 26.2L</td>\n",
       "      <td>₹ 12.8L</td>\n",
       "      <td>₹ 26.2L</td>\n",
       "      <td>2-4 yrs experience (based on 69 salaries)</td>\n",
       "    </tr>\n",
       "  </tbody>\n",
       "</table>\n",
       "</div>"
      ],
      "text/plain": [
       "                                        COMPANY NAME     TOTAL SALARY RECORD  \\\n",
       "0  Walmart\\nData Scientist Salary\\n3 yrs experien...  (based on 12 salaries)   \n",
       "1  Ab Inbev\\nData Scientist Salary\\n3-4 yrs exper...  (based on 33 salaries)   \n",
       "2  ZS\\nData Scientist Salary\\n2 yrs experience (b...  (based on 15 salaries)   \n",
       "3  Optum\\nData Scientist Salary\\n3-4 yrs experien...  (based on 32 salaries)   \n",
       "4  Reliance Jio\\nData Scientist Salary\\n3-4 yrs e...  (based on 21 salaries)   \n",
       "5  Fractal Analytics\\nData Scientist Salary\\n2-4 ...  (based on 89 salaries)   \n",
       "6  Tiger Analytics\\nData Scientist Salary\\n2-4 yr...  (based on 51 salaries)   \n",
       "7  UnitedHealth\\nData Scientist Salary\\n2-4 yrs e...  (based on 57 salaries)   \n",
       "8  EXL Service\\nData Scientist Salary\\n3-4 yrs ex...  (based on 21 salaries)   \n",
       "9  Deloitte\\nData Scientist Salary\\n2-4 yrs exper...  (based on 69 salaries)   \n",
       "\n",
       "  MINIMUM SALARY AVERAGE SALARY MAXIMUM SALARY  \\\n",
       "0        ₹ 25.0L        ₹ 30.6L        ₹ 25.0L   \n",
       "1        ₹ 36.0L        ₹ 20.8L        ₹ 36.0L   \n",
       "2        ₹ 15.0L        ₹ 16.7L        ₹ 15.0L   \n",
       "3        ₹ 26.2L        ₹ 15.9L        ₹ 26.2L   \n",
       "4        ₹ 11.0L        ₹ 15.7L        ₹ 11.0L   \n",
       "5        ₹ 22.0L        ₹ 15.5L        ₹ 22.0L   \n",
       "6        ₹ 11.0L        ₹ 14.8L        ₹ 11.0L   \n",
       "7        ₹ 22.5L        ₹ 14.0L        ₹ 22.5L   \n",
       "8         ₹ 5.6L        ₹ 13.2L         ₹ 5.6L   \n",
       "9        ₹ 26.2L        ₹ 12.8L        ₹ 26.2L   \n",
       "\n",
       "                        EXPERIENCE REQUIRED   \n",
       "0    3 yrs experience (based on 12 salaries)  \n",
       "1  3-4 yrs experience (based on 33 salaries)  \n",
       "2    2 yrs experience (based on 15 salaries)  \n",
       "3  3-4 yrs experience (based on 32 salaries)  \n",
       "4  3-4 yrs experience (based on 21 salaries)  \n",
       "5  2-4 yrs experience (based on 89 salaries)  \n",
       "6  2-4 yrs experience (based on 51 salaries)  \n",
       "7  2-4 yrs experience (based on 57 salaries)  \n",
       "8  3-4 yrs experience (based on 21 salaries)  \n",
       "9  2-4 yrs experience (based on 69 salaries)  "
      ]
     },
     "execution_count": 170,
     "metadata": {},
     "output_type": "execute_result"
    }
   ],
   "source": [
    "df=pd.DataFrame()\n",
    "df['COMPANY NAME']= company_name\n",
    "df['TOTAL SALARY RECORD']= salary_record\n",
    "df['MINIMUM SALARY']= min_sal\n",
    "df['AVERAGE SALARY']= avg_sal\n",
    "df['MAXIMUM SALARY']= max_sal\n",
    "df['EXPERIENCE REQUIRED ']=exp_req\n",
    "df\n"
   ]
  },
  {
   "cell_type": "code",
   "execution_count": null,
   "id": "8045fa07",
   "metadata": {},
   "outputs": [],
   "source": []
  }
 ],
 "metadata": {
  "kernelspec": {
   "display_name": "Python 3 (ipykernel)",
   "language": "python",
   "name": "python3"
  },
  "language_info": {
   "codemirror_mode": {
    "name": "ipython",
    "version": 3
   },
   "file_extension": ".py",
   "mimetype": "text/x-python",
   "name": "python",
   "nbconvert_exporter": "python",
   "pygments_lexer": "ipython3",
   "version": "3.9.7"
  }
 },
 "nbformat": 4,
 "nbformat_minor": 5
}
